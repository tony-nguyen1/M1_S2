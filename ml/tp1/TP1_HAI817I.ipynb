{
 "cells": [
  {
   "cell_type": "markdown",
   "metadata": {
    "id": "8TrS005tL4IK"
   },
   "source": [
    "<H1>TP 1 - Analyse d'un jeu de données</H1>"
   ]
  },
  {
   "cell_type": "markdown",
   "metadata": {
    "id": "nSelmNSfL4IN"
   },
   "source": [
    "Nous allons dans ce TP analyser le jeu de données Titanic qui est très largement utilisé dans la communauté. Il concerne les informations concernant les personnes qui étaient à bord du Titanic.  \n",
    "Les différentes colonnes sont les suivantes :  \n",
    "    survival: Survival (0 = No; 1 = Yes)  \n",
    "    pclass: Passenger Class (1 = 1st; 2 = 2nd; 3 = 3rd)  \n",
    "    name: Name  \n",
    "    sex: Sex  \n",
    "    age: Age  \n",
    "    sibsp: Number of Siblings/Spouses Aboard  \n",
    "    parch: Number of Parents/Children Aboard  \n",
    "    ticket: Ticket Number  \n",
    "    fare: Passenger Fare  \n",
    "    cabin: Cabin  \n",
    "    embarked: Port of Embarkation (C = Cherbourg; Q = Queenstown; S = Southampton)  "
   ]
  },
  {
   "cell_type": "markdown",
   "metadata": {
    "id": "0ipZpM6RMEV7"
   },
   "source": [
    "## **Installation**\n"
   ]
  },
  {
   "cell_type": "markdown",
   "metadata": {
    "id": "y-Q8HasoMUjG"
   },
   "source": [
    "\n",
    "Avant de commencer, il est nécessaire de déjà posséder dans son environnement toutes les librairies utiles. Dans la seconde cellule nous importons toutes les librairies qui seront utiles à ce notebook. Il se peut que, lorsque vous lanciez l'éxecution de cette cellule, une soit absente. Dans ce cas il est nécessaire de l'installer. Pour cela dans la cellule suivante utiliser la commande :  \n",
    "\n",
    "*! pip install nom_librairie*  \n",
    "\n",
    "**Attention :** il est fortement conseillé lorsque l'une des librairies doit être installer de relancer le kernel de votre notebook.\n",
    "\n",
    "**Remarque :** même si toutes les librairies sont importées dès le début, les librairies utiles pour des fonctions présentées au cours de ce notebook sont ré-importées de manière à indiquer d'où elles viennent et ainsi faciliter la réutilisation de la fonction dans un autre projet."
   ]
  },
  {
   "cell_type": "code",
   "execution_count": null,
   "metadata": {
    "id": "Bw_tSSXWMa98"
   },
   "outputs": [
    {
     "name": "stdout",
     "output_type": "stream",
     "text": [
      "Defaulting to user installation because normal site-packages is not writeable\n",
      "Collecting google.colab\n",
      "  Downloading google-colab-1.0.0.tar.gz (72 kB)\n",
      "\u001b[2K     \u001b[38;2;114;156;31m━━━━━━━━━━━━━━━━━━━━━━━━━━━━━━━━━━━━━━━\u001b[0m \u001b[32m72.9/72.9 KB\u001b[0m \u001b[31m465.1 kB/s\u001b[0m eta \u001b[36m0:00:00\u001b[0m1m465.4 kB/s\u001b[0m eta \u001b[36m0:00:01\u001b[0m\n",
      "\u001b[?25h  Preparing metadata (setup.py) ... \u001b[?25ldone\n",
      "\u001b[?25hCollecting google-auth~=1.4.0\n",
      "  Downloading google_auth-1.4.2-py2.py3-none-any.whl (64 kB)\n",
      "\u001b[2K     \u001b[38;2;114;156;31m━━━━━━━━━━━━━━━━━━━━━━━━━━━━━━━━━━━━━━━\u001b[0m \u001b[32m64.2/64.2 KB\u001b[0m \u001b[31m931.8 kB/s\u001b[0m eta \u001b[36m0:00:00\u001b[0m1m916.5 kB/s\u001b[0m eta \u001b[36m0:00:01\u001b[0m\n",
      "\u001b[?25hCollecting ipykernel~=4.6.0\n",
      "  Downloading ipykernel-4.6.1-py3-none-any.whl (104 kB)\n",
      "\u001b[2K     \u001b[38;2;114;156;31m━━━━━━━━━━━━━━━━━━━━━━━━━━━━━━━━━━━━━━━\u001b[0m \u001b[32m104.5/104.5 KB\u001b[0m \u001b[31m1.2 MB/s\u001b[0m eta \u001b[36m0:00:00\u001b[0m MB/s\u001b[0m eta \u001b[36m0:00:01\u001b[0m:01\u001b[0m\n",
      "\u001b[?25hCollecting ipython~=5.5.0\n",
      "  Downloading ipython-5.5.0-py3-none-any.whl (758 kB)\n",
      "\u001b[2K     \u001b[38;2;114;156;31m━━━━━━━━━━━━━━━━━━━━━━━━━━━━━━━━━━━━━\u001b[0m \u001b[32m758.9/758.9 KB\u001b[0m \u001b[31m784.6 kB/s\u001b[0m eta \u001b[36m0:00:00\u001b[0m kB/s\u001b[0m eta \u001b[36m0:00:01\u001b[0m:01\u001b[0m\n",
      "\u001b[?25hCollecting notebook~=5.2.0\n",
      "  Downloading notebook-5.2.2-py2.py3-none-any.whl (8.0 MB)\n",
      "\u001b[2K     \u001b[38;2;114;156;31m━━━━━━━━━━━━━━━━━━━━━━━━━━━━━━━━━━━━━━━━\u001b[0m \u001b[32m8.0/8.0 MB\u001b[0m \u001b[31m1.4 MB/s\u001b[0m eta \u001b[36m0:00:00\u001b[0mm eta \u001b[36m0:00:01\u001b[0m0:01\u001b[0m:01\u001b[0m0m\n",
      "\u001b[?25hCollecting pandas~=0.24.0\n",
      "  Downloading pandas-0.24.2.tar.gz (11.8 MB)\n",
      "\u001b[2K     \u001b[38;2;114;156;31m━━━━━━━━━━━━━━━━━━━━━━━━━━━━━━━━━━━━━━━━\u001b[0m \u001b[32m11.8/11.8 MB\u001b[0m \u001b[31m4.9 MB/s\u001b[0m eta \u001b[36m0:00:00\u001b[0mm eta \u001b[36m0:00:01\u001b[0m[36m0:00:01\u001b[0m\n",
      "\u001b[?25h  Preparing metadata (setup.py) ... \u001b[?25ldone\n",
      "\u001b[?25hCollecting portpicker~=1.2.0\n",
      "  Downloading portpicker-1.2.0.tar.gz (17 kB)\n",
      "  Preparing metadata (setup.py) ... \u001b[?25ldone\n",
      "\u001b[?25hCollecting requests~=2.21.0\n",
      "  Downloading requests-2.21.0-py2.py3-none-any.whl (57 kB)\n",
      "\u001b[2K     \u001b[38;2;114;156;31m━━━━━━━━━━━━━━━━━━━━━━━━━━━━━━━━━━━━━━━━\u001b[0m \u001b[32m58.0/58.0 KB\u001b[0m \u001b[31m5.6 MB/s\u001b[0m eta \u001b[36m0:00:00\u001b[0m\n",
      "\u001b[?25hCollecting six~=1.12.0\n",
      "  Downloading six-1.12.0-py2.py3-none-any.whl (10 kB)\n",
      "Collecting tornado~=4.5.0\n",
      "  Downloading tornado-4.5.3.tar.gz (484 kB)\n",
      "\u001b[2K     \u001b[38;2;114;156;31m━━━━━━━━━━━━━━━━━━━━━━━━━━━━━━━━━━━━━━━\u001b[0m \u001b[32m484.2/484.2 KB\u001b[0m \u001b[31m7.6 MB/s\u001b[0m eta \u001b[36m0:00:00\u001b[0m31m11.0 MB/s\u001b[0m eta \u001b[36m0:00:01\u001b[0m\n",
      "\u001b[?25h  Preparing metadata (setup.py) ... \u001b[?25ldone\n",
      "\u001b[?25hCollecting cachetools>=2.0.0\n",
      "  Downloading cachetools-5.3.2-py3-none-any.whl (9.3 kB)\n",
      "Collecting rsa>=3.1.4\n",
      "  Downloading rsa-4.9-py3-none-any.whl (34 kB)\n",
      "Collecting pyasn1-modules>=0.2.1\n",
      "  Downloading pyasn1_modules-0.3.0-py2.py3-none-any.whl (181 kB)\n",
      "\u001b[2K     \u001b[38;2;114;156;31m━━━━━━━━━━━━━━━━━━━━━━━━━━━━━━━━━━━━━━━\u001b[0m \u001b[32m181.3/181.3 KB\u001b[0m \u001b[31m7.4 MB/s\u001b[0m eta \u001b[36m0:00:00\u001b[0m\n",
      "\u001b[?25hRequirement already satisfied: traitlets>=4.1.0 in /usr/lib/python3/dist-packages (from ipykernel~=4.6.0->google.colab) (5.1.1)\n",
      "Requirement already satisfied: jupyter-client in /usr/lib/python3/dist-packages (from ipykernel~=4.6.0->google.colab) (7.1.2)\n",
      "Requirement already satisfied: pexpect in /usr/lib/python3/dist-packages (from ipython~=5.5.0->google.colab) (4.8.0)\n",
      "Collecting prompt-toolkit<2.0.0,>=1.0.4\n",
      "  Downloading prompt_toolkit-1.0.18-py3-none-any.whl (245 kB)\n",
      "\u001b[2K     \u001b[38;2;114;156;31m━━━━━━━━━━━━━━━━━━━━━━━━━━━━━━━━━━━━━━━\u001b[0m \u001b[32m245.4/245.4 KB\u001b[0m \u001b[31m8.3 MB/s\u001b[0m eta \u001b[36m0:00:00\u001b[0m\n",
      "\u001b[?25hRequirement already satisfied: decorator in /usr/lib/python3/dist-packages (from ipython~=5.5.0->google.colab) (4.4.2)\n",
      "Requirement already satisfied: pickleshare in /usr/lib/python3/dist-packages (from ipython~=5.5.0->google.colab) (0.7.5)\n",
      "Collecting simplegeneric>0.8\n",
      "  Downloading simplegeneric-0.8.1.zip (12 kB)\n",
      "  Preparing metadata (setup.py) ... \u001b[?25ldone\n",
      "\u001b[?25hRequirement already satisfied: pygments in /usr/lib/python3/dist-packages (from ipython~=5.5.0->google.colab) (2.11.2)\n",
      "Requirement already satisfied: setuptools>=18.5 in /usr/lib/python3/dist-packages (from ipython~=5.5.0->google.colab) (59.6.0)\n",
      "Requirement already satisfied: jupyter-core in /usr/lib/python3/dist-packages (from notebook~=5.2.0->google.colab) (4.9.1)\n",
      "Requirement already satisfied: ipython-genutils in /usr/lib/python3/dist-packages (from notebook~=5.2.0->google.colab) (0.2.0)\n",
      "Requirement already satisfied: jinja2 in /usr/lib/python3/dist-packages (from notebook~=5.2.0->google.colab) (3.0.3)\n",
      "Requirement already satisfied: terminado>=0.3.3 in /usr/lib/python3/dist-packages (from notebook~=5.2.0->google.colab) (0.13.1)\n",
      "Requirement already satisfied: nbconvert in /usr/lib/python3/dist-packages (from notebook~=5.2.0->google.colab) (6.4.0)\n",
      "Requirement already satisfied: nbformat in /usr/lib/python3/dist-packages (from notebook~=5.2.0->google.colab) (5.1.3)\n",
      "Requirement already satisfied: numpy>=1.12.0 in /usr/lib/python3/dist-packages (from pandas~=0.24.0->google.colab) (1.21.5)\n",
      "Requirement already satisfied: python-dateutil>=2.5.0 in /home/tony/.local/lib/python3.10/site-packages (from pandas~=0.24.0->google.colab) (2.8.2)\n",
      "Requirement already satisfied: pytz>=2011k in /usr/lib/python3/dist-packages (from pandas~=0.24.0->google.colab) (2022.1)\n",
      "Collecting idna<2.9,>=2.5\n",
      "  Downloading idna-2.8-py2.py3-none-any.whl (58 kB)\n",
      "\u001b[2K     \u001b[38;2;114;156;31m━━━━━━━━━━━━━━━━━━━━━━━━━━━━━━━━━━━━━━━━\u001b[0m \u001b[32m58.6/58.6 KB\u001b[0m \u001b[31m5.5 MB/s\u001b[0m eta \u001b[36m0:00:00\u001b[0m\n",
      "\u001b[?25hRequirement already satisfied: certifi>=2017.4.17 in /usr/lib/python3/dist-packages (from requests~=2.21.0->google.colab) (2020.6.20)\n",
      "Collecting chardet<3.1.0,>=3.0.2\n",
      "  Downloading chardet-3.0.4-py2.py3-none-any.whl (133 kB)\n",
      "\u001b[2K     \u001b[38;2;114;156;31m━━━━━━━━━━━━━━━━━━━━━━━━━━━━━━━━━━━━━━━\u001b[0m \u001b[32m133.4/133.4 KB\u001b[0m \u001b[31m6.5 MB/s\u001b[0m eta \u001b[36m0:00:00\u001b[0m\n",
      "\u001b[?25hCollecting urllib3<1.25,>=1.21.1\n",
      "  Downloading urllib3-1.24.3-py2.py3-none-any.whl (118 kB)\n",
      "\u001b[2K     \u001b[38;2;114;156;31m━━━━━━━━━━━━━━━━━━━━━━━━━━━━━━━━━━━━━━━\u001b[0m \u001b[32m118.8/118.8 KB\u001b[0m \u001b[31m4.6 MB/s\u001b[0m eta \u001b[36m0:00:00\u001b[0m\n",
      "\u001b[?25hRequirement already satisfied: wcwidth in /usr/lib/python3/dist-packages (from prompt-toolkit<2.0.0,>=1.0.4->ipython~=5.5.0->google.colab) (0.2.5)\n",
      "Collecting pyasn1<0.6.0,>=0.4.6\n",
      "  Downloading pyasn1-0.5.1-py2.py3-none-any.whl (84 kB)\n",
      "\u001b[2K     \u001b[38;2;114;156;31m━━━━━━━━━━━━━━━━━━━━━━━━━━━━━━━━━━━━━━━━\u001b[0m \u001b[32m84.9/84.9 KB\u001b[0m \u001b[31m6.4 MB/s\u001b[0m eta \u001b[36m0:00:00\u001b[0m\n",
      "\u001b[?25hBuilding wheels for collected packages: google.colab, pandas, portpicker, tornado, simplegeneric\n",
      "  Building wheel for google.colab (setup.py) ... \u001b[?25ldone\n",
      "\u001b[?25h  Created wheel for google.colab: filename=google_colab-1.0.0-py2.py3-none-any.whl size=102275 sha256=f653460f97965df49cf535c36e40dbc5aadd991504389669878eb6bf59e6d192\n",
      "  Stored in directory: /home/tony/.cache/pip/wheels/bf/ed/8e/5d95a614975eba0e18a249c8a3fad29524f9011bf1ced6cafa\n",
      "  Building wheel for pandas (setup.py) ... \u001b[?25lerror\n",
      "  \u001b[1;31merror\u001b[0m: \u001b[1msubprocess-exited-with-error\u001b[0m\n",
      "  \n",
      "  \u001b[31m×\u001b[0m \u001b[32mpython setup.py bdist_wheel\u001b[0m did not run successfully.\n",
      "  \u001b[31m│\u001b[0m exit code: \u001b[1;36m1\u001b[0m\n",
      "  \u001b[31m╰─>\u001b[0m \u001b[31m[1101 lines of output]\u001b[0m\n",
      "  \u001b[31m   \u001b[0m running bdist_wheel\n",
      "  \u001b[31m   \u001b[0m running build\n",
      "  \u001b[31m   \u001b[0m running build_py\n",
      "  \u001b[31m   \u001b[0m creating build\n",
      "  \u001b[31m   \u001b[0m creating build/lib.linux-x86_64-3.10\n",
      "  \u001b[31m   \u001b[0m creating build/lib.linux-x86_64-3.10/pandas\n",
      "  \u001b[31m   \u001b[0m copying pandas/conftest.py -> build/lib.linux-x86_64-3.10/pandas\n",
      "  \u001b[31m   \u001b[0m copying pandas/testing.py -> build/lib.linux-x86_64-3.10/pandas\n",
      "  \u001b[31m   \u001b[0m copying pandas/__init__.py -> build/lib.linux-x86_64-3.10/pandas\n",
      "  \u001b[31m   \u001b[0m copying pandas/_version.py -> build/lib.linux-x86_64-3.10/pandas\n",
      "  \u001b[31m   \u001b[0m creating build/lib.linux-x86_64-3.10/pandas/_libs\n",
      "  \u001b[31m   \u001b[0m copying pandas/_libs/__init__.py -> build/lib.linux-x86_64-3.10/pandas/_libs\n",
      "  \u001b[31m   \u001b[0m creating build/lib.linux-x86_64-3.10/pandas/compat\n",
      "  \u001b[31m   \u001b[0m copying pandas/compat/pickle_compat.py -> build/lib.linux-x86_64-3.10/pandas/compat\n",
      "  \u001b[31m   \u001b[0m copying pandas/compat/chainmap_impl.py -> build/lib.linux-x86_64-3.10/pandas/compat\n",
      "  \u001b[31m   \u001b[0m copying pandas/compat/chainmap.py -> build/lib.linux-x86_64-3.10/pandas/compat\n",
      "  \u001b[31m   \u001b[0m copying pandas/compat/__init__.py -> build/lib.linux-x86_64-3.10/pandas/compat\n",
      "  \u001b[31m   \u001b[0m creating build/lib.linux-x86_64-3.10/pandas/plotting\n",
      "  \u001b[31m   \u001b[0m copying pandas/plotting/_misc.py -> build/lib.linux-x86_64-3.10/pandas/plotting\n",
      "  \u001b[31m   \u001b[0m copying pandas/plotting/_core.py -> build/lib.linux-x86_64-3.10/pandas/plotting\n",
      "  \u001b[31m   \u001b[0m copying pandas/plotting/_timeseries.py -> build/lib.linux-x86_64-3.10/pandas/plotting\n",
      "  \u001b[31m   \u001b[0m copying pandas/plotting/_converter.py -> build/lib.linux-x86_64-3.10/pandas/plotting\n",
      "  \u001b[31m   \u001b[0m copying pandas/plotting/__init__.py -> build/lib.linux-x86_64-3.10/pandas/plotting\n",
      "  \u001b[31m   \u001b[0m copying pandas/plotting/_compat.py -> build/lib.linux-x86_64-3.10/pandas/plotting\n",
      "  \u001b[31m   \u001b[0m copying pandas/plotting/_style.py -> build/lib.linux-x86_64-3.10/pandas/plotting\n",
      "  \u001b[31m   \u001b[0m copying pandas/plotting/_tools.py -> build/lib.linux-x86_64-3.10/pandas/plotting\n",
      "  \u001b[31m   \u001b[0m creating build/lib.linux-x86_64-3.10/pandas/core\n",
      "  \u001b[31m   \u001b[0m copying pandas/core/base.py -> build/lib.linux-x86_64-3.10/pandas/core\n",
      "  \u001b[31m   \u001b[0m copying pandas/core/sorting.py -> build/lib.linux-x86_64-3.10/pandas/core\n",
      "  \u001b[31m   \u001b[0m copying pandas/core/config_init.py -> build/lib.linux-x86_64-3.10/pandas/core\n",
      "  \u001b[31m   \u001b[0m copying pandas/core/missing.py -> build/lib.linux-x86_64-3.10/pandas/core\n",
      "  \u001b[31m   \u001b[0m copying pandas/core/nanops.py -> build/lib.linux-x86_64-3.10/pandas/core\n",
      "  \u001b[31m   \u001b[0m copying pandas/core/panel.py -> build/lib.linux-x86_64-3.10/pandas/core\n",
      "  \u001b[31m   \u001b[0m copying pandas/core/indexing.py -> build/lib.linux-x86_64-3.10/pandas/core\n",
      "  \u001b[31m   \u001b[0m copying pandas/core/categorical.py -> build/lib.linux-x86_64-3.10/pandas/core\n",
      "  \u001b[31m   \u001b[0m copying pandas/core/algorithms.py -> build/lib.linux-x86_64-3.10/pandas/core\n",
      "  \u001b[31m   \u001b[0m copying pandas/core/common.py -> build/lib.linux-x86_64-3.10/pandas/core\n",
      "  \u001b[31m   \u001b[0m copying pandas/core/config.py -> build/lib.linux-x86_64-3.10/pandas/core\n",
      "  \u001b[31m   \u001b[0m copying pandas/core/generic.py -> build/lib.linux-x86_64-3.10/pandas/core\n",
      "  \u001b[31m   \u001b[0m copying pandas/core/strings.py -> build/lib.linux-x86_64-3.10/pandas/core\n",
      "  \u001b[31m   \u001b[0m copying pandas/core/window.py -> build/lib.linux-x86_64-3.10/pandas/core\n",
      "  \u001b[31m   \u001b[0m copying pandas/core/ops.py -> build/lib.linux-x86_64-3.10/pandas/core\n",
      "  \u001b[31m   \u001b[0m copying pandas/core/index.py -> build/lib.linux-x86_64-3.10/pandas/core\n",
      "  \u001b[31m   \u001b[0m copying pandas/core/apply.py -> build/lib.linux-x86_64-3.10/pandas/core\n",
      "  \u001b[31m   \u001b[0m copying pandas/core/api.py -> build/lib.linux-x86_64-3.10/pandas/core\n",
      "  \u001b[31m   \u001b[0m copying pandas/core/frame.py -> build/lib.linux-x86_64-3.10/pandas/core\n",
      "  \u001b[31m   \u001b[0m copying pandas/core/series.py -> build/lib.linux-x86_64-3.10/pandas/core\n",
      "  \u001b[31m   \u001b[0m copying pandas/core/accessor.py -> build/lib.linux-x86_64-3.10/pandas/core\n",
      "  \u001b[31m   \u001b[0m copying pandas/core/__init__.py -> build/lib.linux-x86_64-3.10/pandas/core\n",
      "  \u001b[31m   \u001b[0m copying pandas/core/resample.py -> build/lib.linux-x86_64-3.10/pandas/core\n",
      "  \u001b[31m   \u001b[0m creating build/lib.linux-x86_64-3.10/pandas/tseries\n",
      "  \u001b[31m   \u001b[0m copying pandas/tseries/converter.py -> build/lib.linux-x86_64-3.10/pandas/tseries\n",
      "  \u001b[31m   \u001b[0m copying pandas/tseries/offsets.py -> build/lib.linux-x86_64-3.10/pandas/tseries\n",
      "  \u001b[31m   \u001b[0m copying pandas/tseries/plotting.py -> build/lib.linux-x86_64-3.10/pandas/tseries\n",
      "  \u001b[31m   \u001b[0m copying pandas/tseries/api.py -> build/lib.linux-x86_64-3.10/pandas/tseries\n",
      "  \u001b[31m   \u001b[0m copying pandas/tseries/__init__.py -> build/lib.linux-x86_64-3.10/pandas/tseries\n",
      "  \u001b[31m   \u001b[0m copying pandas/tseries/holiday.py -> build/lib.linux-x86_64-3.10/pandas/tseries\n",
      "  \u001b[31m   \u001b[0m copying pandas/tseries/frequencies.py -> build/lib.linux-x86_64-3.10/pandas/tseries\n",
      "  \u001b[31m   \u001b[0m creating build/lib.linux-x86_64-3.10/pandas/util\n",
      "  \u001b[31m   \u001b[0m copying pandas/util/_depr_module.py -> build/lib.linux-x86_64-3.10/pandas/util\n",
      "  \u001b[31m   \u001b[0m copying pandas/util/_decorators.py -> build/lib.linux-x86_64-3.10/pandas/util\n",
      "  \u001b[31m   \u001b[0m copying pandas/util/testing.py -> build/lib.linux-x86_64-3.10/pandas/util\n",
      "  \u001b[31m   \u001b[0m copying pandas/util/_tester.py -> build/lib.linux-x86_64-3.10/pandas/util\n",
      "  \u001b[31m   \u001b[0m copying pandas/util/_doctools.py -> build/lib.linux-x86_64-3.10/pandas/util\n",
      "  \u001b[31m   \u001b[0m copying pandas/util/_exceptions.py -> build/lib.linux-x86_64-3.10/pandas/util\n",
      "  \u001b[31m   \u001b[0m copying pandas/util/_print_versions.py -> build/lib.linux-x86_64-3.10/pandas/util\n",
      "  \u001b[31m   \u001b[0m copying pandas/util/_test_decorators.py -> build/lib.linux-x86_64-3.10/pandas/util\n",
      "  \u001b[31m   \u001b[0m copying pandas/util/_validators.py -> build/lib.linux-x86_64-3.10/pandas/util\n",
      "  \u001b[31m   \u001b[0m copying pandas/util/__init__.py -> build/lib.linux-x86_64-3.10/pandas/util\n",
      "  \u001b[31m   \u001b[0m creating build/lib.linux-x86_64-3.10/pandas/api\n",
      "  \u001b[31m   \u001b[0m copying pandas/api/__init__.py -> build/lib.linux-x86_64-3.10/pandas/api\n",
      "  \u001b[31m   \u001b[0m creating build/lib.linux-x86_64-3.10/pandas/tests\n",
      "  \u001b[31m   \u001b[0m copying pandas/tests/test_common.py -> build/lib.linux-x86_64-3.10/pandas/tests\n",
      "  \u001b[31m   \u001b[0m copying pandas/tests/test_take.py -> build/lib.linux-x86_64-3.10/pandas/tests\n",
      "  \u001b[31m   \u001b[0m copying pandas/tests/test_algos.py -> build/lib.linux-x86_64-3.10/pandas/tests\n",
      "  \u001b[31m   \u001b[0m copying pandas/tests/test_multilevel.py -> build/lib.linux-x86_64-3.10/pandas/tests\n",
      "  \u001b[31m   \u001b[0m copying pandas/tests/test_compat.py -> build/lib.linux-x86_64-3.10/pandas/tests\n",
      "  \u001b[31m   \u001b[0m copying pandas/tests/test_window.py -> build/lib.linux-x86_64-3.10/pandas/tests\n",
      "  \u001b[31m   \u001b[0m copying pandas/tests/test_errors.py -> build/lib.linux-x86_64-3.10/pandas/tests\n",
      "  \u001b[31m   \u001b[0m copying pandas/tests/test_expressions.py -> build/lib.linux-x86_64-3.10/pandas/tests\n",
      "  \u001b[31m   \u001b[0m copying pandas/tests/test_panel.py -> build/lib.linux-x86_64-3.10/pandas/tests\n",
      "  \u001b[31m   \u001b[0m copying pandas/tests/test_register_accessor.py -> build/lib.linux-x86_64-3.10/pandas/tests\n",
      "  \u001b[31m   \u001b[0m copying pandas/tests/test_join.py -> build/lib.linux-x86_64-3.10/pandas/tests\n",
      "  \u001b[31m   \u001b[0m copying pandas/tests/test_base.py -> build/lib.linux-x86_64-3.10/pandas/tests\n",
      "  \u001b[31m   \u001b[0m copying pandas/tests/test_sorting.py -> build/lib.linux-x86_64-3.10/pandas/tests\n",
      "  \u001b[31m   \u001b[0m copying pandas/tests/test_lib.py -> build/lib.linux-x86_64-3.10/pandas/tests\n",
      "  \u001b[31m   \u001b[0m copying pandas/tests/__init__.py -> build/lib.linux-x86_64-3.10/pandas/tests\n",
      "  \u001b[31m   \u001b[0m copying pandas/tests/test_nanops.py -> build/lib.linux-x86_64-3.10/pandas/tests\n",
      "  \u001b[31m   \u001b[0m copying pandas/tests/test_strings.py -> build/lib.linux-x86_64-3.10/pandas/tests\n",
      "  \u001b[31m   \u001b[0m copying pandas/tests/test_downstream.py -> build/lib.linux-x86_64-3.10/pandas/tests\n",
      "  \u001b[31m   \u001b[0m copying pandas/tests/test_config.py -> build/lib.linux-x86_64-3.10/pandas/tests\n",
      "  \u001b[31m   \u001b[0m creating build/lib.linux-x86_64-3.10/pandas/errors\n",
      "  \u001b[31m   \u001b[0m copying pandas/errors/__init__.py -> build/lib.linux-x86_64-3.10/pandas/errors\n",
      "  \u001b[31m   \u001b[0m creating build/lib.linux-x86_64-3.10/pandas/io\n",
      "  \u001b[31m   \u001b[0m copying pandas/io/clipboards.py -> build/lib.linux-x86_64-3.10/pandas/io\n",
      "  \u001b[31m   \u001b[0m copying pandas/io/gbq.py -> build/lib.linux-x86_64-3.10/pandas/io\n",
      "  \u001b[31m   \u001b[0m copying pandas/io/sql.py -> build/lib.linux-x86_64-3.10/pandas/io\n",
      "  \u001b[31m   \u001b[0m copying pandas/io/pytables.py -> build/lib.linux-x86_64-3.10/pandas/io\n",
      "  \u001b[31m   \u001b[0m copying pandas/io/html.py -> build/lib.linux-x86_64-3.10/pandas/io\n",
      "  \u001b[31m   \u001b[0m copying pandas/io/stata.py -> build/lib.linux-x86_64-3.10/pandas/io\n",
      "  \u001b[31m   \u001b[0m copying pandas/io/common.py -> build/lib.linux-x86_64-3.10/pandas/io\n",
      "  \u001b[31m   \u001b[0m copying pandas/io/feather_format.py -> build/lib.linux-x86_64-3.10/pandas/io\n",
      "  \u001b[31m   \u001b[0m copying pandas/io/parquet.py -> build/lib.linux-x86_64-3.10/pandas/io\n",
      "  \u001b[31m   \u001b[0m copying pandas/io/pickle.py -> build/lib.linux-x86_64-3.10/pandas/io\n",
      "  \u001b[31m   \u001b[0m copying pandas/io/parsers.py -> build/lib.linux-x86_64-3.10/pandas/io\n",
      "  \u001b[31m   \u001b[0m copying pandas/io/api.py -> build/lib.linux-x86_64-3.10/pandas/io\n",
      "  \u001b[31m   \u001b[0m copying pandas/io/packers.py -> build/lib.linux-x86_64-3.10/pandas/io\n",
      "  \u001b[31m   \u001b[0m copying pandas/io/date_converters.py -> build/lib.linux-x86_64-3.10/pandas/io\n",
      "  \u001b[31m   \u001b[0m copying pandas/io/__init__.py -> build/lib.linux-x86_64-3.10/pandas/io\n",
      "  \u001b[31m   \u001b[0m copying pandas/io/s3.py -> build/lib.linux-x86_64-3.10/pandas/io\n",
      "  \u001b[31m   \u001b[0m copying pandas/io/gcs.py -> build/lib.linux-x86_64-3.10/pandas/io\n",
      "  \u001b[31m   \u001b[0m copying pandas/io/excel.py -> build/lib.linux-x86_64-3.10/pandas/io\n",
      "  \u001b[31m   \u001b[0m creating build/lib.linux-x86_64-3.10/pandas/arrays\n",
      "  \u001b[31m   \u001b[0m copying pandas/arrays/__init__.py -> build/lib.linux-x86_64-3.10/pandas/arrays\n",
      "  \u001b[31m   \u001b[0m creating build/lib.linux-x86_64-3.10/pandas/_libs/tslibs\n",
      "  \u001b[31m   \u001b[0m copying pandas/_libs/tslibs/__init__.py -> build/lib.linux-x86_64-3.10/pandas/_libs/tslibs\n",
      "  \u001b[31m   \u001b[0m creating build/lib.linux-x86_64-3.10/pandas/compat/numpy\n",
      "  \u001b[31m   \u001b[0m copying pandas/compat/numpy/__init__.py -> build/lib.linux-x86_64-3.10/pandas/compat/numpy\n",
      "  \u001b[31m   \u001b[0m copying pandas/compat/numpy/function.py -> build/lib.linux-x86_64-3.10/pandas/compat/numpy\n",
      "  \u001b[31m   \u001b[0m creating build/lib.linux-x86_64-3.10/pandas/core/groupby\n",
      "  \u001b[31m   \u001b[0m copying pandas/core/groupby/base.py -> build/lib.linux-x86_64-3.10/pandas/core/groupby\n",
      "  \u001b[31m   \u001b[0m copying pandas/core/groupby/groupby.py -> build/lib.linux-x86_64-3.10/pandas/core/groupby\n",
      "  \u001b[31m   \u001b[0m copying pandas/core/groupby/categorical.py -> build/lib.linux-x86_64-3.10/pandas/core/groupby\n",
      "  \u001b[31m   \u001b[0m copying pandas/core/groupby/generic.py -> build/lib.linux-x86_64-3.10/pandas/core/groupby\n",
      "  \u001b[31m   \u001b[0m copying pandas/core/groupby/ops.py -> build/lib.linux-x86_64-3.10/pandas/core/groupby\n",
      "  \u001b[31m   \u001b[0m copying pandas/core/groupby/__init__.py -> build/lib.linux-x86_64-3.10/pandas/core/groupby\n",
      "  \u001b[31m   \u001b[0m copying pandas/core/groupby/grouper.py -> build/lib.linux-x86_64-3.10/pandas/core/groupby\n",
      "  \u001b[31m   \u001b[0m creating build/lib.linux-x86_64-3.10/pandas/core/computation\n",
      "  \u001b[31m   \u001b[0m copying pandas/core/computation/pytables.py -> build/lib.linux-x86_64-3.10/pandas/core/computation\n",
      "  \u001b[31m   \u001b[0m copying pandas/core/computation/expressions.py -> build/lib.linux-x86_64-3.10/pandas/core/computation\n",
      "  \u001b[31m   \u001b[0m copying pandas/core/computation/common.py -> build/lib.linux-x86_64-3.10/pandas/core/computation\n",
      "  \u001b[31m   \u001b[0m copying pandas/core/computation/ops.py -> build/lib.linux-x86_64-3.10/pandas/core/computation\n",
      "  \u001b[31m   \u001b[0m copying pandas/core/computation/engines.py -> build/lib.linux-x86_64-3.10/pandas/core/computation\n",
      "  \u001b[31m   \u001b[0m copying pandas/core/computation/check.py -> build/lib.linux-x86_64-3.10/pandas/core/computation\n",
      "  \u001b[31m   \u001b[0m copying pandas/core/computation/scope.py -> build/lib.linux-x86_64-3.10/pandas/core/computation\n",
      "  \u001b[31m   \u001b[0m copying pandas/core/computation/align.py -> build/lib.linux-x86_64-3.10/pandas/core/computation\n",
      "  \u001b[31m   \u001b[0m copying pandas/core/computation/api.py -> build/lib.linux-x86_64-3.10/pandas/core/computation\n",
      "  \u001b[31m   \u001b[0m copying pandas/core/computation/eval.py -> build/lib.linux-x86_64-3.10/pandas/core/computation\n",
      "  \u001b[31m   \u001b[0m copying pandas/core/computation/__init__.py -> build/lib.linux-x86_64-3.10/pandas/core/computation\n",
      "  \u001b[31m   \u001b[0m copying pandas/core/computation/expr.py -> build/lib.linux-x86_64-3.10/pandas/core/computation\n",
      "  \u001b[31m   \u001b[0m creating build/lib.linux-x86_64-3.10/pandas/core/reshape\n",
      "  \u001b[31m   \u001b[0m copying pandas/core/reshape/tile.py -> build/lib.linux-x86_64-3.10/pandas/core/reshape\n",
      "  \u001b[31m   \u001b[0m copying pandas/core/reshape/pivot.py -> build/lib.linux-x86_64-3.10/pandas/core/reshape\n",
      "  \u001b[31m   \u001b[0m copying pandas/core/reshape/concat.py -> build/lib.linux-x86_64-3.10/pandas/core/reshape\n",
      "  \u001b[31m   \u001b[0m copying pandas/core/reshape/util.py -> build/lib.linux-x86_64-3.10/pandas/core/reshape\n",
      "  \u001b[31m   \u001b[0m copying pandas/core/reshape/melt.py -> build/lib.linux-x86_64-3.10/pandas/core/reshape\n",
      "  \u001b[31m   \u001b[0m copying pandas/core/reshape/api.py -> build/lib.linux-x86_64-3.10/pandas/core/reshape\n",
      "  \u001b[31m   \u001b[0m copying pandas/core/reshape/merge.py -> build/lib.linux-x86_64-3.10/pandas/core/reshape\n",
      "  \u001b[31m   \u001b[0m copying pandas/core/reshape/__init__.py -> build/lib.linux-x86_64-3.10/pandas/core/reshape\n",
      "  \u001b[31m   \u001b[0m copying pandas/core/reshape/reshape.py -> build/lib.linux-x86_64-3.10/pandas/core/reshape\n",
      "  \u001b[31m   \u001b[0m creating build/lib.linux-x86_64-3.10/pandas/core/internals\n",
      "  \u001b[31m   \u001b[0m copying pandas/core/internals/blocks.py -> build/lib.linux-x86_64-3.10/pandas/core/internals\n",
      "  \u001b[31m   \u001b[0m copying pandas/core/internals/concat.py -> build/lib.linux-x86_64-3.10/pandas/core/internals\n",
      "  \u001b[31m   \u001b[0m copying pandas/core/internals/managers.py -> build/lib.linux-x86_64-3.10/pandas/core/internals\n",
      "  \u001b[31m   \u001b[0m copying pandas/core/internals/__init__.py -> build/lib.linux-x86_64-3.10/pandas/core/internals\n",
      "  \u001b[31m   \u001b[0m copying pandas/core/internals/construction.py -> build/lib.linux-x86_64-3.10/pandas/core/internals\n",
      "  \u001b[31m   \u001b[0m copying pandas/core/internals/arrays.py -> build/lib.linux-x86_64-3.10/pandas/core/internals\n",
      "  \u001b[31m   \u001b[0m creating build/lib.linux-x86_64-3.10/pandas/core/util\n",
      "  \u001b[31m   \u001b[0m copying pandas/core/util/__init__.py -> build/lib.linux-x86_64-3.10/pandas/core/util\n",
      "  \u001b[31m   \u001b[0m copying pandas/core/util/hashing.py -> build/lib.linux-x86_64-3.10/pandas/core/util\n",
      "  \u001b[31m   \u001b[0m creating build/lib.linux-x86_64-3.10/pandas/core/sparse\n",
      "  \u001b[31m   \u001b[0m copying pandas/core/sparse/scipy_sparse.py -> build/lib.linux-x86_64-3.10/pandas/core/sparse\n",
      "  \u001b[31m   \u001b[0m copying pandas/core/sparse/api.py -> build/lib.linux-x86_64-3.10/pandas/core/sparse\n",
      "  \u001b[31m   \u001b[0m copying pandas/core/sparse/frame.py -> build/lib.linux-x86_64-3.10/pandas/core/sparse\n",
      "  \u001b[31m   \u001b[0m copying pandas/core/sparse/series.py -> build/lib.linux-x86_64-3.10/pandas/core/sparse\n",
      "  \u001b[31m   \u001b[0m copying pandas/core/sparse/__init__.py -> build/lib.linux-x86_64-3.10/pandas/core/sparse\n",
      "  \u001b[31m   \u001b[0m creating build/lib.linux-x86_64-3.10/pandas/core/tools\n",
      "  \u001b[31m   \u001b[0m copying pandas/core/tools/timedeltas.py -> build/lib.linux-x86_64-3.10/pandas/core/tools\n",
      "  \u001b[31m   \u001b[0m copying pandas/core/tools/__init__.py -> build/lib.linux-x86_64-3.10/pandas/core/tools\n",
      "  \u001b[31m   \u001b[0m copying pandas/core/tools/numeric.py -> build/lib.linux-x86_64-3.10/pandas/core/tools\n",
      "  \u001b[31m   \u001b[0m copying pandas/core/tools/datetimes.py -> build/lib.linux-x86_64-3.10/pandas/core/tools\n",
      "  \u001b[31m   \u001b[0m creating build/lib.linux-x86_64-3.10/pandas/core/indexes\n",
      "  \u001b[31m   \u001b[0m copying pandas/core/indexes/base.py -> build/lib.linux-x86_64-3.10/pandas/core/indexes\n",
      "  \u001b[31m   \u001b[0m copying pandas/core/indexes/range.py -> build/lib.linux-x86_64-3.10/pandas/core/indexes\n",
      "  \u001b[31m   \u001b[0m copying pandas/core/indexes/interval.py -> build/lib.linux-x86_64-3.10/pandas/core/indexes\n",
      "  \u001b[31m   \u001b[0m copying pandas/core/indexes/multi.py -> build/lib.linux-x86_64-3.10/pandas/core/indexes\n",
      "  \u001b[31m   \u001b[0m copying pandas/core/indexes/accessors.py -> build/lib.linux-x86_64-3.10/pandas/core/indexes\n",
      "  \u001b[31m   \u001b[0m copying pandas/core/indexes/period.py -> build/lib.linux-x86_64-3.10/pandas/core/indexes\n",
      "  \u001b[31m   \u001b[0m copying pandas/core/indexes/frozen.py -> build/lib.linux-x86_64-3.10/pandas/core/indexes\n",
      "  \u001b[31m   \u001b[0m copying pandas/core/indexes/datetimelike.py -> build/lib.linux-x86_64-3.10/pandas/core/indexes\n",
      "  \u001b[31m   \u001b[0m copying pandas/core/indexes/timedeltas.py -> build/lib.linux-x86_64-3.10/pandas/core/indexes\n",
      "  \u001b[31m   \u001b[0m copying pandas/core/indexes/category.py -> build/lib.linux-x86_64-3.10/pandas/core/indexes\n",
      "  \u001b[31m   \u001b[0m copying pandas/core/indexes/api.py -> build/lib.linux-x86_64-3.10/pandas/core/indexes\n",
      "  \u001b[31m   \u001b[0m copying pandas/core/indexes/__init__.py -> build/lib.linux-x86_64-3.10/pandas/core/indexes\n",
      "  \u001b[31m   \u001b[0m copying pandas/core/indexes/numeric.py -> build/lib.linux-x86_64-3.10/pandas/core/indexes\n",
      "  \u001b[31m   \u001b[0m copying pandas/core/indexes/datetimes.py -> build/lib.linux-x86_64-3.10/pandas/core/indexes\n",
      "  \u001b[31m   \u001b[0m creating build/lib.linux-x86_64-3.10/pandas/core/arrays\n",
      "  \u001b[31m   \u001b[0m copying pandas/core/arrays/base.py -> build/lib.linux-x86_64-3.10/pandas/core/arrays\n",
      "  \u001b[31m   \u001b[0m copying pandas/core/arrays/interval.py -> build/lib.linux-x86_64-3.10/pandas/core/arrays\n",
      "  \u001b[31m   \u001b[0m copying pandas/core/arrays/categorical.py -> build/lib.linux-x86_64-3.10/pandas/core/arrays\n",
      "  \u001b[31m   \u001b[0m copying pandas/core/arrays/sparse.py -> build/lib.linux-x86_64-3.10/pandas/core/arrays\n",
      "  \u001b[31m   \u001b[0m copying pandas/core/arrays/array_.py -> build/lib.linux-x86_64-3.10/pandas/core/arrays\n",
      "  \u001b[31m   \u001b[0m copying pandas/core/arrays/integer.py -> build/lib.linux-x86_64-3.10/pandas/core/arrays\n",
      "  \u001b[31m   \u001b[0m copying pandas/core/arrays/period.py -> build/lib.linux-x86_64-3.10/pandas/core/arrays\n",
      "  \u001b[31m   \u001b[0m copying pandas/core/arrays/numpy_.py -> build/lib.linux-x86_64-3.10/pandas/core/arrays\n",
      "  \u001b[31m   \u001b[0m copying pandas/core/arrays/datetimelike.py -> build/lib.linux-x86_64-3.10/pandas/core/arrays\n",
      "  \u001b[31m   \u001b[0m copying pandas/core/arrays/timedeltas.py -> build/lib.linux-x86_64-3.10/pandas/core/arrays\n",
      "  \u001b[31m   \u001b[0m copying pandas/core/arrays/_ranges.py -> build/lib.linux-x86_64-3.10/pandas/core/arrays\n",
      "  \u001b[31m   \u001b[0m copying pandas/core/arrays/__init__.py -> build/lib.linux-x86_64-3.10/pandas/core/arrays\n",
      "  \u001b[31m   \u001b[0m copying pandas/core/arrays/datetimes.py -> build/lib.linux-x86_64-3.10/pandas/core/arrays\n",
      "  \u001b[31m   \u001b[0m creating build/lib.linux-x86_64-3.10/pandas/core/dtypes\n",
      "  \u001b[31m   \u001b[0m copying pandas/core/dtypes/base.py -> build/lib.linux-x86_64-3.10/pandas/core/dtypes\n",
      "  \u001b[31m   \u001b[0m copying pandas/core/dtypes/missing.py -> build/lib.linux-x86_64-3.10/pandas/core/dtypes\n",
      "  \u001b[31m   \u001b[0m copying pandas/core/dtypes/concat.py -> build/lib.linux-x86_64-3.10/pandas/core/dtypes\n",
      "  \u001b[31m   \u001b[0m copying pandas/core/dtypes/common.py -> build/lib.linux-x86_64-3.10/pandas/core/dtypes\n",
      "  \u001b[31m   \u001b[0m copying pandas/core/dtypes/cast.py -> build/lib.linux-x86_64-3.10/pandas/core/dtypes\n",
      "  \u001b[31m   \u001b[0m copying pandas/core/dtypes/generic.py -> build/lib.linux-x86_64-3.10/pandas/core/dtypes\n",
      "  \u001b[31m   \u001b[0m copying pandas/core/dtypes/api.py -> build/lib.linux-x86_64-3.10/pandas/core/dtypes\n",
      "  \u001b[31m   \u001b[0m copying pandas/core/dtypes/__init__.py -> build/lib.linux-x86_64-3.10/pandas/core/dtypes\n",
      "  \u001b[31m   \u001b[0m copying pandas/core/dtypes/dtypes.py -> build/lib.linux-x86_64-3.10/pandas/core/dtypes\n",
      "  \u001b[31m   \u001b[0m copying pandas/core/dtypes/inference.py -> build/lib.linux-x86_64-3.10/pandas/core/dtypes\n",
      "  \u001b[31m   \u001b[0m creating build/lib.linux-x86_64-3.10/pandas/api/types\n",
      "  \u001b[31m   \u001b[0m copying pandas/api/types/__init__.py -> build/lib.linux-x86_64-3.10/pandas/api/types\n",
      "  \u001b[31m   \u001b[0m creating build/lib.linux-x86_64-3.10/pandas/api/extensions\n",
      "  \u001b[31m   \u001b[0m copying pandas/api/extensions/__init__.py -> build/lib.linux-x86_64-3.10/pandas/api/extensions\n",
      "  \u001b[31m   \u001b[0m creating build/lib.linux-x86_64-3.10/pandas/tests/groupby\n",
      "  \u001b[31m   \u001b[0m copying pandas/tests/groupby/test_categorical.py -> build/lib.linux-x86_64-3.10/pandas/tests/groupby\n",
      "  \u001b[31m   \u001b[0m copying pandas/tests/groupby/conftest.py -> build/lib.linux-x86_64-3.10/pandas/tests/groupby\n",
      "  \u001b[31m   \u001b[0m copying pandas/tests/groupby/test_rank.py -> build/lib.linux-x86_64-3.10/pandas/tests/groupby\n",
      "  \u001b[31m   \u001b[0m copying pandas/tests/groupby/test_index_as_string.py -> build/lib.linux-x86_64-3.10/pandas/tests/groupby\n",
      "  \u001b[31m   \u001b[0m copying pandas/tests/groupby/test_whitelist.py -> build/lib.linux-x86_64-3.10/pandas/tests/groupby\n",
      "  \u001b[31m   \u001b[0m copying pandas/tests/groupby/test_transform.py -> build/lib.linux-x86_64-3.10/pandas/tests/groupby\n",
      "  \u001b[31m   \u001b[0m copying pandas/tests/groupby/test_groupby.py -> build/lib.linux-x86_64-3.10/pandas/tests/groupby\n",
      "  \u001b[31m   \u001b[0m copying pandas/tests/groupby/test_function.py -> build/lib.linux-x86_64-3.10/pandas/tests/groupby\n",
      "  \u001b[31m   \u001b[0m copying pandas/tests/groupby/test_value_counts.py -> build/lib.linux-x86_64-3.10/pandas/tests/groupby\n",
      "  \u001b[31m   \u001b[0m copying pandas/tests/groupby/test_nth.py -> build/lib.linux-x86_64-3.10/pandas/tests/groupby\n",
      "  \u001b[31m   \u001b[0m copying pandas/tests/groupby/test_bin_groupby.py -> build/lib.linux-x86_64-3.10/pandas/tests/groupby\n",
      "  \u001b[31m   \u001b[0m copying pandas/tests/groupby/test_grouping.py -> build/lib.linux-x86_64-3.10/pandas/tests/groupby\n",
      "  \u001b[31m   \u001b[0m copying pandas/tests/groupby/__init__.py -> build/lib.linux-x86_64-3.10/pandas/tests/groupby\n",
      "  \u001b[31m   \u001b[0m copying pandas/tests/groupby/test_counting.py -> build/lib.linux-x86_64-3.10/pandas/tests/groupby\n",
      "  \u001b[31m   \u001b[0m copying pandas/tests/groupby/test_apply.py -> build/lib.linux-x86_64-3.10/pandas/tests/groupby\n",
      "  \u001b[31m   \u001b[0m copying pandas/tests/groupby/test_filters.py -> build/lib.linux-x86_64-3.10/pandas/tests/groupby\n",
      "  \u001b[31m   \u001b[0m copying pandas/tests/groupby/test_timegrouper.py -> build/lib.linux-x86_64-3.10/pandas/tests/groupby\n",
      "  \u001b[31m   \u001b[0m creating build/lib.linux-x86_64-3.10/pandas/tests/resample\n",
      "  \u001b[31m   \u001b[0m copying pandas/tests/resample/conftest.py -> build/lib.linux-x86_64-3.10/pandas/tests/resample\n",
      "  \u001b[31m   \u001b[0m copying pandas/tests/resample/test_datetime_index.py -> build/lib.linux-x86_64-3.10/pandas/tests/resample\n",
      "  \u001b[31m   \u001b[0m copying pandas/tests/resample/test_timedelta.py -> build/lib.linux-x86_64-3.10/pandas/tests/resample\n",
      "  \u001b[31m   \u001b[0m copying pandas/tests/resample/test_resampler_grouper.py -> build/lib.linux-x86_64-3.10/pandas/tests/resample\n",
      "  \u001b[31m   \u001b[0m copying pandas/tests/resample/test_period_index.py -> build/lib.linux-x86_64-3.10/pandas/tests/resample\n",
      "  \u001b[31m   \u001b[0m copying pandas/tests/resample/test_resample_api.py -> build/lib.linux-x86_64-3.10/pandas/tests/resample\n",
      "  \u001b[31m   \u001b[0m copying pandas/tests/resample/test_time_grouper.py -> build/lib.linux-x86_64-3.10/pandas/tests/resample\n",
      "  \u001b[31m   \u001b[0m copying pandas/tests/resample/test_base.py -> build/lib.linux-x86_64-3.10/pandas/tests/resample\n",
      "  \u001b[31m   \u001b[0m copying pandas/tests/resample/__init__.py -> build/lib.linux-x86_64-3.10/pandas/tests/resample\n",
      "  \u001b[31m   \u001b[0m creating build/lib.linux-x86_64-3.10/pandas/tests/computation\n",
      "  \u001b[31m   \u001b[0m copying pandas/tests/computation/test_eval.py -> build/lib.linux-x86_64-3.10/pandas/tests/computation\n",
      "  \u001b[31m   \u001b[0m copying pandas/tests/computation/test_compat.py -> build/lib.linux-x86_64-3.10/pandas/tests/computation\n",
      "  \u001b[31m   \u001b[0m copying pandas/tests/computation/__init__.py -> build/lib.linux-x86_64-3.10/pandas/tests/computation\n",
      "  \u001b[31m   \u001b[0m creating build/lib.linux-x86_64-3.10/pandas/tests/scalar\n",
      "  \u001b[31m   \u001b[0m copying pandas/tests/scalar/test_nat.py -> build/lib.linux-x86_64-3.10/pandas/tests/scalar\n",
      "  \u001b[31m   \u001b[0m copying pandas/tests/scalar/__init__.py -> build/lib.linux-x86_64-3.10/pandas/tests/scalar\n",
      "  \u001b[31m   \u001b[0m creating build/lib.linux-x86_64-3.10/pandas/tests/reductions\n",
      "  \u001b[31m   \u001b[0m copying pandas/tests/reductions/test_reductions.py -> build/lib.linux-x86_64-3.10/pandas/tests/reductions\n"
     ]
    },
    {
     "name": "stdout",
     "output_type": "stream",
     "text": [
      "  \u001b[31m   \u001b[0m copying pandas/tests/reductions/test_stat_reductions.py -> build/lib.linux-x86_64-3.10/pandas/tests/reductions\r\n",
      "  \u001b[31m   \u001b[0m copying pandas/tests/reductions/__init__.py -> build/lib.linux-x86_64-3.10/pandas/tests/reductions\r\n",
      "  \u001b[31m   \u001b[0m creating build/lib.linux-x86_64-3.10/pandas/tests/frame\r\n",
      "  \u001b[31m   \u001b[0m copying pandas/tests/frame/test_reshape.py -> build/lib.linux-x86_64-3.10/pandas/tests/frame\r\n",
      "  \u001b[31m   \u001b[0m copying pandas/tests/frame/test_constructors.py -> build/lib.linux-x86_64-3.10/pandas/tests/frame\r\n",
      "  \u001b[31m   \u001b[0m copying pandas/tests/frame/conftest.py -> build/lib.linux-x86_64-3.10/pandas/tests/frame\r\n",
      "  \u001b[31m   \u001b[0m copying pandas/tests/frame/test_query_eval.py -> build/lib.linux-x86_64-3.10/pandas/tests/frame\r\n",
      "  \u001b[31m   \u001b[0m copying pandas/tests/frame/test_convert_to.py -> build/lib.linux-x86_64-3.10/pandas/tests/frame\r\n",
      "  \u001b[31m   \u001b[0m copying pandas/tests/frame/test_timeseries.py -> build/lib.linux-x86_64-3.10/pandas/tests/frame\r\n",
      "  \u001b[31m   \u001b[0m copying pandas/tests/frame/test_axis_select_reindex.py -> build/lib.linux-x86_64-3.10/pandas/tests/frame\r\n",
      "  \u001b[31m   \u001b[0m copying pandas/tests/frame/test_rank.py -> build/lib.linux-x86_64-3.10/pandas/tests/frame\r\n",
      "  \u001b[31m   \u001b[0m copying pandas/tests/frame/test_api.py -> build/lib.linux-x86_64-3.10/pandas/tests/frame\r\n",
      "  \u001b[31m   \u001b[0m copying pandas/tests/frame/test_mutate_columns.py -> build/lib.linux-x86_64-3.10/pandas/tests/frame\r\n",
      "  \u001b[31m   \u001b[0m copying pandas/tests/frame/test_dtypes.py -> build/lib.linux-x86_64-3.10/pandas/tests/frame\r\n",
      "  \u001b[31m   \u001b[0m copying pandas/tests/frame/common.py -> build/lib.linux-x86_64-3.10/pandas/tests/frame\r\n",
      "  \u001b[31m   \u001b[0m copying pandas/tests/frame/test_nonunique_indexes.py -> build/lib.linux-x86_64-3.10/pandas/tests/frame\r\n",
      "  \u001b[31m   \u001b[0m copying pandas/tests/frame/test_combine_concat.py -> build/lib.linux-x86_64-3.10/pandas/tests/frame\r\n",
      "  \u001b[31m   \u001b[0m copying pandas/tests/frame/test_analytics.py -> build/lib.linux-x86_64-3.10/pandas/tests/frame\r\n",
      "  \u001b[31m   \u001b[0m copying pandas/tests/frame/test_operators.py -> build/lib.linux-x86_64-3.10/pandas/tests/frame\r\n",
      "  \u001b[31m   \u001b[0m copying pandas/tests/frame/test_join.py -> build/lib.linux-x86_64-3.10/pandas/tests/frame\r\n",
      "  \u001b[31m   \u001b[0m copying pandas/tests/frame/test_repr_info.py -> build/lib.linux-x86_64-3.10/pandas/tests/frame\r\n",
      "  \u001b[31m   \u001b[0m copying pandas/tests/frame/test_arithmetic.py -> build/lib.linux-x86_64-3.10/pandas/tests/frame\r\n",
      "  \u001b[31m   \u001b[0m copying pandas/tests/frame/test_block_internals.py -> build/lib.linux-x86_64-3.10/pandas/tests/frame\r\n",
      "  \u001b[31m   \u001b[0m copying pandas/tests/frame/test_quantile.py -> build/lib.linux-x86_64-3.10/pandas/tests/frame\r\n",
      "  \u001b[31m   \u001b[0m copying pandas/tests/frame/test_sorting.py -> build/lib.linux-x86_64-3.10/pandas/tests/frame\r\n",
      "  \u001b[31m   \u001b[0m copying pandas/tests/frame/test_asof.py -> build/lib.linux-x86_64-3.10/pandas/tests/frame\r\n",
      "  \u001b[31m   \u001b[0m copying pandas/tests/frame/test_replace.py -> build/lib.linux-x86_64-3.10/pandas/tests/frame\r\n",
      "  \u001b[31m   \u001b[0m copying pandas/tests/frame/test_indexing.py -> build/lib.linux-x86_64-3.10/pandas/tests/frame\r\n",
      "  \u001b[31m   \u001b[0m copying pandas/tests/frame/__init__.py -> build/lib.linux-x86_64-3.10/pandas/tests/frame\r\n",
      "  \u001b[31m   \u001b[0m copying pandas/tests/frame/test_apply.py -> build/lib.linux-x86_64-3.10/pandas/tests/frame\r\n",
      "  \u001b[31m   \u001b[0m copying pandas/tests/frame/test_timezones.py -> build/lib.linux-x86_64-3.10/pandas/tests/frame\r\n",
      "  \u001b[31m   \u001b[0m copying pandas/tests/frame/test_subclass.py -> build/lib.linux-x86_64-3.10/pandas/tests/frame\r\n",
      "  \u001b[31m   \u001b[0m copying pandas/tests/frame/test_missing.py -> build/lib.linux-x86_64-3.10/pandas/tests/frame\r\n",
      "  \u001b[31m   \u001b[0m copying pandas/tests/frame/test_to_csv.py -> build/lib.linux-x86_64-3.10/pandas/tests/frame\r\n",
      "  \u001b[31m   \u001b[0m copying pandas/tests/frame/test_validate.py -> build/lib.linux-x86_64-3.10/pandas/tests/frame\r\n",
      "  \u001b[31m   \u001b[0m copying pandas/tests/frame/test_period.py -> build/lib.linux-x86_64-3.10/pandas/tests/frame\r\n",
      "  \u001b[31m   \u001b[0m copying pandas/tests/frame/test_duplicates.py -> build/lib.linux-x86_64-3.10/pandas/tests/frame\r\n",
      "  \u001b[31m   \u001b[0m copying pandas/tests/frame/test_alter_axes.py -> build/lib.linux-x86_64-3.10/pandas/tests/frame\r\n",
      "  \u001b[31m   \u001b[0m copying pandas/tests/frame/test_sort_values_level_as_str.py -> build/lib.linux-x86_64-3.10/pandas/tests/frame\r\n",
      "  \u001b[31m   \u001b[0m creating build/lib.linux-x86_64-3.10/pandas/tests/generic\r\n",
      "  \u001b[31m   \u001b[0m copying pandas/tests/generic/test_generic.py -> build/lib.linux-x86_64-3.10/pandas/tests/generic\r\n",
      "  \u001b[31m   \u001b[0m copying pandas/tests/generic/test_series.py -> build/lib.linux-x86_64-3.10/pandas/tests/generic\r\n",
      "  \u001b[31m   \u001b[0m copying pandas/tests/generic/test_panel.py -> build/lib.linux-x86_64-3.10/pandas/tests/generic\r\n",
      "  \u001b[31m   \u001b[0m copying pandas/tests/generic/__init__.py -> build/lib.linux-x86_64-3.10/pandas/tests/generic\r\n",
      "  \u001b[31m   \u001b[0m copying pandas/tests/generic/test_label_or_level_utils.py -> build/lib.linux-x86_64-3.10/pandas/tests/generic\r\n",
      "  \u001b[31m   \u001b[0m copying pandas/tests/generic/test_frame.py -> build/lib.linux-x86_64-3.10/pandas/tests/generic\r\n",
      "  \u001b[31m   \u001b[0m creating build/lib.linux-x86_64-3.10/pandas/tests/reshape\r\n",
      "  \u001b[31m   \u001b[0m copying pandas/tests/reshape/test_concat.py -> build/lib.linux-x86_64-3.10/pandas/tests/reshape\r\n",
      "  \u001b[31m   \u001b[0m copying pandas/tests/reshape/test_pivot.py -> build/lib.linux-x86_64-3.10/pandas/tests/reshape\r\n",
      "  \u001b[31m   \u001b[0m copying pandas/tests/reshape/test_reshape.py -> build/lib.linux-x86_64-3.10/pandas/tests/reshape\r\n",
      "  \u001b[31m   \u001b[0m copying pandas/tests/reshape/test_util.py -> build/lib.linux-x86_64-3.10/pandas/tests/reshape\r\n",
      "  \u001b[31m   \u001b[0m copying pandas/tests/reshape/test_qcut.py -> build/lib.linux-x86_64-3.10/pandas/tests/reshape\r\n",
      "  \u001b[31m   \u001b[0m copying pandas/tests/reshape/test_cut.py -> build/lib.linux-x86_64-3.10/pandas/tests/reshape\r\n",
      "  \u001b[31m   \u001b[0m copying pandas/tests/reshape/test_union_categoricals.py -> build/lib.linux-x86_64-3.10/pandas/tests/reshape\r\n",
      "  \u001b[31m   \u001b[0m copying pandas/tests/reshape/__init__.py -> build/lib.linux-x86_64-3.10/pandas/tests/reshape\r\n",
      "  \u001b[31m   \u001b[0m copying pandas/tests/reshape/test_melt.py -> build/lib.linux-x86_64-3.10/pandas/tests/reshape\r\n",
      "  \u001b[31m   \u001b[0m creating build/lib.linux-x86_64-3.10/pandas/tests/plotting\r\n",
      "  \u001b[31m   \u001b[0m copying pandas/tests/plotting/test_series.py -> build/lib.linux-x86_64-3.10/pandas/tests/plotting\r\n",
      "  \u001b[31m   \u001b[0m copying pandas/tests/plotting/test_converter.py -> build/lib.linux-x86_64-3.10/pandas/tests/plotting\r\n",
      "  \u001b[31m   \u001b[0m copying pandas/tests/plotting/test_hist_method.py -> build/lib.linux-x86_64-3.10/pandas/tests/plotting\r\n",
      "  \u001b[31m   \u001b[0m copying pandas/tests/plotting/test_datetimelike.py -> build/lib.linux-x86_64-3.10/pandas/tests/plotting\r\n",
      "  \u001b[31m   \u001b[0m copying pandas/tests/plotting/common.py -> build/lib.linux-x86_64-3.10/pandas/tests/plotting\r\n",
      "  \u001b[31m   \u001b[0m copying pandas/tests/plotting/test_groupby.py -> build/lib.linux-x86_64-3.10/pandas/tests/plotting\r\n",
      "  \u001b[31m   \u001b[0m copying pandas/tests/plotting/test_boxplot_method.py -> build/lib.linux-x86_64-3.10/pandas/tests/plotting\r\n",
      "  \u001b[31m   \u001b[0m copying pandas/tests/plotting/__init__.py -> build/lib.linux-x86_64-3.10/pandas/tests/plotting\r\n",
      "  \u001b[31m   \u001b[0m copying pandas/tests/plotting/test_misc.py -> build/lib.linux-x86_64-3.10/pandas/tests/plotting\r\n",
      "  \u001b[31m   \u001b[0m copying pandas/tests/plotting/test_frame.py -> build/lib.linux-x86_64-3.10/pandas/tests/plotting\r\n",
      "  \u001b[31m   \u001b[0m creating build/lib.linux-x86_64-3.10/pandas/tests/tseries\r\n",
      "  \u001b[31m   \u001b[0m copying pandas/tests/tseries/test_frequencies.py -> build/lib.linux-x86_64-3.10/pandas/tests/tseries\r\n",
      "  \u001b[31m   \u001b[0m copying pandas/tests/tseries/test_holiday.py -> build/lib.linux-x86_64-3.10/pandas/tests/tseries\r\n",
      "  \u001b[31m   \u001b[0m copying pandas/tests/tseries/__init__.py -> build/lib.linux-x86_64-3.10/pandas/tests/tseries\r\n",
      "  \u001b[31m   \u001b[0m creating build/lib.linux-x86_64-3.10/pandas/tests/internals\r\n",
      "  \u001b[31m   \u001b[0m copying pandas/tests/internals/test_internals.py -> build/lib.linux-x86_64-3.10/pandas/tests/internals\r\n",
      "  \u001b[31m   \u001b[0m copying pandas/tests/internals/__init__.py -> build/lib.linux-x86_64-3.10/pandas/tests/internals\r\n",
      "  \u001b[31m   \u001b[0m creating build/lib.linux-x86_64-3.10/pandas/tests/util\r\n",
      "  \u001b[31m   \u001b[0m copying pandas/tests/util/test_validate_args.py -> build/lib.linux-x86_64-3.10/pandas/tests/util\r\n",
      "  \u001b[31m   \u001b[0m copying pandas/tests/util/test_assert_extension_array_equal.py -> build/lib.linux-x86_64-3.10/pandas/tests/util\r\n",
      "  \u001b[31m   \u001b[0m copying pandas/tests/util/conftest.py -> build/lib.linux-x86_64-3.10/pandas/tests/util\r\n",
      "  \u001b[31m   \u001b[0m copying pandas/tests/util/test_util.py -> build/lib.linux-x86_64-3.10/pandas/tests/util\r\n",
      "  \u001b[31m   \u001b[0m copying pandas/tests/util/test_safe_import.py -> build/lib.linux-x86_64-3.10/pandas/tests/util\r\n",
      "  \u001b[31m   \u001b[0m copying pandas/tests/util/test_assert_frame_equal.py -> build/lib.linux-x86_64-3.10/pandas/tests/util\r\n",
      "  \u001b[31m   \u001b[0m copying pandas/tests/util/test_locale.py -> build/lib.linux-x86_64-3.10/pandas/tests/util\r\n",
      "  \u001b[31m   \u001b[0m copying pandas/tests/util/test_assert_almost_equal.py -> build/lib.linux-x86_64-3.10/pandas/tests/util\r\n",
      "  \u001b[31m   \u001b[0m copying pandas/tests/util/test_deprecate.py -> build/lib.linux-x86_64-3.10/pandas/tests/util\r\n",
      "  \u001b[31m   \u001b[0m copying pandas/tests/util/test_move.py -> build/lib.linux-x86_64-3.10/pandas/tests/util\r\n",
      "  \u001b[31m   \u001b[0m copying pandas/tests/util/test_validate_kwargs.py -> build/lib.linux-x86_64-3.10/pandas/tests/util\r\n",
      "  \u001b[31m   \u001b[0m copying pandas/tests/util/test_deprecate_kwarg.py -> build/lib.linux-x86_64-3.10/pandas/tests/util\r\n",
      "  \u001b[31m   \u001b[0m copying pandas/tests/util/test_assert_numpy_array_equal.py -> build/lib.linux-x86_64-3.10/pandas/tests/util\r\n",
      "  \u001b[31m   \u001b[0m copying pandas/tests/util/test_assert_index_equal.py -> build/lib.linux-x86_64-3.10/pandas/tests/util\r\n",
      "  \u001b[31m   \u001b[0m copying pandas/tests/util/test_assert_categorical_equal.py -> build/lib.linux-x86_64-3.10/pandas/tests/util\r\n",
      "  \u001b[31m   \u001b[0m copying pandas/tests/util/test_assert_series_equal.py -> build/lib.linux-x86_64-3.10/pandas/tests/util\r\n",
      "  \u001b[31m   \u001b[0m copying pandas/tests/util/test_validate_args_and_kwargs.py -> build/lib.linux-x86_64-3.10/pandas/tests/util\r\n",
      "  \u001b[31m   \u001b[0m copying pandas/tests/util/test_assert_interval_array_equal.py -> build/lib.linux-x86_64-3.10/pandas/tests/util\r\n",
      "  \u001b[31m   \u001b[0m copying pandas/tests/util/__init__.py -> build/lib.linux-x86_64-3.10/pandas/tests/util\r\n",
      "  \u001b[31m   \u001b[0m copying pandas/tests/util/test_hashing.py -> build/lib.linux-x86_64-3.10/pandas/tests/util\r\n",
      "  \u001b[31m   \u001b[0m creating build/lib.linux-x86_64-3.10/pandas/tests/indexing\r\n",
      "  \u001b[31m   \u001b[0m copying pandas/tests/indexing/test_categorical.py -> build/lib.linux-x86_64-3.10/pandas/tests/indexing\r\n",
      "  \u001b[31m   \u001b[0m copying pandas/tests/indexing/test_iloc.py -> build/lib.linux-x86_64-3.10/pandas/tests/indexing\r\n",
      "  \u001b[31m   \u001b[0m copying pandas/tests/indexing/conftest.py -> build/lib.linux-x86_64-3.10/pandas/tests/indexing\r\n",
      "  \u001b[31m   \u001b[0m copying pandas/tests/indexing/test_ix.py -> build/lib.linux-x86_64-3.10/pandas/tests/indexing\r\n",
      "  \u001b[31m   \u001b[0m copying pandas/tests/indexing/test_timedelta.py -> build/lib.linux-x86_64-3.10/pandas/tests/indexing\r\n",
      "  \u001b[31m   \u001b[0m copying pandas/tests/indexing/test_indexing_slow.py -> build/lib.linux-x86_64-3.10/pandas/tests/indexing\r\n",
      "  \u001b[31m   \u001b[0m copying pandas/tests/indexing/test_datetime.py -> build/lib.linux-x86_64-3.10/pandas/tests/indexing\r\n",
      "  \u001b[31m   \u001b[0m copying pandas/tests/indexing/test_callable.py -> build/lib.linux-x86_64-3.10/pandas/tests/indexing\r\n",
      "  \u001b[31m   \u001b[0m copying pandas/tests/indexing/common.py -> build/lib.linux-x86_64-3.10/pandas/tests/indexing\r\n",
      "  \u001b[31m   \u001b[0m copying pandas/tests/indexing/test_coercion.py -> build/lib.linux-x86_64-3.10/pandas/tests/indexing\r\n",
      "  \u001b[31m   \u001b[0m copying pandas/tests/indexing/test_panel.py -> build/lib.linux-x86_64-3.10/pandas/tests/indexing\r\n",
      "  \u001b[31m   \u001b[0m copying pandas/tests/indexing/test_indexing_engines.py -> build/lib.linux-x86_64-3.10/pandas/tests/indexing\r\n",
      "  \u001b[31m   \u001b[0m copying pandas/tests/indexing/test_loc.py -> build/lib.linux-x86_64-3.10/pandas/tests/indexing\r\n",
      "  \u001b[31m   \u001b[0m copying pandas/tests/indexing/test_chaining_and_caching.py -> build/lib.linux-x86_64-3.10/pandas/tests/indexing\r\n",
      "  \u001b[31m   \u001b[0m copying pandas/tests/indexing/test_indexing.py -> build/lib.linux-x86_64-3.10/pandas/tests/indexing\r\n",
      "  \u001b[31m   \u001b[0m copying pandas/tests/indexing/__init__.py -> build/lib.linux-x86_64-3.10/pandas/tests/indexing\r\n",
      "  \u001b[31m   \u001b[0m copying pandas/tests/indexing/test_scalar.py -> build/lib.linux-x86_64-3.10/pandas/tests/indexing\r\n",
      "  \u001b[31m   \u001b[0m copying pandas/tests/indexing/test_partial.py -> build/lib.linux-x86_64-3.10/pandas/tests/indexing\r\n",
      "  \u001b[31m   \u001b[0m copying pandas/tests/indexing/test_floats.py -> build/lib.linux-x86_64-3.10/pandas/tests/indexing\r\n",
      "  \u001b[31m   \u001b[0m creating build/lib.linux-x86_64-3.10/pandas/tests/extension\r\n",
      "  \u001b[31m   \u001b[0m copying pandas/tests/extension/test_categorical.py -> build/lib.linux-x86_64-3.10/pandas/tests/extension\r\n",
      "  \u001b[31m   \u001b[0m copying pandas/tests/extension/test_interval.py -> build/lib.linux-x86_64-3.10/pandas/tests/extension\r\n",
      "  \u001b[31m   \u001b[0m copying pandas/tests/extension/conftest.py -> build/lib.linux-x86_64-3.10/pandas/tests/extension\r\n",
      "  \u001b[31m   \u001b[0m copying pandas/tests/extension/test_common.py -> build/lib.linux-x86_64-3.10/pandas/tests/extension\r\n",
      "  \u001b[31m   \u001b[0m copying pandas/tests/extension/test_integer.py -> build/lib.linux-x86_64-3.10/pandas/tests/extension\r\n",
      "  \u001b[31m   \u001b[0m copying pandas/tests/extension/test_external_block.py -> build/lib.linux-x86_64-3.10/pandas/tests/extension\r\n",
      "  \u001b[31m   \u001b[0m copying pandas/tests/extension/test_datetime.py -> build/lib.linux-x86_64-3.10/pandas/tests/extension\r\n",
      "  \u001b[31m   \u001b[0m copying pandas/tests/extension/__init__.py -> build/lib.linux-x86_64-3.10/pandas/tests/extension\r\n",
      "  \u001b[31m   \u001b[0m copying pandas/tests/extension/test_sparse.py -> build/lib.linux-x86_64-3.10/pandas/tests/extension\r\n",
      "  \u001b[31m   \u001b[0m copying pandas/tests/extension/test_period.py -> build/lib.linux-x86_64-3.10/pandas/tests/extension\r\n",
      "  \u001b[31m   \u001b[0m creating build/lib.linux-x86_64-3.10/pandas/tests/arithmetic\r\n",
      "  \u001b[31m   \u001b[0m copying pandas/tests/arithmetic/test_datetime64.py -> build/lib.linux-x86_64-3.10/pandas/tests/arithmetic\r\n",
      "  \u001b[31m   \u001b[0m copying pandas/tests/arithmetic/conftest.py -> build/lib.linux-x86_64-3.10/pandas/tests/arithmetic\r\n",
      "  \u001b[31m   \u001b[0m copying pandas/tests/arithmetic/test_numeric.py -> build/lib.linux-x86_64-3.10/pandas/tests/arithmetic\r\n",
      "  \u001b[31m   \u001b[0m copying pandas/tests/arithmetic/test_timedelta64.py -> build/lib.linux-x86_64-3.10/pandas/tests/arithmetic\r\n",
      "  \u001b[31m   \u001b[0m copying pandas/tests/arithmetic/test_object.py -> build/lib.linux-x86_64-3.10/pandas/tests/arithmetic\r\n",
      "  \u001b[31m   \u001b[0m copying pandas/tests/arithmetic/__init__.py -> build/lib.linux-x86_64-3.10/pandas/tests/arithmetic\r\n",
      "  \u001b[31m   \u001b[0m copying pandas/tests/arithmetic/test_period.py -> build/lib.linux-x86_64-3.10/pandas/tests/arithmetic\r\n",
      "  \u001b[31m   \u001b[0m creating build/lib.linux-x86_64-3.10/pandas/tests/api\r\n",
      "  \u001b[31m   \u001b[0m copying pandas/tests/api/test_api.py -> build/lib.linux-x86_64-3.10/pandas/tests/api\r\n",
      "  \u001b[31m   \u001b[0m copying pandas/tests/api/__init__.py -> build/lib.linux-x86_64-3.10/pandas/tests/api\r\n",
      "  \u001b[31m   \u001b[0m copying pandas/tests/api/test_types.py -> build/lib.linux-x86_64-3.10/pandas/tests/api\r\n",
      "  \u001b[31m   \u001b[0m creating build/lib.linux-x86_64-3.10/pandas/tests/io\r\n",
      "  \u001b[31m   \u001b[0m copying pandas/tests/io/test_html.py -> build/lib.linux-x86_64-3.10/pandas/tests/io\r\n",
      "  \u001b[31m   \u001b[0m copying pandas/tests/io/test_gbq.py -> build/lib.linux-x86_64-3.10/pandas/tests/io\r\n",
      "  \u001b[31m   \u001b[0m copying pandas/tests/io/conftest.py -> build/lib.linux-x86_64-3.10/pandas/tests/io\r\n",
      "  \u001b[31m   \u001b[0m copying pandas/tests/io/test_common.py -> build/lib.linux-x86_64-3.10/pandas/tests/io\r\n",
      "  \u001b[31m   \u001b[0m copying pandas/tests/io/test_date_converters.py -> build/lib.linux-x86_64-3.10/pandas/tests/io\r\n",
      "  \u001b[31m   \u001b[0m copying pandas/tests/io/test_feather.py -> build/lib.linux-x86_64-3.10/pandas/tests/io\r\n",
      "  \u001b[31m   \u001b[0m copying pandas/tests/io/test_excel.py -> build/lib.linux-x86_64-3.10/pandas/tests/io\r\n",
      "  \u001b[31m   \u001b[0m copying pandas/tests/io/test_compression.py -> build/lib.linux-x86_64-3.10/pandas/tests/io\r\n",
      "  \u001b[31m   \u001b[0m copying pandas/tests/io/test_gcs.py -> build/lib.linux-x86_64-3.10/pandas/tests/io\r\n",
      "  \u001b[31m   \u001b[0m copying pandas/tests/io/test_pytables.py -> build/lib.linux-x86_64-3.10/pandas/tests/io\r\n",
      "  \u001b[31m   \u001b[0m copying pandas/tests/io/test_clipboard.py -> build/lib.linux-x86_64-3.10/pandas/tests/io\r\n",
      "  \u001b[31m   \u001b[0m copying pandas/tests/io/test_stata.py -> build/lib.linux-x86_64-3.10/pandas/tests/io\r\n",
      "  \u001b[31m   \u001b[0m copying pandas/tests/io/__init__.py -> build/lib.linux-x86_64-3.10/pandas/tests/io\r\n",
      "  \u001b[31m   \u001b[0m copying pandas/tests/io/generate_legacy_storage_files.py -> build/lib.linux-x86_64-3.10/pandas/tests/io\r\n",
      "  \u001b[31m   \u001b[0m copying pandas/tests/io/test_packers.py -> build/lib.linux-x86_64-3.10/pandas/tests/io\r\n",
      "  \u001b[31m   \u001b[0m copying pandas/tests/io/test_sql.py -> build/lib.linux-x86_64-3.10/pandas/tests/io\r\n",
      "  \u001b[31m   \u001b[0m copying pandas/tests/io/test_parquet.py -> build/lib.linux-x86_64-3.10/pandas/tests/io\r\n",
      "  \u001b[31m   \u001b[0m copying pandas/tests/io/test_s3.py -> build/lib.linux-x86_64-3.10/pandas/tests/io\r\n",
      "  \u001b[31m   \u001b[0m copying pandas/tests/io/test_pickle.py -> build/lib.linux-x86_64-3.10/pandas/tests/io\r\n",
      "  \u001b[31m   \u001b[0m creating build/lib.linux-x86_64-3.10/pandas/tests/tslibs\r\n",
      "  \u001b[31m   \u001b[0m copying pandas/tests/tslibs/test_api.py -> build/lib.linux-x86_64-3.10/pandas/tests/tslibs\r\n",
      "  \u001b[31m   \u001b[0m copying pandas/tests/tslibs/test_array_to_datetime.py -> build/lib.linux-x86_64-3.10/pandas/tests/tslibs\r\n",
      "  \u001b[31m   \u001b[0m copying pandas/tests/tslibs/test_libfrequencies.py -> build/lib.linux-x86_64-3.10/pandas/tests/tslibs\r\n",
      "  \u001b[31m   \u001b[0m copying pandas/tests/tslibs/test_parse_iso8601.py -> build/lib.linux-x86_64-3.10/pandas/tests/tslibs\r\n",
      "  \u001b[31m   \u001b[0m copying pandas/tests/tslibs/test_liboffsets.py -> build/lib.linux-x86_64-3.10/pandas/tests/tslibs\r\n",
      "  \u001b[31m   \u001b[0m copying pandas/tests/tslibs/test_ccalendar.py -> build/lib.linux-x86_64-3.10/pandas/tests/tslibs\r\n",
      "  \u001b[31m   \u001b[0m copying pandas/tests/tslibs/test_conversion.py -> build/lib.linux-x86_64-3.10/pandas/tests/tslibs\r\n",
      "  \u001b[31m   \u001b[0m copying pandas/tests/tslibs/test_period_asfreq.py -> build/lib.linux-x86_64-3.10/pandas/tests/tslibs\r\n",
      "  \u001b[31m   \u001b[0m copying pandas/tests/tslibs/test_parsing.py -> build/lib.linux-x86_64-3.10/pandas/tests/tslibs\r\n",
      "  \u001b[31m   \u001b[0m copying pandas/tests/tslibs/__init__.py -> build/lib.linux-x86_64-3.10/pandas/tests/tslibs\r\n",
      "  \u001b[31m   \u001b[0m copying pandas/tests/tslibs/test_normalize_date.py -> build/lib.linux-x86_64-3.10/pandas/tests/tslibs\r\n",
      "  \u001b[31m   \u001b[0m copying pandas/tests/tslibs/test_timezones.py -> build/lib.linux-x86_64-3.10/pandas/tests/tslibs\r\n",
      "  \u001b[31m   \u001b[0m copying pandas/tests/tslibs/test_timedeltas.py -> build/lib.linux-x86_64-3.10/pandas/tests/tslibs\r\n",
      "  \u001b[31m   \u001b[0m creating build/lib.linux-x86_64-3.10/pandas/tests/sparse\r\n",
      "  \u001b[31m   \u001b[0m copying pandas/tests/sparse/test_pivot.py -> build/lib.linux-x86_64-3.10/pandas/tests/sparse\r\n",
      "  \u001b[31m   \u001b[0m copying pandas/tests/sparse/test_reshape.py -> build/lib.linux-x86_64-3.10/pandas/tests/sparse\r\n",
      "  \u001b[31m   \u001b[0m copying pandas/tests/sparse/test_format.py -> build/lib.linux-x86_64-3.10/pandas/tests/sparse\r\n",
      "  \u001b[31m   \u001b[0m copying pandas/tests/sparse/common.py -> build/lib.linux-x86_64-3.10/pandas/tests/sparse\r\n",
      "  \u001b[31m   \u001b[0m copying pandas/tests/sparse/test_combine_concat.py -> build/lib.linux-x86_64-3.10/pandas/tests/sparse\r\n",
      "  \u001b[31m   \u001b[0m copying pandas/tests/sparse/test_groupby.py -> build/lib.linux-x86_64-3.10/pandas/tests/sparse\r\n",
      "  \u001b[31m   \u001b[0m copying pandas/tests/sparse/test_indexing.py -> build/lib.linux-x86_64-3.10/pandas/tests/sparse\r\n",
      "  \u001b[31m   \u001b[0m copying pandas/tests/sparse/__init__.py -> build/lib.linux-x86_64-3.10/pandas/tests/sparse\r\n",
      "  \u001b[31m   \u001b[0m creating build/lib.linux-x86_64-3.10/pandas/tests/tools\r\n",
      "  \u001b[31m   \u001b[0m copying pandas/tests/tools/test_numeric.py -> build/lib.linux-x86_64-3.10/pandas/tests/tools\r\n",
      "  \u001b[31m   \u001b[0m copying pandas/tests/tools/__init__.py -> build/lib.linux-x86_64-3.10/pandas/tests/tools\r\n",
      "  \u001b[31m   \u001b[0m creating build/lib.linux-x86_64-3.10/pandas/tests/indexes\r\n",
      "  \u001b[31m   \u001b[0m copying pandas/tests/indexes/conftest.py -> build/lib.linux-x86_64-3.10/pandas/tests/indexes\r\n",
      "  \u001b[31m   \u001b[0m copying pandas/tests/indexes/test_common.py -> build/lib.linux-x86_64-3.10/pandas/tests/indexes\r\n",
      "  \u001b[31m   \u001b[0m copying pandas/tests/indexes/test_frozen.py -> build/lib.linux-x86_64-3.10/pandas/tests/indexes\r\n",
      "  \u001b[31m   \u001b[0m copying pandas/tests/indexes/test_category.py -> build/lib.linux-x86_64-3.10/pandas/tests/indexes\r\n",
      "  \u001b[31m   \u001b[0m copying pandas/tests/indexes/common.py -> build/lib.linux-x86_64-3.10/pandas/tests/indexes\r\n",
      "  \u001b[31m   \u001b[0m copying pandas/tests/indexes/test_numeric.py -> build/lib.linux-x86_64-3.10/pandas/tests/indexes\r\n",
      "  \u001b[31m   \u001b[0m copying pandas/tests/indexes/datetimelike.py -> build/lib.linux-x86_64-3.10/pandas/tests/indexes\r\n",
      "  \u001b[31m   \u001b[0m copying pandas/tests/indexes/test_base.py -> build/lib.linux-x86_64-3.10/pandas/tests/indexes\r\n",
      "  \u001b[31m   \u001b[0m copying pandas/tests/indexes/__init__.py -> build/lib.linux-x86_64-3.10/pandas/tests/indexes\r\n",
      "  \u001b[31m   \u001b[0m copying pandas/tests/indexes/test_range.py -> build/lib.linux-x86_64-3.10/pandas/tests/indexes\r\n",
      "  \u001b[31m   \u001b[0m creating build/lib.linux-x86_64-3.10/pandas/tests/arrays\r\n",
      "  \u001b[31m   \u001b[0m copying pandas/tests/arrays/test_integer.py -> build/lib.linux-x86_64-3.10/pandas/tests/arrays\r\n",
      "  \u001b[31m   \u001b[0m copying pandas/tests/arrays/test_datetimelike.py -> build/lib.linux-x86_64-3.10/pandas/tests/arrays\r\n",
      "  \u001b[31m   \u001b[0m copying pandas/tests/arrays/test_numpy.py -> build/lib.linux-x86_64-3.10/pandas/tests/arrays\r\n",
      "  \u001b[31m   \u001b[0m copying pandas/tests/arrays/test_datetimes.py -> build/lib.linux-x86_64-3.10/pandas/tests/arrays\r\n",
      "  \u001b[31m   \u001b[0m copying pandas/tests/arrays/__init__.py -> build/lib.linux-x86_64-3.10/pandas/tests/arrays\r\n",
      "  \u001b[31m   \u001b[0m copying pandas/tests/arrays/test_timedeltas.py -> build/lib.linux-x86_64-3.10/pandas/tests/arrays\r\n",
      "  \u001b[31m   \u001b[0m copying pandas/tests/arrays/test_period.py -> build/lib.linux-x86_64-3.10/pandas/tests/arrays\r\n",
      "  \u001b[31m   \u001b[0m copying pandas/tests/arrays/test_array.py -> build/lib.linux-x86_64-3.10/pandas/tests/arrays\r\n",
      "  \u001b[31m   \u001b[0m creating build/lib.linux-x86_64-3.10/pandas/tests/dtypes\r\n",
      "  \u001b[31m   \u001b[0m copying pandas/tests/dtypes/test_concat.py -> build/lib.linux-x86_64-3.10/pandas/tests/dtypes\r\n",
      "  \u001b[31m   \u001b[0m copying pandas/tests/dtypes/test_generic.py -> build/lib.linux-x86_64-3.10/pandas/tests/dtypes\r\n",
      "  \u001b[31m   \u001b[0m copying pandas/tests/dtypes/test_common.py -> build/lib.linux-x86_64-3.10/pandas/tests/dtypes\r\n",
      "  \u001b[31m   \u001b[0m copying pandas/tests/dtypes/test_dtypes.py -> build/lib.linux-x86_64-3.10/pandas/tests/dtypes\r\n",
      "  \u001b[31m   \u001b[0m copying pandas/tests/dtypes/test_inference.py -> build/lib.linux-x86_64-3.10/pandas/tests/dtypes\r\n",
      "  \u001b[31m   \u001b[0m copying pandas/tests/dtypes/__init__.py -> build/lib.linux-x86_64-3.10/pandas/tests/dtypes\r\n",
      "  \u001b[31m   \u001b[0m copying pandas/tests/dtypes/test_missing.py -> build/lib.linux-x86_64-3.10/pandas/tests/dtypes\r\n",
      "  \u001b[31m   \u001b[0m creating build/lib.linux-x86_64-3.10/pandas/tests/series\r\n",
      "  \u001b[31m   \u001b[0m copying pandas/tests/series/test_io.py -> build/lib.linux-x86_64-3.10/pandas/tests/series\r\n",
      "  \u001b[31m   \u001b[0m copying pandas/tests/series/test_constructors.py -> build/lib.linux-x86_64-3.10/pandas/tests/series\r\n",
      "  \u001b[31m   \u001b[0m copying pandas/tests/series/conftest.py -> build/lib.linux-x86_64-3.10/pandas/tests/series\r\n",
      "  \u001b[31m   \u001b[0m copying pandas/tests/series/test_timeseries.py -> build/lib.linux-x86_64-3.10/pandas/tests/series\r\n",
      "  \u001b[31m   \u001b[0m copying pandas/tests/series/test_rank.py -> build/lib.linux-x86_64-3.10/pandas/tests/series\r\n",
      "  \u001b[31m   \u001b[0m copying pandas/tests/series/test_api.py -> build/lib.linux-x86_64-3.10/pandas/tests/series\r\n",
      "  \u001b[31m   \u001b[0m copying pandas/tests/series/test_dtypes.py -> build/lib.linux-x86_64-3.10/pandas/tests/series\r\n",
      "  \u001b[31m   \u001b[0m copying pandas/tests/series/common.py -> build/lib.linux-x86_64-3.10/pandas/tests/series\r\n",
      "  \u001b[31m   \u001b[0m copying pandas/tests/series/test_repr.py -> build/lib.linux-x86_64-3.10/pandas/tests/series\r\n",
      "  \u001b[31m   \u001b[0m copying pandas/tests/series/test_combine_concat.py -> build/lib.linux-x86_64-3.10/pandas/tests/series\r\n",
      "  \u001b[31m   \u001b[0m copying pandas/tests/series/test_analytics.py -> build/lib.linux-x86_64-3.10/pandas/tests/series\r\n",
      "  \u001b[31m   \u001b[0m copying pandas/tests/series/test_datetime_values.py -> build/lib.linux-x86_64-3.10/pandas/tests/series\r\n",
      "  \u001b[31m   \u001b[0m copying pandas/tests/series/test_internals.py -> build/lib.linux-x86_64-3.10/pandas/tests/series\r\n",
      "  \u001b[31m   \u001b[0m copying pandas/tests/series/test_operators.py -> build/lib.linux-x86_64-3.10/pandas/tests/series\r\n",
      "  \u001b[31m   \u001b[0m copying pandas/tests/series/test_arithmetic.py -> build/lib.linux-x86_64-3.10/pandas/tests/series\r\n",
      "  \u001b[31m   \u001b[0m copying pandas/tests/series/test_block_internals.py -> build/lib.linux-x86_64-3.10/pandas/tests/series\r\n",
      "  \u001b[31m   \u001b[0m copying pandas/tests/series/test_quantile.py -> build/lib.linux-x86_64-3.10/pandas/tests/series\r\n",
      "  \u001b[31m   \u001b[0m copying pandas/tests/series/test_sorting.py -> build/lib.linux-x86_64-3.10/pandas/tests/series\r\n",
      "  \u001b[31m   \u001b[0m copying pandas/tests/series/test_asof.py -> build/lib.linux-x86_64-3.10/pandas/tests/series\r\n",
      "  \u001b[31m   \u001b[0m copying pandas/tests/series/test_replace.py -> build/lib.linux-x86_64-3.10/pandas/tests/series\r\n",
      "  \u001b[31m   \u001b[0m copying pandas/tests/series/__init__.py -> build/lib.linux-x86_64-3.10/pandas/tests/series\r\n",
      "  \u001b[31m   \u001b[0m copying pandas/tests/series/test_apply.py -> build/lib.linux-x86_64-3.10/pandas/tests/series\r\n",
      "  \u001b[31m   \u001b[0m copying pandas/tests/series/test_timezones.py -> build/lib.linux-x86_64-3.10/pandas/tests/series\r\n",
      "  \u001b[31m   \u001b[0m copying pandas/tests/series/test_subclass.py -> build/lib.linux-x86_64-3.10/pandas/tests/series\r\n",
      "  \u001b[31m   \u001b[0m copying pandas/tests/series/test_missing.py -> build/lib.linux-x86_64-3.10/pandas/tests/series\r\n",
      "  \u001b[31m   \u001b[0m copying pandas/tests/series/test_validate.py -> build/lib.linux-x86_64-3.10/pandas/tests/series\r\n",
      "  \u001b[31m   \u001b[0m copying pandas/tests/series/test_period.py -> build/lib.linux-x86_64-3.10/pandas/tests/series\r\n",
      "  \u001b[31m   \u001b[0m copying pandas/tests/series/test_duplicates.py -> build/lib.linux-x86_64-3.10/pandas/tests/series\r\n",
      "  \u001b[31m   \u001b[0m copying pandas/tests/series/test_alter_axes.py -> build/lib.linux-x86_64-3.10/pandas/tests/series\r\n",
      "  \u001b[31m   \u001b[0m creating build/lib.linux-x86_64-3.10/pandas/tests/groupby/aggregate\r\n",
      "  \u001b[31m   \u001b[0m copying pandas/tests/groupby/aggregate/test_cython.py -> build/lib.linux-x86_64-3.10/pandas/tests/groupby/aggregate\r\n",
      "  \u001b[31m   \u001b[0m copying pandas/tests/groupby/aggregate/test_other.py -> build/lib.linux-x86_64-3.10/pandas/tests/groupby/aggregate\r\n",
      "  \u001b[31m   \u001b[0m copying pandas/tests/groupby/aggregate/test_aggregate.py -> build/lib.linux-x86_64-3.10/pandas/tests/groupby/aggregate\r\n",
      "  \u001b[31m   \u001b[0m copying pandas/tests/groupby/aggregate/__init__.py -> build/lib.linux-x86_64-3.10/pandas/tests/groupby/aggregate\r\n",
      "  \u001b[31m   \u001b[0m creating build/lib.linux-x86_64-3.10/pandas/tests/scalar/timestamp\r\n",
      "  \u001b[31m   \u001b[0m copying pandas/tests/scalar/timestamp/test_timestamp.py -> build/lib.linux-x86_64-3.10/pandas/tests/scalar/timestamp\r\n",
      "  \u001b[31m   \u001b[0m copying pandas/tests/scalar/timestamp/test_rendering.py -> build/lib.linux-x86_64-3.10/pandas/tests/scalar/timestamp\r\n",
      "  \u001b[31m   \u001b[0m copying pandas/tests/scalar/timestamp/test_comparisons.py -> build/lib.linux-x86_64-3.10/pandas/tests/scalar/timestamp\r\n",
      "  \u001b[31m   \u001b[0m copying pandas/tests/scalar/timestamp/test_unary_ops.py -> build/lib.linux-x86_64-3.10/pandas/tests/scalar/timestamp\r\n",
      "  \u001b[31m   \u001b[0m copying pandas/tests/scalar/timestamp/test_arithmetic.py -> build/lib.linux-x86_64-3.10/pandas/tests/scalar/timestamp\r\n",
      "  \u001b[31m   \u001b[0m copying pandas/tests/scalar/timestamp/__init__.py -> build/lib.linux-x86_64-3.10/pandas/tests/scalar/timestamp\r\n",
      "  \u001b[31m   \u001b[0m copying pandas/tests/scalar/timestamp/test_timezones.py -> build/lib.linux-x86_64-3.10/pandas/tests/scalar/timestamp\r\n",
      "  \u001b[31m   \u001b[0m creating build/lib.linux-x86_64-3.10/pandas/tests/scalar/period\r\n",
      "  \u001b[31m   \u001b[0m copying pandas/tests/scalar/period/test_asfreq.py -> build/lib.linux-x86_64-3.10/pandas/tests/scalar/period\r\n",
      "  \u001b[31m   \u001b[0m copying pandas/tests/scalar/period/__init__.py -> build/lib.linux-x86_64-3.10/pandas/tests/scalar/period\r\n",
      "  \u001b[31m   \u001b[0m copying pandas/tests/scalar/period/test_period.py -> build/lib.linux-x86_64-3.10/pandas/tests/scalar/period\r\n",
      "  \u001b[31m   \u001b[0m creating build/lib.linux-x86_64-3.10/pandas/tests/scalar/interval\r\n",
      "  \u001b[31m   \u001b[0m copying pandas/tests/scalar/interval/test_interval.py -> build/lib.linux-x86_64-3.10/pandas/tests/scalar/interval\r\n",
      "  \u001b[31m   \u001b[0m copying pandas/tests/scalar/interval/test_ops.py -> build/lib.linux-x86_64-3.10/pandas/tests/scalar/interval\r\n",
      "  \u001b[31m   \u001b[0m copying pandas/tests/scalar/interval/__init__.py -> build/lib.linux-x86_64-3.10/pandas/tests/scalar/interval\r\n",
      "  \u001b[31m   \u001b[0m creating build/lib.linux-x86_64-3.10/pandas/tests/scalar/timedelta\r\n",
      "  \u001b[31m   \u001b[0m copying pandas/tests/scalar/timedelta/test_timedelta.py -> build/lib.linux-x86_64-3.10/pandas/tests/scalar/timedelta\r\n",
      "  \u001b[31m   \u001b[0m copying pandas/tests/scalar/timedelta/test_construction.py -> build/lib.linux-x86_64-3.10/pandas/tests/scalar/timedelta\r\n",
      "  \u001b[31m   \u001b[0m copying pandas/tests/scalar/timedelta/test_formats.py -> build/lib.linux-x86_64-3.10/pandas/tests/scalar/timedelta\r\n",
      "  \u001b[31m   \u001b[0m copying pandas/tests/scalar/timedelta/test_arithmetic.py -> build/lib.linux-x86_64-3.10/pandas/tests/scalar/timedelta\r\n",
      "  \u001b[31m   \u001b[0m copying pandas/tests/scalar/timedelta/__init__.py -> build/lib.linux-x86_64-3.10/pandas/tests/scalar/timedelta\r\n",
      "  \u001b[31m   \u001b[0m creating build/lib.linux-x86_64-3.10/pandas/tests/reshape/merge\r\n",
      "  \u001b[31m   \u001b[0m copying pandas/tests/reshape/merge/test_merge_ordered.py -> build/lib.linux-x86_64-3.10/pandas/tests/reshape/merge\r\n",
      "  \u001b[31m   \u001b[0m copying pandas/tests/reshape/merge/test_merge_asof.py -> build/lib.linux-x86_64-3.10/pandas/tests/reshape/merge\r\n",
      "  \u001b[31m   \u001b[0m copying pandas/tests/reshape/merge/test_merge.py -> build/lib.linux-x86_64-3.10/pandas/tests/reshape/merge\r\n",
      "  \u001b[31m   \u001b[0m copying pandas/tests/reshape/merge/test_join.py -> build/lib.linux-x86_64-3.10/pandas/tests/reshape/merge\r\n",
      "  \u001b[31m   \u001b[0m copying pandas/tests/reshape/merge/test_merge_index_as_string.py -> build/lib.linux-x86_64-3.10/pandas/tests/reshape/merge\r\n",
      "  \u001b[31m   \u001b[0m copying pandas/tests/reshape/merge/__init__.py -> build/lib.linux-x86_64-3.10/pandas/tests/reshape/merge\r\n",
      "  \u001b[31m   \u001b[0m copying pandas/tests/reshape/merge/test_multi.py -> build/lib.linux-x86_64-3.10/pandas/tests/reshape/merge\r\n",
      "  \u001b[31m   \u001b[0m creating build/lib.linux-x86_64-3.10/pandas/tests/tseries/offsets\r\n",
      "  \u001b[31m   \u001b[0m copying pandas/tests/tseries/offsets/conftest.py -> build/lib.linux-x86_64-3.10/pandas/tests/tseries/offsets\r\n",
      "  \u001b[31m   \u001b[0m copying pandas/tests/tseries/offsets/common.py -> build/lib.linux-x86_64-3.10/pandas/tests/tseries/offsets\r\n",
      "  \u001b[31m   \u001b[0m copying pandas/tests/tseries/offsets/test_ticks.py -> build/lib.linux-x86_64-3.10/pandas/tests/tseries/offsets\r\n",
      "  \u001b[31m   \u001b[0m copying pandas/tests/tseries/offsets/test_yqm_offsets.py -> build/lib.linux-x86_64-3.10/pandas/tests/tseries/offsets\r\n",
      "  \u001b[31m   \u001b[0m copying pandas/tests/tseries/offsets/test_offsets_properties.py -> build/lib.linux-x86_64-3.10/pandas/tests/tseries/offsets\r\n",
      "  \u001b[31m   \u001b[0m copying pandas/tests/tseries/offsets/test_fiscal.py -> build/lib.linux-x86_64-3.10/pandas/tests/tseries/offsets\r\n",
      "  \u001b[31m   \u001b[0m copying pandas/tests/tseries/offsets/test_offsets.py -> build/lib.linux-x86_64-3.10/pandas/tests/tseries/offsets\r\n",
      "  \u001b[31m   \u001b[0m copying pandas/tests/tseries/offsets/__init__.py -> build/lib.linux-x86_64-3.10/pandas/tests/tseries/offsets\r\n",
      "  \u001b[31m   \u001b[0m creating build/lib.linux-x86_64-3.10/pandas/tests/indexing/interval\r\n",
      "  \u001b[31m   \u001b[0m copying pandas/tests/indexing/interval/test_interval.py -> build/lib.linux-x86_64-3.10/pandas/tests/indexing/interval\r\n",
      "  \u001b[31m   \u001b[0m copying pandas/tests/indexing/interval/test_interval_new.py -> build/lib.linux-x86_64-3.10/pandas/tests/indexing/interval\r\n",
      "  \u001b[31m   \u001b[0m copying pandas/tests/indexing/interval/__init__.py -> build/lib.linux-x86_64-3.10/pandas/tests/indexing/interval\r\n",
      "  \u001b[31m   \u001b[0m creating build/lib.linux-x86_64-3.10/pandas/tests/indexing/multiindex\r\n",
      "  \u001b[31m   \u001b[0m copying pandas/tests/indexing/multiindex/test_iloc.py -> build/lib.linux-x86_64-3.10/pandas/tests/indexing/multiindex\r\n",
      "  \u001b[31m   \u001b[0m copying pandas/tests/indexing/multiindex/test_sorted.py -> build/lib.linux-x86_64-3.10/pandas/tests/indexing/multiindex\r\n",
      "  \u001b[31m   \u001b[0m copying pandas/tests/indexing/multiindex/conftest.py -> build/lib.linux-x86_64-3.10/pandas/tests/indexing/multiindex\r\n",
      "  \u001b[31m   \u001b[0m copying pandas/tests/indexing/multiindex/test_ix.py -> build/lib.linux-x86_64-3.10/pandas/tests/indexing/multiindex\r\n",
      "  \u001b[31m   \u001b[0m copying pandas/tests/indexing/multiindex/test_getitem.py -> build/lib.linux-x86_64-3.10/pandas/tests/indexing/multiindex\r\n",
      "  \u001b[31m   \u001b[0m copying pandas/tests/indexing/multiindex/test_set_ops.py -> build/lib.linux-x86_64-3.10/pandas/tests/indexing/multiindex\r\n",
      "  \u001b[31m   \u001b[0m copying pandas/tests/indexing/multiindex/test_indexing_slow.py -> build/lib.linux-x86_64-3.10/pandas/tests/indexing/multiindex\r\n",
      "  \u001b[31m   \u001b[0m copying pandas/tests/indexing/multiindex/test_datetime.py -> build/lib.linux-x86_64-3.10/pandas/tests/indexing/multiindex\r\n",
      "  \u001b[31m   \u001b[0m copying pandas/tests/indexing/multiindex/test_multiindex.py -> build/lib.linux-x86_64-3.10/pandas/tests/indexing/multiindex\r\n",
      "  \u001b[31m   \u001b[0m copying pandas/tests/indexing/multiindex/test_setitem.py -> build/lib.linux-x86_64-3.10/pandas/tests/indexing/multiindex\r\n",
      "  \u001b[31m   \u001b[0m copying pandas/tests/indexing/multiindex/test_xs.py -> build/lib.linux-x86_64-3.10/pandas/tests/indexing/multiindex\r\n",
      "  \u001b[31m   \u001b[0m copying pandas/tests/indexing/multiindex/test_slice.py -> build/lib.linux-x86_64-3.10/pandas/tests/indexing/multiindex\r\n",
      "  \u001b[31m   \u001b[0m copying pandas/tests/indexing/multiindex/test_panel.py -> build/lib.linux-x86_64-3.10/pandas/tests/indexing/multiindex\r\n",
      "  \u001b[31m   \u001b[0m copying pandas/tests/indexing/multiindex/test_loc.py -> build/lib.linux-x86_64-3.10/pandas/tests/indexing/multiindex\r\n",
      "  \u001b[31m   \u001b[0m copying pandas/tests/indexing/multiindex/test_chaining_and_caching.py -> build/lib.linux-x86_64-3.10/pandas/tests/indexing/multiindex\r\n",
      "  \u001b[31m   \u001b[0m copying pandas/tests/indexing/multiindex/__init__.py -> build/lib.linux-x86_64-3.10/pandas/tests/indexing/multiindex\r\n",
      "  \u001b[31m   \u001b[0m copying pandas/tests/indexing/multiindex/test_partial.py -> build/lib.linux-x86_64-3.10/pandas/tests/indexing/multiindex\r\n",
      "  \u001b[31m   \u001b[0m creating build/lib.linux-x86_64-3.10/pandas/tests/extension/decimal\r\n",
      "  \u001b[31m   \u001b[0m copying pandas/tests/extension/decimal/test_decimal.py -> build/lib.linux-x86_64-3.10/pandas/tests/extension/decimal\r\n",
      "  \u001b[31m   \u001b[0m copying pandas/tests/extension/decimal/array.py -> build/lib.linux-x86_64-3.10/pandas/tests/extension/decimal\r\n",
      "  \u001b[31m   \u001b[0m copying pandas/tests/extension/decimal/__init__.py -> build/lib.linux-x86_64-3.10/pandas/tests/extension/decimal\r\n",
      "  \u001b[31m   \u001b[0m creating build/lib.linux-x86_64-3.10/pandas/tests/extension/numpy_\r\n",
      "  \u001b[31m   \u001b[0m copying pandas/tests/extension/numpy_/conftest.py -> build/lib.linux-x86_64-3.10/pandas/tests/extension/numpy_\r\n",
      "  \u001b[31m   \u001b[0m copying pandas/tests/extension/numpy_/test_numpy.py -> build/lib.linux-x86_64-3.10/pandas/tests/extension/numpy_\r\n",
      "  \u001b[31m   \u001b[0m copying pandas/tests/extension/numpy_/test_numpy_nested.py -> build/lib.linux-x86_64-3.10/pandas/tests/extension/numpy_\r\n",
      "  \u001b[31m   \u001b[0m copying pandas/tests/extension/numpy_/__init__.py -> build/lib.linux-x86_64-3.10/pandas/tests/extension/numpy_\r\n",
      "  \u001b[31m   \u001b[0m creating build/lib.linux-x86_64-3.10/pandas/tests/extension/json\r\n",
      "  \u001b[31m   \u001b[0m copying pandas/tests/extension/json/test_json.py -> build/lib.linux-x86_64-3.10/pandas/tests/extension/json\r\n",
      "  \u001b[31m   \u001b[0m copying pandas/tests/extension/json/array.py -> build/lib.linux-x86_64-3.10/pandas/tests/extension/json\r\n",
      "  \u001b[31m   \u001b[0m copying pandas/tests/extension/json/__init__.py -> build/lib.linux-x86_64-3.10/pandas/tests/extension/json\r\n",
      "  \u001b[31m   \u001b[0m creating build/lib.linux-x86_64-3.10/pandas/tests/extension/arrow\r\n",
      "  \u001b[31m   \u001b[0m copying pandas/tests/extension/arrow/bool.py -> build/lib.linux-x86_64-3.10/pandas/tests/extension/arrow\r\n",
      "  \u001b[31m   \u001b[0m copying pandas/tests/extension/arrow/test_bool.py -> build/lib.linux-x86_64-3.10/pandas/tests/extension/arrow\r\n",
      "  \u001b[31m   \u001b[0m copying pandas/tests/extension/arrow/__init__.py -> build/lib.linux-x86_64-3.10/pandas/tests/extension/arrow\r\n",
      "  \u001b[31m   \u001b[0m creating build/lib.linux-x86_64-3.10/pandas/tests/extension/base\r\n",
      "  \u001b[31m   \u001b[0m copying pandas/tests/extension/base/base.py -> build/lib.linux-x86_64-3.10/pandas/tests/extension/base\r\n",
      "  \u001b[31m   \u001b[0m copying pandas/tests/extension/base/getitem.py -> build/lib.linux-x86_64-3.10/pandas/tests/extension/base\r\n",
      "  \u001b[31m   \u001b[0m copying pandas/tests/extension/base/groupby.py -> build/lib.linux-x86_64-3.10/pandas/tests/extension/base\r\n",
      "  \u001b[31m   \u001b[0m copying pandas/tests/extension/base/missing.py -> build/lib.linux-x86_64-3.10/pandas/tests/extension/base\r\n",
      "  \u001b[31m   \u001b[0m copying pandas/tests/extension/base/methods.py -> build/lib.linux-x86_64-3.10/pandas/tests/extension/base\r\n",
      "  \u001b[31m   \u001b[0m copying pandas/tests/extension/base/printing.py -> build/lib.linux-x86_64-3.10/pandas/tests/extension/base\r\n",
      "  \u001b[31m   \u001b[0m copying pandas/tests/extension/base/casting.py -> build/lib.linux-x86_64-3.10/pandas/tests/extension/base\r\n",
      "  \u001b[31m   \u001b[0m copying pandas/tests/extension/base/dtype.py -> build/lib.linux-x86_64-3.10/pandas/tests/extension/base\r\n",
      "  \u001b[31m   \u001b[0m copying pandas/tests/extension/base/setitem.py -> build/lib.linux-x86_64-3.10/pandas/tests/extension/base\r\n",
      "  \u001b[31m   \u001b[0m copying pandas/tests/extension/base/interface.py -> build/lib.linux-x86_64-3.10/pandas/tests/extension/base\r\n",
      "  \u001b[31m   \u001b[0m copying pandas/tests/extension/base/reshaping.py -> build/lib.linux-x86_64-3.10/pandas/tests/extension/base\r\n",
      "  \u001b[31m   \u001b[0m copying pandas/tests/extension/base/ops.py -> build/lib.linux-x86_64-3.10/pandas/tests/extension/base\r\n",
      "  \u001b[31m   \u001b[0m copying pandas/tests/extension/base/io.py -> build/lib.linux-x86_64-3.10/pandas/tests/extension/base\r\n",
      "  \u001b[31m   \u001b[0m copying pandas/tests/extension/base/__init__.py -> build/lib.linux-x86_64-3.10/pandas/tests/extension/base\r\n",
      "  \u001b[31m   \u001b[0m copying pandas/tests/extension/base/constructors.py -> build/lib.linux-x86_64-3.10/pandas/tests/extension/base\r\n",
      "  \u001b[31m   \u001b[0m copying pandas/tests/extension/base/reduce.py -> build/lib.linux-x86_64-3.10/pandas/tests/extension/base\r\n",
      "  \u001b[31m   \u001b[0m creating build/lib.linux-x86_64-3.10/pandas/tests/io/msgpack\r\n",
      "  \u001b[31m   \u001b[0m copying pandas/tests/io/msgpack/test_newspec.py -> build/lib.linux-x86_64-3.10/pandas/tests/io/msgpack\r\n",
      "  \u001b[31m   \u001b[0m copying pandas/tests/io/msgpack/test_format.py -> build/lib.linux-x86_64-3.10/pandas/tests/io/msgpack\r\n",
      "  \u001b[31m   \u001b[0m copying pandas/tests/io/msgpack/common.py -> build/lib.linux-x86_64-3.10/pandas/tests/io/msgpack\r\n",
      "  \u001b[31m   \u001b[0m copying pandas/tests/io/msgpack/test_unpack_raw.py -> build/lib.linux-x86_64-3.10/pandas/tests/io/msgpack\r\n",
      "  \u001b[31m   \u001b[0m copying pandas/tests/io/msgpack/test_limits.py -> build/lib.linux-x86_64-3.10/pandas/tests/io/msgpack\r\n",
      "  \u001b[31m   \u001b[0m copying pandas/tests/io/msgpack/test_unpack.py -> build/lib.linux-x86_64-3.10/pandas/tests/io/msgpack\r\n",
      "  \u001b[31m   \u001b[0m copying pandas/tests/io/msgpack/test_read_size.py -> build/lib.linux-x86_64-3.10/pandas/tests/io/msgpack\r\n",
      "  \u001b[31m   \u001b[0m copying pandas/tests/io/msgpack/test_except.py -> build/lib.linux-x86_64-3.10/pandas/tests/io/msgpack\r\n",
      "  \u001b[31m   \u001b[0m copying pandas/tests/io/msgpack/test_pack.py -> build/lib.linux-x86_64-3.10/pandas/tests/io/msgpack\r\n",
      "  \u001b[31m   \u001b[0m copying pandas/tests/io/msgpack/test_sequnpack.py -> build/lib.linux-x86_64-3.10/pandas/tests/io/msgpack\r\n",
      "  \u001b[31m   \u001b[0m copying pandas/tests/io/msgpack/test_subtype.py -> build/lib.linux-x86_64-3.10/pandas/tests/io/msgpack\r\n",
      "  \u001b[31m   \u001b[0m copying pandas/tests/io/msgpack/test_case.py -> build/lib.linux-x86_64-3.10/pandas/tests/io/msgpack\r\n",
      "  \u001b[31m   \u001b[0m copying pandas/tests/io/msgpack/__init__.py -> build/lib.linux-x86_64-3.10/pandas/tests/io/msgpack\r\n",
      "  \u001b[31m   \u001b[0m copying pandas/tests/io/msgpack/test_seq.py -> build/lib.linux-x86_64-3.10/pandas/tests/io/msgpack\r\n",
      "  \u001b[31m   \u001b[0m copying pandas/tests/io/msgpack/test_buffer.py -> build/lib.linux-x86_64-3.10/pandas/tests/io/msgpack\r\n",
      "  \u001b[31m   \u001b[0m copying pandas/tests/io/msgpack/test_obj.py -> build/lib.linux-x86_64-3.10/pandas/tests/io/msgpack\r\n",
      "  \u001b[31m   \u001b[0m copying pandas/tests/io/msgpack/test_extension.py -> build/lib.linux-x86_64-3.10/pandas/tests/io/msgpack\r\n",
      "  \u001b[31m   \u001b[0m creating build/lib.linux-x86_64-3.10/pandas/tests/io/json\r\n",
      "  \u001b[31m   \u001b[0m copying pandas/tests/io/json/test_compression.py -> build/lib.linux-x86_64-3.10/pandas/tests/io/json\r\n",
      "  \u001b[31m   \u001b[0m copying pandas/tests/io/json/test_pandas.py -> build/lib.linux-x86_64-3.10/pandas/tests/io/json\r\n",
      "  \u001b[31m   \u001b[0m copying pandas/tests/io/json/test_json_table_schema.py -> build/lib.linux-x86_64-3.10/pandas/tests/io/json\r\n",
      "  \u001b[31m   \u001b[0m copying pandas/tests/io/json/test_readlines.py -> build/lib.linux-x86_64-3.10/pandas/tests/io/json\r\n",
      "  \u001b[31m   \u001b[0m copying pandas/tests/io/json/test_normalize.py -> build/lib.linux-x86_64-3.10/pandas/tests/io/json\r\n",
      "  \u001b[31m   \u001b[0m copying pandas/tests/io/json/test_ujson.py -> build/lib.linux-x86_64-3.10/pandas/tests/io/json\r\n",
      "  \u001b[31m   \u001b[0m copying pandas/tests/io/json/__init__.py -> build/lib.linux-x86_64-3.10/pandas/tests/io/json\r\n",
      "  \u001b[31m   \u001b[0m creating build/lib.linux-x86_64-3.10/pandas/tests/io/sas\r\n",
      "  \u001b[31m   \u001b[0m copying pandas/tests/io/sas/test_xport.py -> build/lib.linux-x86_64-3.10/pandas/tests/io/sas\r\n",
      "  \u001b[31m   \u001b[0m copying pandas/tests/io/sas/test_sas7bdat.py -> build/lib.linux-x86_64-3.10/pandas/tests/io/sas\r\n",
      "  \u001b[31m   \u001b[0m copying pandas/tests/io/sas/test_sas.py -> build/lib.linux-x86_64-3.10/pandas/tests/io/sas\r\n",
      "  \u001b[31m   \u001b[0m copying pandas/tests/io/sas/__init__.py -> build/lib.linux-x86_64-3.10/pandas/tests/io/sas\r\n",
      "  \u001b[31m   \u001b[0m creating build/lib.linux-x86_64-3.10/pandas/tests/io/parser\r\n",
      "  \u001b[31m   \u001b[0m copying pandas/tests/io/parser/test_read_fwf.py -> build/lib.linux-x86_64-3.10/pandas/tests/io/parser\r\n",
      "  \u001b[31m   \u001b[0m copying pandas/tests/io/parser/test_header.py -> build/lib.linux-x86_64-3.10/pandas/tests/io/parser\r\n",
      "  \u001b[31m   \u001b[0m copying pandas/tests/io/parser/test_network.py -> build/lib.linux-x86_64-3.10/pandas/tests/io/parser\r\n",
      "  \u001b[31m   \u001b[0m copying pandas/tests/io/parser/conftest.py -> build/lib.linux-x86_64-3.10/pandas/tests/io/parser\r\n",
      "  \u001b[31m   \u001b[0m copying pandas/tests/io/parser/test_common.py -> build/lib.linux-x86_64-3.10/pandas/tests/io/parser\r\n",
      "  \u001b[31m   \u001b[0m copying pandas/tests/io/parser/test_parse_dates.py -> build/lib.linux-x86_64-3.10/pandas/tests/io/parser\r\n",
      "  \u001b[31m   \u001b[0m copying pandas/tests/io/parser/test_mangle_dupes.py -> build/lib.linux-x86_64-3.10/pandas/tests/io/parser\r\n",
      "  \u001b[31m   \u001b[0m copying pandas/tests/io/parser/test_skiprows.py -> build/lib.linux-x86_64-3.10/pandas/tests/io/parser\r\n",
      "  \u001b[31m   \u001b[0m copying pandas/tests/io/parser/test_c_parser_only.py -> build/lib.linux-x86_64-3.10/pandas/tests/io/parser\r\n",
      "  \u001b[31m   \u001b[0m copying pandas/tests/io/parser/test_compression.py -> build/lib.linux-x86_64-3.10/pandas/tests/io/parser\r\n",
      "  \u001b[31m   \u001b[0m copying pandas/tests/io/parser/test_python_parser_only.py -> build/lib.linux-x86_64-3.10/pandas/tests/io/parser\r\n",
      "  \u001b[31m   \u001b[0m copying pandas/tests/io/parser/test_comment.py -> build/lib.linux-x86_64-3.10/pandas/tests/io/parser\r\n",
      "  \u001b[31m   \u001b[0m copying pandas/tests/io/parser/test_textreader.py -> build/lib.linux-x86_64-3.10/pandas/tests/io/parser\r\n",
      "  \u001b[31m   \u001b[0m copying pandas/tests/io/parser/test_dtypes.py -> build/lib.linux-x86_64-3.10/pandas/tests/io/parser\r\n",
      "  \u001b[31m   \u001b[0m copying pandas/tests/io/parser/test_index_col.py -> build/lib.linux-x86_64-3.10/pandas/tests/io/parser\r\n",
      "  \u001b[31m   \u001b[0m copying pandas/tests/io/parser/test_multi_thread.py -> build/lib.linux-x86_64-3.10/pandas/tests/io/parser\r\n",
      "  \u001b[31m   \u001b[0m copying pandas/tests/io/parser/test_na_values.py -> build/lib.linux-x86_64-3.10/pandas/tests/io/parser\r\n",
      "  \u001b[31m   \u001b[0m copying pandas/tests/io/parser/test_usecols.py -> build/lib.linux-x86_64-3.10/pandas/tests/io/parser\r\n",
      "  \u001b[31m   \u001b[0m copying pandas/tests/io/parser/test_dialect.py -> build/lib.linux-x86_64-3.10/pandas/tests/io/parser\r\n",
      "  \u001b[31m   \u001b[0m copying pandas/tests/io/parser/__init__.py -> build/lib.linux-x86_64-3.10/pandas/tests/io/parser\r\n",
      "  \u001b[31m   \u001b[0m copying pandas/tests/io/parser/test_quoting.py -> build/lib.linux-x86_64-3.10/pandas/tests/io/parser\r\n",
      "  \u001b[31m   \u001b[0m copying pandas/tests/io/parser/test_unsupported.py -> build/lib.linux-x86_64-3.10/pandas/tests/io/parser\r\n",
      "  \u001b[31m   \u001b[0m copying pandas/tests/io/parser/test_converters.py -> build/lib.linux-x86_64-3.10/pandas/tests/io/parser\r\n",
      "  \u001b[31m   \u001b[0m creating build/lib.linux-x86_64-3.10/pandas/tests/io/formats\r\n",
      "  \u001b[31m   \u001b[0m copying pandas/tests/io/formats/test_eng_formatting.py -> build/lib.linux-x86_64-3.10/pandas/tests/io/formats\r\n",
      "  \u001b[31m   \u001b[0m copying pandas/tests/io/formats/test_format.py -> build/lib.linux-x86_64-3.10/pandas/tests/io/formats\r\n",
      "  \u001b[31m   \u001b[0m copying pandas/tests/io/formats/test_to_html.py -> build/lib.linux-x86_64-3.10/pandas/tests/io/formats\r\n",
      "  \u001b[31m   \u001b[0m copying pandas/tests/io/formats/test_css.py -> build/lib.linux-x86_64-3.10/pandas/tests/io/formats\r\n",
      "  \u001b[31m   \u001b[0m copying pandas/tests/io/formats/test_style.py -> build/lib.linux-x86_64-3.10/pandas/tests/io/formats\r\n",
      "  \u001b[31m   \u001b[0m copying pandas/tests/io/formats/test_printing.py -> build/lib.linux-x86_64-3.10/pandas/tests/io/formats\r\n",
      "  \u001b[31m   \u001b[0m copying pandas/tests/io/formats/test_to_latex.py -> build/lib.linux-x86_64-3.10/pandas/tests/io/formats\r\n",
      "  \u001b[31m   \u001b[0m copying pandas/tests/io/formats/__init__.py -> build/lib.linux-x86_64-3.10/pandas/tests/io/formats\r\n",
      "  \u001b[31m   \u001b[0m copying pandas/tests/io/formats/test_to_csv.py -> build/lib.linux-x86_64-3.10/pandas/tests/io/formats\r\n",
      "  \u001b[31m   \u001b[0m copying pandas/tests/io/formats/test_console.py -> build/lib.linux-x86_64-3.10/pandas/tests/io/formats\r\n",
      "  \u001b[31m   \u001b[0m copying pandas/tests/io/formats/test_to_excel.py -> build/lib.linux-x86_64-3.10/pandas/tests/io/formats\r\n",
      "  \u001b[31m   \u001b[0m creating build/lib.linux-x86_64-3.10/pandas/tests/sparse/frame\r\n",
      "  \u001b[31m   \u001b[0m copying pandas/tests/sparse/frame/conftest.py -> build/lib.linux-x86_64-3.10/pandas/tests/sparse/frame\r\n",
      "  \u001b[31m   \u001b[0m copying pandas/tests/sparse/frame/test_analytics.py -> build/lib.linux-x86_64-3.10/pandas/tests/sparse/frame\r\n",
      "  \u001b[31m   \u001b[0m copying pandas/tests/sparse/frame/test_indexing.py -> build/lib.linux-x86_64-3.10/pandas/tests/sparse/frame\r\n",
      "  \u001b[31m   \u001b[0m copying pandas/tests/sparse/frame/__init__.py -> build/lib.linux-x86_64-3.10/pandas/tests/sparse/frame\r\n",
      "  \u001b[31m   \u001b[0m copying pandas/tests/sparse/frame/test_apply.py -> build/lib.linux-x86_64-3.10/pandas/tests/sparse/frame\r\n",
      "  \u001b[31m   \u001b[0m copying pandas/tests/sparse/frame/test_to_csv.py -> build/lib.linux-x86_64-3.10/pandas/tests/sparse/frame\r\n",
      "  \u001b[31m   \u001b[0m copying pandas/tests/sparse/frame/test_frame.py -> build/lib.linux-x86_64-3.10/pandas/tests/sparse/frame\r\n",
      "  \u001b[31m   \u001b[0m copying pandas/tests/sparse/frame/test_to_from_scipy.py -> build/lib.linux-x86_64-3.10/pandas/tests/sparse/frame\r\n",
      "  \u001b[31m   \u001b[0m creating build/lib.linux-x86_64-3.10/pandas/tests/sparse/series\r\n",
      "  \u001b[31m   \u001b[0m copying pandas/tests/sparse/series/test_series.py -> build/lib.linux-x86_64-3.10/pandas/tests/sparse/series\r\n",
      "  \u001b[31m   \u001b[0m copying pandas/tests/sparse/series/test_indexing.py -> build/lib.linux-x86_64-3.10/pandas/tests/sparse/series\r\n",
      "  \u001b[31m   \u001b[0m copying pandas/tests/sparse/series/__init__.py -> build/lib.linux-x86_64-3.10/pandas/tests/sparse/series\r\n",
      "  \u001b[31m   \u001b[0m creating build/lib.linux-x86_64-3.10/pandas/tests/indexes/datetimes\r\n",
      "  \u001b[31m   \u001b[0m copying pandas/tests/indexes/datetimes/test_ops.py -> build/lib.linux-x86_64-3.10/pandas/tests/indexes/datetimes\r\n",
      "  \u001b[31m   \u001b[0m copying pandas/tests/indexes/datetimes/test_astype.py -> build/lib.linux-x86_64-3.10/pandas/tests/indexes/datetimes\r\n",
      "  \u001b[31m   \u001b[0m copying pandas/tests/indexes/datetimes/test_datetime.py -> build/lib.linux-x86_64-3.10/pandas/tests/indexes/datetimes\r\n",
      "  \u001b[31m   \u001b[0m copying pandas/tests/indexes/datetimes/test_datetimelike.py -> build/lib.linux-x86_64-3.10/pandas/tests/indexes/datetimes\r\n",
      "  \u001b[31m   \u001b[0m copying pandas/tests/indexes/datetimes/test_setops.py -> build/lib.linux-x86_64-3.10/pandas/tests/indexes/datetimes\r\n",
      "  \u001b[31m   \u001b[0m copying pandas/tests/indexes/datetimes/test_construction.py -> build/lib.linux-x86_64-3.10/pandas/tests/indexes/datetimes\r\n",
      "  \u001b[31m   \u001b[0m copying pandas/tests/indexes/datetimes/test_scalar_compat.py -> build/lib.linux-x86_64-3.10/pandas/tests/indexes/datetimes\r\n",
      "  \u001b[31m   \u001b[0m copying pandas/tests/indexes/datetimes/test_formats.py -> build/lib.linux-x86_64-3.10/pandas/tests/indexes/datetimes\r\n",
      "  \u001b[31m   \u001b[0m copying pandas/tests/indexes/datetimes/test_arithmetic.py -> build/lib.linux-x86_64-3.10/pandas/tests/indexes/datetimes\r\n",
      "  \u001b[31m   \u001b[0m copying pandas/tests/indexes/datetimes/test_tools.py -> build/lib.linux-x86_64-3.10/pandas/tests/indexes/datetimes\r\n",
      "  \u001b[31m   \u001b[0m copying pandas/tests/indexes/datetimes/test_date_range.py -> build/lib.linux-x86_64-3.10/pandas/tests/indexes/datetimes\r\n",
      "  \u001b[31m   \u001b[0m copying pandas/tests/indexes/datetimes/test_indexing.py -> build/lib.linux-x86_64-3.10/pandas/tests/indexes/datetimes\r\n",
      "  \u001b[31m   \u001b[0m copying pandas/tests/indexes/datetimes/__init__.py -> build/lib.linux-x86_64-3.10/pandas/tests/indexes/datetimes\r\n",
      "  \u001b[31m   \u001b[0m copying pandas/tests/indexes/datetimes/test_timezones.py -> build/lib.linux-x86_64-3.10/pandas/tests/indexes/datetimes\r\n",
      "  \u001b[31m   \u001b[0m copying pandas/tests/indexes/datetimes/test_missing.py -> build/lib.linux-x86_64-3.10/pandas/tests/indexes/datetimes\r\n",
      "  \u001b[31m   \u001b[0m copying pandas/tests/indexes/datetimes/test_misc.py -> build/lib.linux-x86_64-3.10/pandas/tests/indexes/datetimes\r\n",
      "  \u001b[31m   \u001b[0m copying pandas/tests/indexes/datetimes/test_partial_slicing.py -> build/lib.linux-x86_64-3.10/pandas/tests/indexes/datetimes\r\n",
      "  \u001b[31m   \u001b[0m creating build/lib.linux-x86_64-3.10/pandas/tests/indexes/multi\r\n",
      "  \u001b[31m   \u001b[0m copying pandas/tests/indexes/multi/test_reshape.py -> build/lib.linux-x86_64-3.10/pandas/tests/indexes/multi\r\n",
      "  \u001b[31m   \u001b[0m copying pandas/tests/indexes/multi/test_constructor.py -> build/lib.linux-x86_64-3.10/pandas/tests/indexes/multi\r\n",
      "  \u001b[31m   \u001b[0m copying pandas/tests/indexes/multi/conftest.py -> build/lib.linux-x86_64-3.10/pandas/tests/indexes/multi\r\n",
      "  \u001b[31m   \u001b[0m copying pandas/tests/indexes/multi/test_names.py -> build/lib.linux-x86_64-3.10/pandas/tests/indexes/multi\r\n",
      "  \u001b[31m   \u001b[0m copying pandas/tests/indexes/multi/test_integrity.py -> build/lib.linux-x86_64-3.10/pandas/tests/indexes/multi\r\n",
      "  \u001b[31m   \u001b[0m copying pandas/tests/indexes/multi/test_contains.py -> build/lib.linux-x86_64-3.10/pandas/tests/indexes/multi\r\n",
      "  \u001b[31m   \u001b[0m copying pandas/tests/indexes/multi/test_astype.py -> build/lib.linux-x86_64-3.10/pandas/tests/indexes/multi\r\n",
      "  \u001b[31m   \u001b[0m copying pandas/tests/indexes/multi/test_set_ops.py -> build/lib.linux-x86_64-3.10/pandas/tests/indexes/multi\r\n",
      "  \u001b[31m   \u001b[0m copying pandas/tests/indexes/multi/test_format.py -> build/lib.linux-x86_64-3.10/pandas/tests/indexes/multi\r\n",
      "  \u001b[31m   \u001b[0m copying pandas/tests/indexes/multi/test_partial_indexing.py -> build/lib.linux-x86_64-3.10/pandas/tests/indexes/multi\r\n",
      "  \u001b[31m   \u001b[0m copying pandas/tests/indexes/multi/test_reindex.py -> build/lib.linux-x86_64-3.10/pandas/tests/indexes/multi\r\n",
      "  \u001b[31m   \u001b[0m copying pandas/tests/indexes/multi/test_get_set.py -> build/lib.linux-x86_64-3.10/pandas/tests/indexes/multi\r\n",
      "  \u001b[31m   \u001b[0m copying pandas/tests/indexes/multi/test_compat.py -> build/lib.linux-x86_64-3.10/pandas/tests/indexes/multi\r\n",
      "  \u001b[31m   \u001b[0m copying pandas/tests/indexes/multi/test_monotonic.py -> build/lib.linux-x86_64-3.10/pandas/tests/indexes/multi\r\n",
      "  \u001b[31m   \u001b[0m copying pandas/tests/indexes/multi/test_copy.py -> build/lib.linux-x86_64-3.10/pandas/tests/indexes/multi\r\n",
      "  \u001b[31m   \u001b[0m copying pandas/tests/indexes/multi/test_analytics.py -> build/lib.linux-x86_64-3.10/pandas/tests/indexes/multi\r\n",
      "  \u001b[31m   \u001b[0m copying pandas/tests/indexes/multi/test_equivalence.py -> build/lib.linux-x86_64-3.10/pandas/tests/indexes/multi\r\n",
      "  \u001b[31m   \u001b[0m copying pandas/tests/indexes/multi/test_join.py -> build/lib.linux-x86_64-3.10/pandas/tests/indexes/multi\r\n",
      "  \u001b[31m   \u001b[0m copying pandas/tests/indexes/multi/test_conversion.py -> build/lib.linux-x86_64-3.10/pandas/tests/indexes/multi\r\n",
      "  \u001b[31m   \u001b[0m copying pandas/tests/indexes/multi/test_drop.py -> build/lib.linux-x86_64-3.10/pandas/tests/indexes/multi\r\n",
      "  \u001b[31m   \u001b[0m copying pandas/tests/indexes/multi/test_sorting.py -> build/lib.linux-x86_64-3.10/pandas/tests/indexes/multi\r\n",
      "  \u001b[31m   \u001b[0m copying pandas/tests/indexes/multi/test_indexing.py -> build/lib.linux-x86_64-3.10/pandas/tests/indexes/multi\r\n",
      "  \u001b[31m   \u001b[0m copying pandas/tests/indexes/multi/__init__.py -> build/lib.linux-x86_64-3.10/pandas/tests/indexes/multi\r\n",
      "  \u001b[31m   \u001b[0m copying pandas/tests/indexes/multi/test_missing.py -> build/lib.linux-x86_64-3.10/pandas/tests/indexes/multi\r\n",
      "  \u001b[31m   \u001b[0m copying pandas/tests/indexes/multi/test_duplicates.py -> build/lib.linux-x86_64-3.10/pandas/tests/indexes/multi\r\n",
      "  \u001b[31m   \u001b[0m creating build/lib.linux-x86_64-3.10/pandas/tests/indexes/period\r\n",
      "  \u001b[31m   \u001b[0m copying pandas/tests/indexes/period/test_asfreq.py -> build/lib.linux-x86_64-3.10/pandas/tests/indexes/period\r\n",
      "  \u001b[31m   \u001b[0m copying pandas/tests/indexes/period/test_ops.py -> build/lib.linux-x86_64-3.10/pandas/tests/indexes/period\r\n",
      "  \u001b[31m   \u001b[0m copying pandas/tests/indexes/period/test_astype.py -> build/lib.linux-x86_64-3.10/pandas/tests/indexes/period\r\n",
      "  \u001b[31m   \u001b[0m copying pandas/tests/indexes/period/test_setops.py -> build/lib.linux-x86_64-3.10/pandas/tests/indexes/period\r\n",
      "  \u001b[31m   \u001b[0m copying pandas/tests/indexes/period/test_period_range.py -> build/lib.linux-x86_64-3.10/pandas/tests/indexes/period\r\n",
      "  \u001b[31m   \u001b[0m copying pandas/tests/indexes/period/test_construction.py -> build/lib.linux-x86_64-3.10/pandas/tests/indexes/period\r\n",
      "  \u001b[31m   \u001b[0m copying pandas/tests/indexes/period/test_scalar_compat.py -> build/lib.linux-x86_64-3.10/pandas/tests/indexes/period\r\n",
      "  \u001b[31m   \u001b[0m copying pandas/tests/indexes/period/test_formats.py -> build/lib.linux-x86_64-3.10/pandas/tests/indexes/period\r\n",
      "  \u001b[31m   \u001b[0m copying pandas/tests/indexes/period/test_arithmetic.py -> build/lib.linux-x86_64-3.10/pandas/tests/indexes/period\r\n",
      "  \u001b[31m   \u001b[0m copying pandas/tests/indexes/period/test_tools.py -> build/lib.linux-x86_64-3.10/pandas/tests/indexes/period\r\n",
      "  \u001b[31m   \u001b[0m copying pandas/tests/indexes/period/test_indexing.py -> build/lib.linux-x86_64-3.10/pandas/tests/indexes/period\r\n",
      "  \u001b[31m   \u001b[0m copying pandas/tests/indexes/period/__init__.py -> build/lib.linux-x86_64-3.10/pandas/tests/indexes/period\r\n",
      "  \u001b[31m   \u001b[0m copying pandas/tests/indexes/period/test_partial_slicing.py -> build/lib.linux-x86_64-3.10/pandas/tests/indexes/period\r\n",
      "  \u001b[31m   \u001b[0m copying pandas/tests/indexes/period/test_period.py -> build/lib.linux-x86_64-3.10/pandas/tests/indexes/period\r\n",
      "  \u001b[31m   \u001b[0m creating build/lib.linux-x86_64-3.10/pandas/tests/indexes/interval\r\n",
      "  \u001b[31m   \u001b[0m copying pandas/tests/indexes/interval/test_interval.py -> build/lib.linux-x86_64-3.10/pandas/tests/indexes/interval\r\n",
      "  \u001b[31m   \u001b[0m copying pandas/tests/indexes/interval/test_astype.py -> build/lib.linux-x86_64-3.10/pandas/tests/indexes/interval\r\n",
      "  \u001b[31m   \u001b[0m copying pandas/tests/indexes/interval/test_interval_tree.py -> build/lib.linux-x86_64-3.10/pandas/tests/indexes/interval\r\n",
      "  \u001b[31m   \u001b[0m copying pandas/tests/indexes/interval/test_interval_new.py -> build/lib.linux-x86_64-3.10/pandas/tests/indexes/interval\r\n",
      "  \u001b[31m   \u001b[0m copying pandas/tests/indexes/interval/test_construction.py -> build/lib.linux-x86_64-3.10/pandas/tests/indexes/interval\r\n",
      "  \u001b[31m   \u001b[0m copying pandas/tests/indexes/interval/__init__.py -> build/lib.linux-x86_64-3.10/pandas/tests/indexes/interval\r\n",
      "  \u001b[31m   \u001b[0m copying pandas/tests/indexes/interval/test_interval_range.py -> build/lib.linux-x86_64-3.10/pandas/tests/indexes/interval\r\n",
      "  \u001b[31m   \u001b[0m creating build/lib.linux-x86_64-3.10/pandas/tests/indexes/timedeltas\r\n",
      "  \u001b[31m   \u001b[0m copying pandas/tests/indexes/timedeltas/test_ops.py -> build/lib.linux-x86_64-3.10/pandas/tests/indexes/timedeltas\r\n",
      "  \u001b[31m   \u001b[0m copying pandas/tests/indexes/timedeltas/test_astype.py -> build/lib.linux-x86_64-3.10/pandas/tests/indexes/timedeltas\r\n",
      "  \u001b[31m   \u001b[0m copying pandas/tests/indexes/timedeltas/test_timedelta.py -> build/lib.linux-x86_64-3.10/pandas/tests/indexes/timedeltas\r\n",
      "  \u001b[31m   \u001b[0m copying pandas/tests/indexes/timedeltas/test_setops.py -> build/lib.linux-x86_64-3.10/pandas/tests/indexes/timedeltas\r\n",
      "  \u001b[31m   \u001b[0m copying pandas/tests/indexes/timedeltas/test_construction.py -> build/lib.linux-x86_64-3.10/pandas/tests/indexes/timedeltas\r\n",
      "  \u001b[31m   \u001b[0m copying pandas/tests/indexes/timedeltas/test_scalar_compat.py -> build/lib.linux-x86_64-3.10/pandas/tests/indexes/timedeltas\r\n",
      "  \u001b[31m   \u001b[0m copying pandas/tests/indexes/timedeltas/test_timedelta_range.py -> build/lib.linux-x86_64-3.10/pandas/tests/indexes/timedeltas\r\n",
      "  \u001b[31m   \u001b[0m copying pandas/tests/indexes/timedeltas/test_formats.py -> build/lib.linux-x86_64-3.10/pandas/tests/indexes/timedeltas\r\n",
      "  \u001b[31m   \u001b[0m copying pandas/tests/indexes/timedeltas/test_arithmetic.py -> build/lib.linux-x86_64-3.10/pandas/tests/indexes/timedeltas\r\n",
      "  \u001b[31m   \u001b[0m copying pandas/tests/indexes/timedeltas/test_tools.py -> build/lib.linux-x86_64-3.10/pandas/tests/indexes/timedeltas\r\n",
      "  \u001b[31m   \u001b[0m copying pandas/tests/indexes/timedeltas/test_indexing.py -> build/lib.linux-x86_64-3.10/pandas/tests/indexes/timedeltas\r\n",
      "  \u001b[31m   \u001b[0m copying pandas/tests/indexes/timedeltas/__init__.py -> build/lib.linux-x86_64-3.10/pandas/tests/indexes/timedeltas\r\n",
      "  \u001b[31m   \u001b[0m copying pandas/tests/indexes/timedeltas/test_partial_slicing.py -> build/lib.linux-x86_64-3.10/pandas/tests/indexes/timedeltas\r\n",
      "  \u001b[31m   \u001b[0m creating build/lib.linux-x86_64-3.10/pandas/tests/arrays/categorical\r\n",
      "  \u001b[31m   \u001b[0m copying pandas/tests/arrays/categorical/test_warnings.py -> build/lib.linux-x86_64-3.10/pandas/tests/arrays/categorical\r\n",
      "  \u001b[31m   \u001b[0m copying pandas/tests/arrays/categorical/test_constructors.py -> build/lib.linux-x86_64-3.10/pandas/tests/arrays/categorical\r\n",
      "  \u001b[31m   \u001b[0m copying pandas/tests/arrays/categorical/conftest.py -> build/lib.linux-x86_64-3.10/pandas/tests/arrays/categorical\r\n",
      "  \u001b[31m   \u001b[0m copying pandas/tests/arrays/categorical/test_algos.py -> build/lib.linux-x86_64-3.10/pandas/tests/arrays/categorical\r\n",
      "  \u001b[31m   \u001b[0m copying pandas/tests/arrays/categorical/test_api.py -> build/lib.linux-x86_64-3.10/pandas/tests/arrays/categorical\r\n",
      "  \u001b[31m   \u001b[0m copying pandas/tests/arrays/categorical/test_dtypes.py -> build/lib.linux-x86_64-3.10/pandas/tests/arrays/categorical\r\n",
      "  \u001b[31m   \u001b[0m copying pandas/tests/arrays/categorical/common.py -> build/lib.linux-x86_64-3.10/pandas/tests/arrays/categorical\r\n",
      "  \u001b[31m   \u001b[0m copying pandas/tests/arrays/categorical/test_repr.py -> build/lib.linux-x86_64-3.10/pandas/tests/arrays/categorical\r\n",
      "  \u001b[31m   \u001b[0m copying pandas/tests/arrays/categorical/test_analytics.py -> build/lib.linux-x86_64-3.10/pandas/tests/arrays/categorical\r\n",
      "  \u001b[31m   \u001b[0m copying pandas/tests/arrays/categorical/test_operators.py -> build/lib.linux-x86_64-3.10/pandas/tests/arrays/categorical\r\n",
      "  \u001b[31m   \u001b[0m copying pandas/tests/arrays/categorical/test_sorting.py -> build/lib.linux-x86_64-3.10/pandas/tests/arrays/categorical\r\n",
      "  \u001b[31m   \u001b[0m copying pandas/tests/arrays/categorical/test_indexing.py -> build/lib.linux-x86_64-3.10/pandas/tests/arrays/categorical\r\n",
      "  \u001b[31m   \u001b[0m copying pandas/tests/arrays/categorical/__init__.py -> build/lib.linux-x86_64-3.10/pandas/tests/arrays/categorical\r\n",
      "  \u001b[31m   \u001b[0m copying pandas/tests/arrays/categorical/test_subclass.py -> build/lib.linux-x86_64-3.10/pandas/tests/arrays/categorical\r\n",
      "  \u001b[31m   \u001b[0m copying pandas/tests/arrays/categorical/test_missing.py -> build/lib.linux-x86_64-3.10/pandas/tests/arrays/categorical\r\n",
      "  \u001b[31m   \u001b[0m creating build/lib.linux-x86_64-3.10/pandas/tests/arrays/interval\r\n",
      "  \u001b[31m   \u001b[0m copying pandas/tests/arrays/interval/test_interval.py -> build/lib.linux-x86_64-3.10/pandas/tests/arrays/interval\r\n",
      "  \u001b[31m   \u001b[0m copying pandas/tests/arrays/interval/test_ops.py -> build/lib.linux-x86_64-3.10/pandas/tests/arrays/interval\r\n",
      "  \u001b[31m   \u001b[0m copying pandas/tests/arrays/interval/__init__.py -> build/lib.linux-x86_64-3.10/pandas/tests/arrays/interval\r\n",
      "  \u001b[31m   \u001b[0m creating build/lib.linux-x86_64-3.10/pandas/tests/arrays/sparse\r\n",
      "  \u001b[31m   \u001b[0m copying pandas/tests/arrays/sparse/test_arithmetics.py -> build/lib.linux-x86_64-3.10/pandas/tests/arrays/sparse\r\n",
      "  \u001b[31m   \u001b[0m copying pandas/tests/arrays/sparse/test_libsparse.py -> build/lib.linux-x86_64-3.10/pandas/tests/arrays/sparse\r\n",
      "  \u001b[31m   \u001b[0m copying pandas/tests/arrays/sparse/test_dtype.py -> build/lib.linux-x86_64-3.10/pandas/tests/arrays/sparse\r\n",
      "  \u001b[31m   \u001b[0m copying pandas/tests/arrays/sparse/__init__.py -> build/lib.linux-x86_64-3.10/pandas/tests/arrays/sparse\r\n",
      "  \u001b[31m   \u001b[0m copying pandas/tests/arrays/sparse/test_array.py -> build/lib.linux-x86_64-3.10/pandas/tests/arrays/sparse\r\n",
      "  \u001b[31m   \u001b[0m creating build/lib.linux-x86_64-3.10/pandas/tests/dtypes/cast\r\n",
      "  \u001b[31m   \u001b[0m copying pandas/tests/dtypes/cast/test_find_common_type.py -> build/lib.linux-x86_64-3.10/pandas/tests/dtypes/cast\r\n",
      "  \u001b[31m   \u001b[0m copying pandas/tests/dtypes/cast/test_construct_from_scalar.py -> build/lib.linux-x86_64-3.10/pandas/tests/dtypes/cast\r\n",
      "  \u001b[31m   \u001b[0m copying pandas/tests/dtypes/cast/test_infer_datetimelike.py -> build/lib.linux-x86_64-3.10/pandas/tests/dtypes/cast\r\n",
      "  \u001b[31m   \u001b[0m copying pandas/tests/dtypes/cast/test_construct_object_arr.py -> build/lib.linux-x86_64-3.10/pandas/tests/dtypes/cast\r\n",
      "  \u001b[31m   \u001b[0m copying pandas/tests/dtypes/cast/test_infer_dtype.py -> build/lib.linux-x86_64-3.10/pandas/tests/dtypes/cast\r\n",
      "  \u001b[31m   \u001b[0m copying pandas/tests/dtypes/cast/__init__.py -> build/lib.linux-x86_64-3.10/pandas/tests/dtypes/cast\r\n",
      "  \u001b[31m   \u001b[0m copying pandas/tests/dtypes/cast/test_downcast.py -> build/lib.linux-x86_64-3.10/pandas/tests/dtypes/cast\r\n",
      "  \u001b[31m   \u001b[0m copying pandas/tests/dtypes/cast/test_convert_objects.py -> build/lib.linux-x86_64-3.10/pandas/tests/dtypes/cast\r\n",
      "  \u001b[31m   \u001b[0m copying pandas/tests/dtypes/cast/test_construct_ndarray.py -> build/lib.linux-x86_64-3.10/pandas/tests/dtypes/cast\r\n",
      "  \u001b[31m   \u001b[0m creating build/lib.linux-x86_64-3.10/pandas/tests/series/indexing\r\n",
      "  \u001b[31m   \u001b[0m copying pandas/tests/series/indexing/test_iloc.py -> build/lib.linux-x86_64-3.10/pandas/tests/series/indexing\r\n",
      "  \u001b[31m   \u001b[0m copying pandas/tests/series/indexing/conftest.py -> build/lib.linux-x86_64-3.10/pandas/tests/series/indexing\r\n",
      "  \u001b[31m   \u001b[0m copying pandas/tests/series/indexing/test_datetime.py -> build/lib.linux-x86_64-3.10/pandas/tests/series/indexing\r\n",
      "  \u001b[31m   \u001b[0m copying pandas/tests/series/indexing/test_callable.py -> build/lib.linux-x86_64-3.10/pandas/tests/series/indexing\r\n",
      "  \u001b[31m   \u001b[0m copying pandas/tests/series/indexing/test_alter_index.py -> build/lib.linux-x86_64-3.10/pandas/tests/series/indexing\r\n",
      "  \u001b[31m   \u001b[0m copying pandas/tests/series/indexing/test_numeric.py -> build/lib.linux-x86_64-3.10/pandas/tests/series/indexing\r\n",
      "  \u001b[31m   \u001b[0m copying pandas/tests/series/indexing/test_boolean.py -> build/lib.linux-x86_64-3.10/pandas/tests/series/indexing\r\n",
      "  \u001b[31m   \u001b[0m copying pandas/tests/series/indexing/test_loc.py -> build/lib.linux-x86_64-3.10/pandas/tests/series/indexing\r\n",
      "  \u001b[31m   \u001b[0m copying pandas/tests/series/indexing/test_indexing.py -> build/lib.linux-x86_64-3.10/pandas/tests/series/indexing\r\n",
      "  \u001b[31m   \u001b[0m copying pandas/tests/series/indexing/__init__.py -> build/lib.linux-x86_64-3.10/pandas/tests/series/indexing\r\n",
      "  \u001b[31m   \u001b[0m creating build/lib.linux-x86_64-3.10/pandas/io/msgpack\r\n",
      "  \u001b[31m   \u001b[0m copying pandas/io/msgpack/exceptions.py -> build/lib.linux-x86_64-3.10/pandas/io/msgpack\r\n",
      "  \u001b[31m   \u001b[0m copying pandas/io/msgpack/__init__.py -> build/lib.linux-x86_64-3.10/pandas/io/msgpack\r\n",
      "  \u001b[31m   \u001b[0m copying pandas/io/msgpack/_version.py -> build/lib.linux-x86_64-3.10/pandas/io/msgpack\r\n",
      "  \u001b[31m   \u001b[0m creating build/lib.linux-x86_64-3.10/pandas/io/json\r\n",
      "  \u001b[31m   \u001b[0m copying pandas/io/json/normalize.py -> build/lib.linux-x86_64-3.10/pandas/io/json\r\n",
      "  \u001b[31m   \u001b[0m copying pandas/io/json/table_schema.py -> build/lib.linux-x86_64-3.10/pandas/io/json\r\n",
      "  \u001b[31m   \u001b[0m copying pandas/io/json/__init__.py -> build/lib.linux-x86_64-3.10/pandas/io/json\r\n",
      "  \u001b[31m   \u001b[0m copying pandas/io/json/json.py -> build/lib.linux-x86_64-3.10/pandas/io/json\r\n",
      "  \u001b[31m   \u001b[0m creating build/lib.linux-x86_64-3.10/pandas/io/sas\r\n",
      "  \u001b[31m   \u001b[0m copying pandas/io/sas/sas_constants.py -> build/lib.linux-x86_64-3.10/pandas/io/sas\r\n",
      "  \u001b[31m   \u001b[0m copying pandas/io/sas/sasreader.py -> build/lib.linux-x86_64-3.10/pandas/io/sas\r\n",
      "  \u001b[31m   \u001b[0m copying pandas/io/sas/__init__.py -> build/lib.linux-x86_64-3.10/pandas/io/sas\r\n",
      "  \u001b[31m   \u001b[0m copying pandas/io/sas/sas_xport.py -> build/lib.linux-x86_64-3.10/pandas/io/sas\r\n",
      "  \u001b[31m   \u001b[0m copying pandas/io/sas/sas7bdat.py -> build/lib.linux-x86_64-3.10/pandas/io/sas\r\n",
      "  \u001b[31m   \u001b[0m creating build/lib.linux-x86_64-3.10/pandas/io/formats\r\n",
      "  \u001b[31m   \u001b[0m copying pandas/io/formats/console.py -> build/lib.linux-x86_64-3.10/pandas/io/formats\r\n",
      "  \u001b[31m   \u001b[0m copying pandas/io/formats/printing.py -> build/lib.linux-x86_64-3.10/pandas/io/formats\r\n",
      "  \u001b[31m   \u001b[0m copying pandas/io/formats/html.py -> build/lib.linux-x86_64-3.10/pandas/io/formats\r\n",
      "  \u001b[31m   \u001b[0m copying pandas/io/formats/csvs.py -> build/lib.linux-x86_64-3.10/pandas/io/formats\r\n",
      "  \u001b[31m   \u001b[0m copying pandas/io/formats/terminal.py -> build/lib.linux-x86_64-3.10/pandas/io/formats\r\n",
      "  \u001b[31m   \u001b[0m copying pandas/io/formats/latex.py -> build/lib.linux-x86_64-3.10/pandas/io/formats\r\n",
      "  \u001b[31m   \u001b[0m copying pandas/io/formats/style.py -> build/lib.linux-x86_64-3.10/pandas/io/formats\r\n",
      "  \u001b[31m   \u001b[0m copying pandas/io/formats/format.py -> build/lib.linux-x86_64-3.10/pandas/io/formats\r\n",
      "  \u001b[31m   \u001b[0m copying pandas/io/formats/__init__.py -> build/lib.linux-x86_64-3.10/pandas/io/formats\r\n",
      "  \u001b[31m   \u001b[0m copying pandas/io/formats/css.py -> build/lib.linux-x86_64-3.10/pandas/io/formats\r\n",
      "  \u001b[31m   \u001b[0m copying pandas/io/formats/excel.py -> build/lib.linux-x86_64-3.10/pandas/io/formats\r\n",
      "  \u001b[31m   \u001b[0m creating build/lib.linux-x86_64-3.10/pandas/io/clipboard\r\n",
      "  \u001b[31m   \u001b[0m copying pandas/io/clipboard/clipboards.py -> build/lib.linux-x86_64-3.10/pandas/io/clipboard\r\n",
      "  \u001b[31m   \u001b[0m copying pandas/io/clipboard/exceptions.py -> build/lib.linux-x86_64-3.10/pandas/io/clipboard\r\n",
      "  \u001b[31m   \u001b[0m copying pandas/io/clipboard/__init__.py -> build/lib.linux-x86_64-3.10/pandas/io/clipboard\r\n",
      "  \u001b[31m   \u001b[0m copying pandas/io/clipboard/windows.py -> build/lib.linux-x86_64-3.10/pandas/io/clipboard\r\n",
      "  \u001b[31m   \u001b[0m creating build/lib.linux-x86_64-3.10/pandas/io/formats/templates\r\n",
      "  \u001b[31m   \u001b[0m copying pandas/io/formats/templates/html.tpl -> build/lib.linux-x86_64-3.10/pandas/io/formats/templates\r\n",
      "  \u001b[31m   \u001b[0m UPDATING build/lib.linux-x86_64-3.10/pandas/_version.py\r\n",
      "  \u001b[31m   \u001b[0m set build/lib.linux-x86_64-3.10/pandas/_version.py to '0.24.2'\r\n",
      "  \u001b[31m   \u001b[0m running build_ext\r\n",
      "  \u001b[31m   \u001b[0m building 'pandas._libs.algos' extension\r\n",
      "  \u001b[31m   \u001b[0m C compiler: x86_64-linux-gnu-gcc -Wno-unused-result -Wsign-compare -DNDEBUG -g -fwrapv -O2 -Wall -g -fstack-protector-strong -Wformat -Werror=format-security -g -fwrapv -O2 -g -fstack-protector-strong -Wformat -Werror=format-security -Wdate-time -D_FORTIFY_SOURCE=2 -fPIC\r\n",
      "  \u001b[31m   \u001b[0m \r\n",
      "  \u001b[31m   \u001b[0m creating build/temp.linux-x86_64-3.10\r\n",
      "  \u001b[31m   \u001b[0m creating build/temp.linux-x86_64-3.10/pandas\r\n",
      "  \u001b[31m   \u001b[0m creating build/temp.linux-x86_64-3.10/pandas/_libs\r\n",
      "  \u001b[31m   \u001b[0m compile options: '-I./pandas/_libs -Ipandas/_libs/src/klib -Ipandas/_libs/src -I/usr/lib/python3/dist-packages/numpy/core/include -I/usr/include/python3.10 -c'\r\n",
      "  \u001b[31m   \u001b[0m extra options: '-Wno-unused-function'\r\n",
      "  \u001b[31m   \u001b[0m x86_64-linux-gnu-gcc: pandas/_libs/algos.c\r\n",
      "  \u001b[31m   \u001b[0m In file included from /usr/lib/python3/dist-packages/numpy/core/include/numpy/ndarraytypes.h:1969,\r\n",
      "  \u001b[31m   \u001b[0m                  from /usr/lib/python3/dist-packages/numpy/core/include/numpy/ndarrayobject.h:12,\r\n",
      "  \u001b[31m   \u001b[0m                  from /usr/lib/python3/dist-packages/numpy/core/include/numpy/arrayobject.h:4,\r\n",
      "  \u001b[31m   \u001b[0m                  from pandas/_libs/algos.c:732:\r\n",
      "  \u001b[31m   \u001b[0m /usr/lib/python3/dist-packages/numpy/core/include/numpy/npy_1_7_deprecated_api.h:17:2: warning: #warning \"Using deprecated NumPy API, disable it with \" \"#define NPY_NO_DEPRECATED_API NPY_1_7_API_VERSION\" [-Wcpp]\r\n",
      "  \u001b[31m   \u001b[0m    17 | #warning \"Using deprecated NumPy API, disable it with \" \\\r\n",
      "  \u001b[31m   \u001b[0m       |  ^~~~~~~\r\n",
      "  \u001b[31m   \u001b[0m x86_64-linux-gnu-gcc -shared -Wl,-O1 -Wl,-Bsymbolic-functions -Wl,-Bsymbolic-functions -g -fwrapv -O2 -Wl,-Bsymbolic-functions -g -fwrapv -O2 -g -fstack-protector-strong -Wformat -Werror=format-security -Wdate-time -D_FORTIFY_SOURCE=2 build/temp.linux-x86_64-3.10/pandas/_libs/algos.o -o build/lib.linux-x86_64-3.10/pandas/_libs/algos.cpython-310-x86_64-linux-gnu.so\r\n",
      "  \u001b[31m   \u001b[0m building 'pandas._libs.groupby' extension\r\n",
      "  \u001b[31m   \u001b[0m C compiler: x86_64-linux-gnu-gcc -Wno-unused-result -Wsign-compare -DNDEBUG -g -fwrapv -O2 -Wall -g -fstack-protector-strong -Wformat -Werror=format-security -g -fwrapv -O2 -g -fstack-protector-strong -Wformat -Werror=format-security -Wdate-time -D_FORTIFY_SOURCE=2 -fPIC\r\n",
      "  \u001b[31m   \u001b[0m \r\n",
      "  \u001b[31m   \u001b[0m compile options: '-I./pandas/_libs -Ipandas/_libs/src/klib -Ipandas/_libs/src -I/usr/lib/python3/dist-packages/numpy/core/include -I/usr/include/python3.10 -c'\r\n",
      "  \u001b[31m   \u001b[0m extra options: '-Wno-unused-function'\r\n",
      "  \u001b[31m   \u001b[0m x86_64-linux-gnu-gcc: pandas/_libs/groupby.c\r\n",
      "  \u001b[31m   \u001b[0m In file included from /usr/lib/python3/dist-packages/numpy/core/include/numpy/ndarraytypes.h:1969,\r\n",
      "  \u001b[31m   \u001b[0m                  from /usr/lib/python3/dist-packages/numpy/core/include/numpy/ndarrayobject.h:12,\r\n",
      "  \u001b[31m   \u001b[0m                  from /usr/lib/python3/dist-packages/numpy/core/include/numpy/arrayobject.h:4,\r\n",
      "  \u001b[31m   \u001b[0m                  from pandas/_libs/groupby.c:721:\r\n",
      "  \u001b[31m   \u001b[0m /usr/lib/python3/dist-packages/numpy/core/include/numpy/npy_1_7_deprecated_api.h:17:2: warning: #warning \"Using deprecated NumPy API, disable it with \" \"#define NPY_NO_DEPRECATED_API NPY_1_7_API_VERSION\" [-Wcpp]\r\n",
      "  \u001b[31m   \u001b[0m    17 | #warning \"Using deprecated NumPy API, disable it with \" \\\r\n",
      "  \u001b[31m   \u001b[0m       |  ^~~~~~~\r\n",
      "  \u001b[31m   \u001b[0m pandas/_libs/groupby.c: In function ‘__pyx_pf_6pandas_5_libs_7groupby_44group_last_int64’:\r\n",
      "  \u001b[31m   \u001b[0m pandas/_libs/groupby.c:26828:40: warning: self-comparison always evaluates to true [-Wtautological-compare]\r\n",
      "  \u001b[31m   \u001b[0m 26828 |             __pyx_t_22 = ((__pyx_v_val == __pyx_v_val) != 0);\r\n",
      "  \u001b[31m   \u001b[0m       |                                        ^~\r\n",
      "  \u001b[31m   \u001b[0m pandas/_libs/groupby.c: In function ‘__pyx_pf_6pandas_5_libs_7groupby_46group_nth_int64’:\r\n",
      "  \u001b[31m   \u001b[0m pandas/_libs/groupby.c:27577:40: warning: self-comparison always evaluates to true [-Wtautological-compare]\r\n",
      "  \u001b[31m   \u001b[0m 27577 |             __pyx_t_22 = ((__pyx_v_val == __pyx_v_val) != 0);\r\n",
      "  \u001b[31m   \u001b[0m       |                                        ^~\r\n",
      "  \u001b[31m   \u001b[0m x86_64-linux-gnu-gcc -shared -Wl,-O1 -Wl,-Bsymbolic-functions -Wl,-Bsymbolic-functions -g -fwrapv -O2 -Wl,-Bsymbolic-functions -g -fwrapv -O2 -g -fstack-protector-strong -Wformat -Werror=format-security -Wdate-time -D_FORTIFY_SOURCE=2 build/temp.linux-x86_64-3.10/pandas/_libs/groupby.o -o build/lib.linux-x86_64-3.10/pandas/_libs/groupby.cpython-310-x86_64-linux-gnu.so\r\n",
      "  \u001b[31m   \u001b[0m building 'pandas._libs.hashing' extension\r\n",
      "  \u001b[31m   \u001b[0m C compiler: x86_64-linux-gnu-gcc -Wno-unused-result -Wsign-compare -DNDEBUG -g -fwrapv -O2 -Wall -g -fstack-protector-strong -Wformat -Werror=format-security -g -fwrapv -O2 -g -fstack-protector-strong -Wformat -Werror=format-security -Wdate-time -D_FORTIFY_SOURCE=2 -fPIC\r\n",
      "  \u001b[31m   \u001b[0m \r\n",
      "  \u001b[31m   \u001b[0m compile options: '-I./pandas/_libs -I/usr/lib/python3/dist-packages/numpy/core/include -I/usr/include/python3.10 -c'\r\n",
      "  \u001b[31m   \u001b[0m extra options: '-Wno-unused-function'\r\n",
      "  \u001b[31m   \u001b[0m x86_64-linux-gnu-gcc: pandas/_libs/hashing.c\r\n",
      "  \u001b[31m   \u001b[0m In file included from /usr/lib/python3/dist-packages/numpy/core/include/numpy/ndarraytypes.h:1969,\r\n",
      "  \u001b[31m   \u001b[0m                  from /usr/lib/python3/dist-packages/numpy/core/include/numpy/ndarrayobject.h:12,\r\n",
      "  \u001b[31m   \u001b[0m                  from /usr/lib/python3/dist-packages/numpy/core/include/numpy/arrayobject.h:4,\r\n",
      "  \u001b[31m   \u001b[0m                  from pandas/_libs/hashing.c:717:\r\n",
      "  \u001b[31m   \u001b[0m /usr/lib/python3/dist-packages/numpy/core/include/numpy/npy_1_7_deprecated_api.h:17:2: warning: #warning \"Using deprecated NumPy API, disable it with \" \"#define NPY_NO_DEPRECATED_API NPY_1_7_API_VERSION\" [-Wcpp]\r\n",
      "  \u001b[31m   \u001b[0m    17 | #warning \"Using deprecated NumPy API, disable it with \" \\\r\n",
      "  \u001b[31m   \u001b[0m       |  ^~~~~~~\r\n",
      "  \u001b[31m   \u001b[0m x86_64-linux-gnu-gcc -shared -Wl,-O1 -Wl,-Bsymbolic-functions -Wl,-Bsymbolic-functions -g -fwrapv -O2 -Wl,-Bsymbolic-functions -g -fwrapv -O2 -g -fstack-protector-strong -Wformat -Werror=format-security -Wdate-time -D_FORTIFY_SOURCE=2 build/temp.linux-x86_64-3.10/pandas/_libs/hashing.o -o build/lib.linux-x86_64-3.10/pandas/_libs/hashing.cpython-310-x86_64-linux-gnu.so\r\n",
      "  \u001b[31m   \u001b[0m building 'pandas._libs.hashtable' extension\r\n",
      "  \u001b[31m   \u001b[0m C compiler: x86_64-linux-gnu-gcc -Wno-unused-result -Wsign-compare -DNDEBUG -g -fwrapv -O2 -Wall -g -fstack-protector-strong -Wformat -Werror=format-security -g -fwrapv -O2 -g -fstack-protector-strong -Wformat -Werror=format-security -Wdate-time -D_FORTIFY_SOURCE=2 -fPIC\r\n",
      "  \u001b[31m   \u001b[0m \r\n",
      "  \u001b[31m   \u001b[0m compile options: '-I./pandas/_libs -Ipandas/_libs/src/klib -Ipandas/_libs/src -I/usr/lib/python3/dist-packages/numpy/core/include -I/usr/include/python3.10 -c'\r\n",
      "  \u001b[31m   \u001b[0m extra options: '-Wno-unused-function'\r\n",
      "  \u001b[31m   \u001b[0m x86_64-linux-gnu-gcc: pandas/_libs/hashtable.c\r\n",
      "  \u001b[31m   \u001b[0m In file included from /usr/lib/python3/dist-packages/numpy/core/include/numpy/ndarraytypes.h:1969,\r\n",
      "  \u001b[31m   \u001b[0m                  from /usr/lib/python3/dist-packages/numpy/core/include/numpy/ndarrayobject.h:12,\r\n",
      "  \u001b[31m   \u001b[0m                  from /usr/lib/python3/dist-packages/numpy/core/include/numpy/arrayobject.h:4,\r\n",
      "  \u001b[31m   \u001b[0m                  from pandas/_libs/hashtable.c:723:\r\n",
      "  \u001b[31m   \u001b[0m /usr/lib/python3/dist-packages/numpy/core/include/numpy/npy_1_7_deprecated_api.h:17:2: warning: #warning \"Using deprecated NumPy API, disable it with \" \"#define NPY_NO_DEPRECATED_API NPY_1_7_API_VERSION\" [-Wcpp]\r\n",
      "  \u001b[31m   \u001b[0m    17 | #warning \"Using deprecated NumPy API, disable it with \" \\\r\n",
      "  \u001b[31m   \u001b[0m       |  ^~~~~~~\r\n",
      "  \u001b[31m   \u001b[0m pandas/_libs/hashtable.c: In function ‘__pyx_f_6pandas_5_libs_9hashtable_13Float64Vector_resize’:\r\n",
      "  \u001b[31m   \u001b[0m pandas/_libs/hashtable.c:4209:19: warning: comparison of integer expressions of different signedness: ‘size_t’ {aka ‘long unsigned int’} and ‘Py_ssize_t’ {aka ‘long int’} [-Wsign-compare]\r\n",
      "  \u001b[31m   \u001b[0m  4209 |   if (((__pyx_t_1 > __pyx_t_2) != 0)) {\r\n",
      "  \u001b[31m   \u001b[0m       |                   ^\r\n",
      "  \u001b[31m   \u001b[0m pandas/_libs/hashtable.c: In function ‘__pyx_f_6pandas_5_libs_9hashtable_12UInt64Vector_resize’:\r\n",
      "  \u001b[31m   \u001b[0m pandas/_libs/hashtable.c:5135:19: warning: comparison of integer expressions of different signedness: ‘size_t’ {aka ‘long unsigned int’} and ‘Py_ssize_t’ {aka ‘long int’} [-Wsign-compare]\r\n",
      "  \u001b[31m   \u001b[0m  5135 |   if (((__pyx_t_1 > __pyx_t_2) != 0)) {\r\n",
      "  \u001b[31m   \u001b[0m       |                   ^\r\n",
      "  \u001b[31m   \u001b[0m pandas/_libs/hashtable.c: In function ‘__pyx_f_6pandas_5_libs_9hashtable_12StringVector_resize’:\r\n",
      "  \u001b[31m   \u001b[0m pandas/_libs/hashtable.c:6978:19: warning: comparison of integer expressions of different signedness: ‘size_t’ {aka ‘long unsigned int’} and ‘Py_ssize_t’ {aka ‘long int’} [-Wsign-compare]\r\n",
      "  \u001b[31m   \u001b[0m  6978 |   if (((__pyx_t_2 > __pyx_t_1) != 0)) {\r\n",
      "  \u001b[31m   \u001b[0m       |                   ^\r\n",
      "  \u001b[31m   \u001b[0m pandas/_libs/hashtable.c: In function ‘__pyx_f_6pandas_5_libs_9hashtable_12ObjectVector_append’:\r\n",
      "  \u001b[31m   \u001b[0m pandas/_libs/hashtable.c:7913:21: warning: comparison of integer expressions of different signedness: ‘size_t’ {aka ‘long unsigned int’} and ‘Py_ssize_t’ {aka ‘long int’} [-Wsign-compare]\r\n",
      "  \u001b[31m   \u001b[0m  7913 |     if (((__pyx_t_3 > __pyx_t_4) != 0)) {\r\n",
      "  \u001b[31m   \u001b[0m       |                     ^\r\n",
      "  \u001b[31m   \u001b[0m pandas/_libs/hashtable.c: In function ‘__pyx_pf_6pandas_5_libs_9hashtable_15UInt64HashTable_20_unique’:\r\n",
      "  \u001b[31m   \u001b[0m pandas/_libs/hashtable.c:14600:38: warning: self-comparison always evaluates to false [-Wtautological-compare]\r\n",
      "  \u001b[31m   \u001b[0m 14600 |           __pyx_t_15 = ((__pyx_v_val != __pyx_v_val) != 0);\r\n",
      "  \u001b[31m   \u001b[0m       |                                      ^~\r\n",
      "  \u001b[31m   \u001b[0m pandas/_libs/hashtable.c: In function ‘__pyx_pf_6pandas_5_libs_9hashtable_14Int64HashTable_20_unique’:\r\n",
      "  \u001b[31m   \u001b[0m pandas/_libs/hashtable.c:18401:38: warning: self-comparison always evaluates to false [-Wtautological-compare]\r\n",
      "  \u001b[31m   \u001b[0m 18401 |           __pyx_t_15 = ((__pyx_v_val != __pyx_v_val) != 0);\r\n",
      "  \u001b[31m   \u001b[0m       |                                      ^~\r\n",
      "  \u001b[31m   \u001b[0m pandas/_libs/hashtable.c: In function ‘__pyx_pf_6pandas_5_libs_9hashtable_15StringHashTable_12lookup’:\r\n",
      "  \u001b[31m   \u001b[0m pandas/_libs/hashtable.c:21623:31: warning: assignment discards ‘const’ qualifier from pointer target type [-Wdiscarded-qualifiers]\r\n",
      "  \u001b[31m   \u001b[0m 21623 |     (__pyx_v_vecs[__pyx_v_i]) = __pyx_v_v;\r\n",
      "  \u001b[31m   \u001b[0m       |                               ^\r\n",
      "  \u001b[31m   \u001b[0m pandas/_libs/hashtable.c: In function ‘__pyx_pf_6pandas_5_libs_9hashtable_4ismember_float64’:\r\n",
      "  \u001b[31m   \u001b[0m pandas/_libs/hashtable.c:28418:19: warning: comparison of integer expressions of different signedness: ‘size_t’ {aka ‘long unsigned int’} and ‘Py_ssize_t’ {aka ‘long int’} [-Wsign-compare]\r\n",
      "  \u001b[31m   \u001b[0m 28418 |   if (((__pyx_t_1 < __pyx_t_2) != 0)) {\r\n",
      "  \u001b[31m   \u001b[0m       |                   ^\r\n",
      "  \u001b[31m   \u001b[0m pandas/_libs/hashtable.c: In function ‘__pyx_pf_6pandas_5_libs_9hashtable_10ismember_uint64’:\r\n",
      "  \u001b[31m   \u001b[0m pandas/_libs/hashtable.c:30108:19: warning: comparison of integer expressions of different signedness: ‘size_t’ {aka ‘long unsigned int’} and ‘Py_ssize_t’ {aka ‘long int’} [-Wsign-compare]\r\n",
      "  \u001b[31m   \u001b[0m 30108 |   if (((__pyx_t_1 < __pyx_t_2) != 0)) {\r\n",
      "  \u001b[31m   \u001b[0m       |                   ^\r\n",
      "  \u001b[31m   \u001b[0m pandas/_libs/hashtable.c: In function ‘__pyx_pf_6pandas_5_libs_9hashtable_22ismember_int64’:\r\n",
      "  \u001b[31m   \u001b[0m pandas/_libs/hashtable.c:33355:19: warning: comparison of integer expressions of different signedness: ‘size_t’ {aka ‘long unsigned int’} and ‘Py_ssize_t’ {aka ‘long int’} [-Wsign-compare]\r\n",
      "  \u001b[31m   \u001b[0m 33355 |   if (((__pyx_t_1 < __pyx_t_2) != 0)) {\r\n",
      "  \u001b[31m   \u001b[0m       |                   ^\r\n",
      "  \u001b[31m   \u001b[0m x86_64-linux-gnu-gcc -shared -Wl,-O1 -Wl,-Bsymbolic-functions -Wl,-Bsymbolic-functions -g -fwrapv -O2 -Wl,-Bsymbolic-functions -g -fwrapv -O2 -g -fstack-protector-strong -Wformat -Werror=format-security -Wdate-time -D_FORTIFY_SOURCE=2 build/temp.linux-x86_64-3.10/pandas/_libs/hashtable.o -o build/lib.linux-x86_64-3.10/pandas/_libs/hashtable.cpython-310-x86_64-linux-gnu.so\r\n",
      "  \u001b[31m   \u001b[0m building 'pandas._libs.index' extension\r\n",
      "  \u001b[31m   \u001b[0m C compiler: x86_64-linux-gnu-gcc -Wno-unused-result -Wsign-compare -DNDEBUG -g -fwrapv -O2 -Wall -g -fstack-protector-strong -Wformat -Werror=format-security -g -fwrapv -O2 -g -fstack-protector-strong -Wformat -Werror=format-security -Wdate-time -D_FORTIFY_SOURCE=2 -fPIC\r\n",
      "  \u001b[31m   \u001b[0m \r\n",
      "  \u001b[31m   \u001b[0m creating build/temp.linux-x86_64-3.10/pandas/_libs/tslibs\r\n",
      "  \u001b[31m   \u001b[0m creating build/temp.linux-x86_64-3.10/pandas/_libs/tslibs/src\r\n",
      "  \u001b[31m   \u001b[0m creating build/temp.linux-x86_64-3.10/pandas/_libs/tslibs/src/datetime\r\n",
      "  \u001b[31m   \u001b[0m compile options: '-I./pandas/_libs -I./pandas/_libs/tslibs -Ipandas/_libs/src/klib -Ipandas/_libs/src -Ipandas/_libs/tslibs/src -Ipandas/_libs/tslibs -I/usr/lib/python3/dist-packages/numpy/core/include -I/usr/include/python3.10 -c'\r\n",
      "  \u001b[31m   \u001b[0m extra options: '-Wno-unused-function'\r\n",
      "  \u001b[31m   \u001b[0m x86_64-linux-gnu-gcc: pandas/_libs/index.c\r\n",
      "  \u001b[31m   \u001b[0m x86_64-linux-gnu-gcc: pandas/_libs/tslibs/src/datetime/np_datetime.c\r\n",
      "  \u001b[31m   \u001b[0m x86_64-linux-gnu-gcc: pandas/_libs/tslibs/src/datetime/np_datetime_strings.c\r\n",
      "  \u001b[31m   \u001b[0m In file included from /usr/lib/python3/dist-packages/numpy/core/include/numpy/ndarraytypes.h:1969,\r\n",
      "  \u001b[31m   \u001b[0m                  from /usr/lib/python3/dist-packages/numpy/core/include/numpy/ndarrayobject.h:12,\r\n",
      "  \u001b[31m   \u001b[0m                  from /usr/lib/python3/dist-packages/numpy/core/include/numpy/arrayobject.h:4,\r\n",
      "  \u001b[31m   \u001b[0m                  from pandas/_libs/index.c:726:\r\n",
      "  \u001b[31m   \u001b[0m /usr/lib/python3/dist-packages/numpy/core/include/numpy/npy_1_7_deprecated_api.h:17:2: warning: #warning \"Using deprecated NumPy API, disable it with \" \"#define NPY_NO_DEPRECATED_API NPY_1_7_API_VERSION\" [-Wcpp]\r\n",
      "  \u001b[31m   \u001b[0m    17 | #warning \"Using deprecated NumPy API, disable it with \" \\\r\n",
      "  \u001b[31m   \u001b[0m       |  ^~~~~~~\r\n",
      "  \u001b[31m   \u001b[0m In file included from pandas/_libs/tslibs/src/datetime/np_datetime.c:24:\r\n",
      "  \u001b[31m   \u001b[0m /usr/include/python3.10/datetime.h:197:25: warning: ‘PyDateTimeAPI’ defined but not used [-Wunused-variable]\r\n",
      "  \u001b[31m   \u001b[0m   197 | static PyDateTime_CAPI *PyDateTimeAPI = NULL;\r\n",
      "  \u001b[31m   \u001b[0m       |                         ^~~~~~~~~~~~~\r\n",
      "  \u001b[31m   \u001b[0m In file included from pandas/_libs/tslibs/src/datetime/np_datetime.h:25,\r\n",
      "  \u001b[31m   \u001b[0m                  from pandas/_libs/tslibs/src/datetime/np_datetime_strings.c:37:\r\n",
      "  \u001b[31m   \u001b[0m /usr/include/python3.10/datetime.h:197:25: warning: ‘PyDateTimeAPI’ defined but not used [-Wunused-variable]\r\n",
      "  \u001b[31m   \u001b[0m   197 | static PyDateTime_CAPI *PyDateTimeAPI = NULL;\r\n",
      "  \u001b[31m   \u001b[0m       |                         ^~~~~~~~~~~~~\r\n",
      "  \u001b[31m   \u001b[0m pandas/_libs/index.c: In function ‘__pyx_f_6pandas_5_libs_5index_11IndexEngine_get_loc’:\r\n",
      "  \u001b[31m   \u001b[0m pandas/_libs/index.c:642:40: warning: ‘__pyx_v_mid’ may be used uninitialized [-Wmaybe-uninitialized]\r\n",
      "  \u001b[31m   \u001b[0m   642 |   #define PyInt_FromSsize_t            PyLong_FromSsize_t\r\n",
      "  \u001b[31m   \u001b[0m       |                                        ^~~~~~~~~~~~~~~~~~\r\n",
      "  \u001b[31m   \u001b[0m pandas/_libs/index.c:10190:14: note: ‘__pyx_v_mid’ was declared here\r\n",
      "  \u001b[31m   \u001b[0m 10190 |   Py_ssize_t __pyx_v_mid;\r\n",
      "  \u001b[31m   \u001b[0m       |              ^~~~~~~~~~~\r\n",
      "  \u001b[31m   \u001b[0m x86_64-linux-gnu-gcc -shared -Wl,-O1 -Wl,-Bsymbolic-functions -Wl,-Bsymbolic-functions -g -fwrapv -O2 -Wl,-Bsymbolic-functions -g -fwrapv -O2 -g -fstack-protector-strong -Wformat -Werror=format-security -Wdate-time -D_FORTIFY_SOURCE=2 build/temp.linux-x86_64-3.10/pandas/_libs/index.o build/temp.linux-x86_64-3.10/pandas/_libs/tslibs/src/datetime/np_datetime.o build/temp.linux-x86_64-3.10/pandas/_libs/tslibs/src/datetime/np_datetime_strings.o -o build/lib.linux-x86_64-3.10/pandas/_libs/index.cpython-310-x86_64-linux-gnu.so\r\n",
      "  \u001b[31m   \u001b[0m building 'pandas._libs.indexing' extension\r\n",
      "  \u001b[31m   \u001b[0m C compiler: x86_64-linux-gnu-gcc -Wno-unused-result -Wsign-compare -DNDEBUG -g -fwrapv -O2 -Wall -g -fstack-protector-strong -Wformat -Werror=format-security -g -fwrapv -O2 -g -fstack-protector-strong -Wformat -Werror=format-security -Wdate-time -D_FORTIFY_SOURCE=2 -fPIC\r\n",
      "  \u001b[31m   \u001b[0m \r\n",
      "  \u001b[31m   \u001b[0m compile options: '-Ipandas/_libs/src/klib -Ipandas/_libs/src -I/usr/lib/python3/dist-packages/numpy/core/include -I/usr/include/python3.10 -c'\r\n",
      "  \u001b[31m   \u001b[0m extra options: '-Wno-unused-function'\r\n",
      "  \u001b[31m   \u001b[0m x86_64-linux-gnu-gcc: pandas/_libs/indexing.c\r\n",
      "  \u001b[31m   \u001b[0m pandas/_libs/indexing.c: In function ‘__Pyx_modinit_type_init_code’:\r\n",
      "  \u001b[31m   \u001b[0m pandas/_libs/indexing.c:2812:58: error: ‘PyTypeObject’ {aka ‘struct _typeobject’} has no member named ‘tp_print’\r\n",
      "  \u001b[31m   \u001b[0m  2812 |   __pyx_type_6pandas_5_libs_8indexing__NDFrameIndexerBase.tp_print = 0;\r\n",
      "  \u001b[31m   \u001b[0m       |                                                          ^\r\n",
      "  \u001b[31m   \u001b[0m pandas/_libs/indexing.c: In function ‘__Pyx_ParseOptionalKeywords’:\r\n",
      "  \u001b[31m   \u001b[0m pandas/_libs/indexing.c:3199:21: warning: ‘_PyUnicode_get_wstr_length’ is deprecated [-Wdeprecated-declarations]\r\n",
      "  \u001b[31m   \u001b[0m  3199 |                     (PyUnicode_GET_SIZE(**name) != PyUnicode_GET_SIZE(key)) ? 1 :\r\n",
      "  \u001b[31m   \u001b[0m       |                     ^\r\n",
      "  \u001b[31m   \u001b[0m In file included from /usr/include/python3.10/unicodeobject.h:1046,\r\n",
      "  \u001b[31m   \u001b[0m                  from /usr/include/python3.10/Python.h:83,\r\n",
      "  \u001b[31m   \u001b[0m                  from pandas/_libs/indexing.c:25:\r\n",
      "  \u001b[31m   \u001b[0m /usr/include/python3.10/cpython/unicodeobject.h:446:26: note: declared here\r\n",
      "  \u001b[31m   \u001b[0m   446 | static inline Py_ssize_t _PyUnicode_get_wstr_length(PyObject *op) {\r\n",
      "  \u001b[31m   \u001b[0m       |                          ^~~~~~~~~~~~~~~~~~~~~~~~~~\r\n",
      "  \u001b[31m   \u001b[0m pandas/_libs/indexing.c:3199:21: warning: ‘PyUnicode_AsUnicode’ is deprecated [-Wdeprecated-declarations]\r\n",
      "  \u001b[31m   \u001b[0m  3199 |                     (PyUnicode_GET_SIZE(**name) != PyUnicode_GET_SIZE(key)) ? 1 :\r\n",
      "  \u001b[31m   \u001b[0m       |                     ^\r\n",
      "  \u001b[31m   \u001b[0m In file included from /usr/include/python3.10/unicodeobject.h:1046,\r\n",
      "  \u001b[31m   \u001b[0m                  from /usr/include/python3.10/Python.h:83,\r\n",
      "  \u001b[31m   \u001b[0m                  from pandas/_libs/indexing.c:25:\r\n",
      "  \u001b[31m   \u001b[0m /usr/include/python3.10/cpython/unicodeobject.h:580:45: note: declared here\r\n",
      "  \u001b[31m   \u001b[0m   580 | Py_DEPRECATED(3.3) PyAPI_FUNC(Py_UNICODE *) PyUnicode_AsUnicode(\r\n",
      "  \u001b[31m   \u001b[0m       |                                             ^~~~~~~~~~~~~~~~~~~\r\n",
      "  \u001b[31m   \u001b[0m pandas/_libs/indexing.c:3199:21: warning: ‘_PyUnicode_get_wstr_length’ is deprecated [-Wdeprecated-declarations]\r\n",
      "  \u001b[31m   \u001b[0m  3199 |                     (PyUnicode_GET_SIZE(**name) != PyUnicode_GET_SIZE(key)) ? 1 :\r\n",
      "  \u001b[31m   \u001b[0m       |                     ^\r\n",
      "  \u001b[31m   \u001b[0m In file included from /usr/include/python3.10/unicodeobject.h:1046,\r\n",
      "  \u001b[31m   \u001b[0m                  from /usr/include/python3.10/Python.h:83,\r\n",
      "  \u001b[31m   \u001b[0m                  from pandas/_libs/indexing.c:25:\r\n",
      "  \u001b[31m   \u001b[0m /usr/include/python3.10/cpython/unicodeobject.h:446:26: note: declared here\r\n",
      "  \u001b[31m   \u001b[0m   446 | static inline Py_ssize_t _PyUnicode_get_wstr_length(PyObject *op) {\r\n",
      "  \u001b[31m   \u001b[0m       |                          ^~~~~~~~~~~~~~~~~~~~~~~~~~\r\n",
      "  \u001b[31m   \u001b[0m pandas/_libs/indexing.c:3199:21: warning: ‘_PyUnicode_get_wstr_length’ is deprecated [-Wdeprecated-declarations]\r\n",
      "  \u001b[31m   \u001b[0m  3199 |                     (PyUnicode_GET_SIZE(**name) != PyUnicode_GET_SIZE(key)) ? 1 :\r\n",
      "  \u001b[31m   \u001b[0m       |                     ^\r\n",
      "  \u001b[31m   \u001b[0m In file included from /usr/include/python3.10/unicodeobject.h:1046,\r\n",
      "  \u001b[31m   \u001b[0m                  from /usr/include/python3.10/Python.h:83,\r\n",
      "  \u001b[31m   \u001b[0m                  from pandas/_libs/indexing.c:25:\r\n",
      "  \u001b[31m   \u001b[0m /usr/include/python3.10/cpython/unicodeobject.h:446:26: note: declared here\r\n",
      "  \u001b[31m   \u001b[0m   446 | static inline Py_ssize_t _PyUnicode_get_wstr_length(PyObject *op) {\r\n",
      "  \u001b[31m   \u001b[0m       |                          ^~~~~~~~~~~~~~~~~~~~~~~~~~\r\n",
      "  \u001b[31m   \u001b[0m pandas/_libs/indexing.c:3199:21: warning: ‘PyUnicode_AsUnicode’ is deprecated [-Wdeprecated-declarations]\r\n",
      "  \u001b[31m   \u001b[0m  3199 |                     (PyUnicode_GET_SIZE(**name) != PyUnicode_GET_SIZE(key)) ? 1 :\r\n",
      "  \u001b[31m   \u001b[0m       |                     ^\r\n",
      "  \u001b[31m   \u001b[0m In file included from /usr/include/python3.10/unicodeobject.h:1046,\r\n",
      "  \u001b[31m   \u001b[0m                  from /usr/include/python3.10/Python.h:83,\r\n",
      "  \u001b[31m   \u001b[0m                  from pandas/_libs/indexing.c:25:\r\n",
      "  \u001b[31m   \u001b[0m /usr/include/python3.10/cpython/unicodeobject.h:580:45: note: declared here\r\n",
      "  \u001b[31m   \u001b[0m   580 | Py_DEPRECATED(3.3) PyAPI_FUNC(Py_UNICODE *) PyUnicode_AsUnicode(\r\n",
      "  \u001b[31m   \u001b[0m       |                                             ^~~~~~~~~~~~~~~~~~~\r\n",
      "  \u001b[31m   \u001b[0m pandas/_libs/indexing.c:3199:21: warning: ‘_PyUnicode_get_wstr_length’ is deprecated [-Wdeprecated-declarations]\r\n",
      "  \u001b[31m   \u001b[0m  3199 |                     (PyUnicode_GET_SIZE(**name) != PyUnicode_GET_SIZE(key)) ? 1 :\r\n",
      "  \u001b[31m   \u001b[0m       |                     ^\r\n",
      "  \u001b[31m   \u001b[0m In file included from /usr/include/python3.10/unicodeobject.h:1046,\r\n",
      "  \u001b[31m   \u001b[0m                  from /usr/include/python3.10/Python.h:83,\r\n",
      "  \u001b[31m   \u001b[0m                  from pandas/_libs/indexing.c:25:\r\n",
      "  \u001b[31m   \u001b[0m /usr/include/python3.10/cpython/unicodeobject.h:446:26: note: declared here\r\n",
      "  \u001b[31m   \u001b[0m   446 | static inline Py_ssize_t _PyUnicode_get_wstr_length(PyObject *op) {\r\n",
      "  \u001b[31m   \u001b[0m       |                          ^~~~~~~~~~~~~~~~~~~~~~~~~~\r\n",
      "  \u001b[31m   \u001b[0m pandas/_libs/indexing.c:3215:25: warning: ‘_PyUnicode_get_wstr_length’ is deprecated [-Wdeprecated-declarations]\r\n",
      "  \u001b[31m   \u001b[0m  3215 |                         (PyUnicode_GET_SIZE(**argname) != PyUnicode_GET_SIZE(key)) ? 1 :\r\n",
      "  \u001b[31m   \u001b[0m       |                         ^\r\n",
      "  \u001b[31m   \u001b[0m In file included from /usr/include/python3.10/unicodeobject.h:1046,\r\n",
      "  \u001b[31m   \u001b[0m                  from /usr/include/python3.10/Python.h:83,\r\n",
      "  \u001b[31m   \u001b[0m                  from pandas/_libs/indexing.c:25:\r\n",
      "  \u001b[31m   \u001b[0m /usr/include/python3.10/cpython/unicodeobject.h:446:26: note: declared here\r\n",
      "  \u001b[31m   \u001b[0m   446 | static inline Py_ssize_t _PyUnicode_get_wstr_length(PyObject *op) {\r\n",
      "  \u001b[31m   \u001b[0m       |                          ^~~~~~~~~~~~~~~~~~~~~~~~~~\r\n",
      "  \u001b[31m   \u001b[0m pandas/_libs/indexing.c:3215:25: warning: ‘PyUnicode_AsUnicode’ is deprecated [-Wdeprecated-declarations]\r\n",
      "  \u001b[31m   \u001b[0m  3215 |                         (PyUnicode_GET_SIZE(**argname) != PyUnicode_GET_SIZE(key)) ? 1 :\r\n",
      "  \u001b[31m   \u001b[0m       |                         ^\r\n",
      "  \u001b[31m   \u001b[0m In file included from /usr/include/python3.10/unicodeobject.h:1046,\r\n",
      "  \u001b[31m   \u001b[0m                  from /usr/include/python3.10/Python.h:83,\r\n",
      "  \u001b[31m   \u001b[0m                  from pandas/_libs/indexing.c:25:\r\n",
      "  \u001b[31m   \u001b[0m /usr/include/python3.10/cpython/unicodeobject.h:580:45: note: declared here\r\n",
      "  \u001b[31m   \u001b[0m   580 | Py_DEPRECATED(3.3) PyAPI_FUNC(Py_UNICODE *) PyUnicode_AsUnicode(\r\n",
      "  \u001b[31m   \u001b[0m       |                                             ^~~~~~~~~~~~~~~~~~~\r\n",
      "  \u001b[31m   \u001b[0m pandas/_libs/indexing.c:3215:25: warning: ‘_PyUnicode_get_wstr_length’ is deprecated [-Wdeprecated-declarations]\r\n",
      "  \u001b[31m   \u001b[0m  3215 |                         (PyUnicode_GET_SIZE(**argname) != PyUnicode_GET_SIZE(key)) ? 1 :\r\n",
      "  \u001b[31m   \u001b[0m       |                         ^\r\n",
      "  \u001b[31m   \u001b[0m In file included from /usr/include/python3.10/unicodeobject.h:1046,\r\n",
      "  \u001b[31m   \u001b[0m                  from /usr/include/python3.10/Python.h:83,\r\n",
      "  \u001b[31m   \u001b[0m                  from pandas/_libs/indexing.c:25:\r\n",
      "  \u001b[31m   \u001b[0m /usr/include/python3.10/cpython/unicodeobject.h:446:26: note: declared here\r\n",
      "  \u001b[31m   \u001b[0m   446 | static inline Py_ssize_t _PyUnicode_get_wstr_length(PyObject *op) {\r\n",
      "  \u001b[31m   \u001b[0m       |                          ^~~~~~~~~~~~~~~~~~~~~~~~~~\r\n",
      "  \u001b[31m   \u001b[0m pandas/_libs/indexing.c:3215:25: warning: ‘_PyUnicode_get_wstr_length’ is deprecated [-Wdeprecated-declarations]\r\n",
      "  \u001b[31m   \u001b[0m  3215 |                         (PyUnicode_GET_SIZE(**argname) != PyUnicode_GET_SIZE(key)) ? 1 :\r\n",
      "  \u001b[31m   \u001b[0m       |                         ^\r\n",
      "  \u001b[31m   \u001b[0m In file included from /usr/include/python3.10/unicodeobject.h:1046,\r\n",
      "  \u001b[31m   \u001b[0m                  from /usr/include/python3.10/Python.h:83,\r\n",
      "  \u001b[31m   \u001b[0m                  from pandas/_libs/indexing.c:25:\r\n",
      "  \u001b[31m   \u001b[0m /usr/include/python3.10/cpython/unicodeobject.h:446:26: note: declared here\r\n",
      "  \u001b[31m   \u001b[0m   446 | static inline Py_ssize_t _PyUnicode_get_wstr_length(PyObject *op) {\r\n",
      "  \u001b[31m   \u001b[0m       |                          ^~~~~~~~~~~~~~~~~~~~~~~~~~\r\n",
      "  \u001b[31m   \u001b[0m pandas/_libs/indexing.c:3215:25: warning: ‘PyUnicode_AsUnicode’ is deprecated [-Wdeprecated-declarations]\r\n",
      "  \u001b[31m   \u001b[0m  3215 |                         (PyUnicode_GET_SIZE(**argname) != PyUnicode_GET_SIZE(key)) ? 1 :\r\n",
      "  \u001b[31m   \u001b[0m       |                         ^\r\n",
      "  \u001b[31m   \u001b[0m In file included from /usr/include/python3.10/unicodeobject.h:1046,\r\n",
      "  \u001b[31m   \u001b[0m                  from /usr/include/python3.10/Python.h:83,\r\n",
      "  \u001b[31m   \u001b[0m                  from pandas/_libs/indexing.c:25:\r\n",
      "  \u001b[31m   \u001b[0m /usr/include/python3.10/cpython/unicodeobject.h:580:45: note: declared here\r\n",
      "  \u001b[31m   \u001b[0m   580 | Py_DEPRECATED(3.3) PyAPI_FUNC(Py_UNICODE *) PyUnicode_AsUnicode(\r\n",
      "  \u001b[31m   \u001b[0m       |                                             ^~~~~~~~~~~~~~~~~~~\r\n",
      "  \u001b[31m   \u001b[0m pandas/_libs/indexing.c:3215:25: warning: ‘_PyUnicode_get_wstr_length’ is deprecated [-Wdeprecated-declarations]\r\n",
      "  \u001b[31m   \u001b[0m  3215 |                         (PyUnicode_GET_SIZE(**argname) != PyUnicode_GET_SIZE(key)) ? 1 :\r\n",
      "  \u001b[31m   \u001b[0m       |                         ^\r\n",
      "  \u001b[31m   \u001b[0m In file included from /usr/include/python3.10/unicodeobject.h:1046,\r\n",
      "  \u001b[31m   \u001b[0m                  from /usr/include/python3.10/Python.h:83,\r\n",
      "  \u001b[31m   \u001b[0m                  from pandas/_libs/indexing.c:25:\r\n",
      "  \u001b[31m   \u001b[0m /usr/include/python3.10/cpython/unicodeobject.h:446:26: note: declared here\r\n",
      "  \u001b[31m   \u001b[0m   446 | static inline Py_ssize_t _PyUnicode_get_wstr_length(PyObject *op) {\r\n",
      "  \u001b[31m   \u001b[0m       |                          ^~~~~~~~~~~~~~~~~~~~~~~~~~\r\n",
      "  \u001b[31m   \u001b[0m error: Command \"x86_64-linux-gnu-gcc -Wno-unused-result -Wsign-compare -DNDEBUG -g -fwrapv -O2 -Wall -g -fstack-protector-strong -Wformat -Werror=format-security -g -fwrapv -O2 -g -fstack-protector-strong -Wformat -Werror=format-security -Wdate-time -D_FORTIFY_SOURCE=2 -fPIC -Ipandas/_libs/src/klib -Ipandas/_libs/src -I/usr/lib/python3/dist-packages/numpy/core/include -I/usr/include/python3.10 -c pandas/_libs/indexing.c -o build/temp.linux-x86_64-3.10/pandas/_libs/indexing.o -Wno-unused-function\" failed with exit status 1\r\n",
      "  \u001b[31m   \u001b[0m \u001b[31m[end of output]\u001b[0m\r\n",
      "  \r\n",
      "  \u001b[1;35mnote\u001b[0m: This error originates from a subprocess, and is likely not a problem with pip.\r\n",
      "\u001b[31m  ERROR: Failed building wheel for pandas\u001b[0m\u001b[31m\r\n",
      "\u001b[0m\u001b[?25h  Running setup.py clean for pandas\r\n"
     ]
    },
    {
     "name": "stdout",
     "output_type": "stream",
     "text": [
      "  Building wheel for portpicker (setup.py) ... \u001b[?25ldone\n",
      "\u001b[?25h  Created wheel for portpicker: filename=portpicker-1.2.0-py3-none-any.whl size=13384 sha256=4f46d6778d815c7229c9c16b95a0c92e8138b1499ef13ead4e0187099f362077\n",
      "  Stored in directory: /home/tony/.cache/pip/wheels/4e/19/2c/b772a272d0977b112ee6559cf6ce2390fb68b670940847770f\n",
      "  Building wheel for tornado (setup.py) ... \u001b[?25ldone\n",
      "\u001b[?25h  Created wheel for tornado: filename=tornado-4.5.3-cp310-cp310-linux_x86_64.whl size=428017 sha256=78f2ceeb0e4cac66677e567506ec94997cb823d52a2f9253314ff6398d1bb0a7\n",
      "  Stored in directory: /home/tony/.cache/pip/wheels/7a/fc/0f/8294151792cdc6cd7041df1467dbb536b4cff20d161d58501c\n",
      "  Building wheel for simplegeneric (setup.py) ... \u001b[?25ldone\n",
      "\u001b[?25h  Created wheel for simplegeneric: filename=simplegeneric-0.8.1-py3-none-any.whl size=5078 sha256=5fe5b572ccd374fa4093ba3e4b6dc725ecb38b96829604553204f4a2169f3f81\n",
      "  Stored in directory: /home/tony/.cache/pip/wheels/6a/88/e8/d4f4d830f0edaf91815bd9714e65b3c57ebc95c4ddfc6416a6\n",
      "Successfully built google.colab portpicker tornado simplegeneric\n",
      "Failed to build pandas\n",
      "Installing collected packages: tornado, simplegeneric, portpicker, chardet, urllib3, six, pyasn1, idna, cachetools, rsa, requests, pyasn1-modules, prompt-toolkit, pandas, ipython, google-auth, ipykernel, notebook, google.colab\n",
      "  Attempting uninstall: urllib3\n",
      "    Found existing installation: urllib3 1.26.15\n",
      "    Uninstalling urllib3-1.26.15:\n",
      "      Successfully uninstalled urllib3-1.26.15\n",
      "  Attempting uninstall: pandas\n",
      "    Found existing installation: pandas 2.0.1\n",
      "    Uninstalling pandas-2.0.1:\n",
      "      Successfully uninstalled pandas-2.0.1\n",
      "  Running setup.py install for pandas ... \u001b[?25l\\"
     ]
    }
   ],
   "source": [
    "# utiliser cette cellule pour installer les librairies manquantes\n",
    "# pour cela il suffit de taper dans cette cellule : !pip install nom_librairie_manquante\n",
    "# d'exécuter la cellule et de relancer la cellule suivante pour voir si tout se passe bien\n",
    "# recommencer tant que toutes les librairies ne sont pas installées ...\n",
    "\n",
    "\n",
    "#!pip install ..\n",
    "#!pip install google.colab\n",
    "\n",
    "# ne pas oublier de relancer le kernel du notebook"
   ]
  },
  {
   "cell_type": "code",
   "execution_count": 2,
   "metadata": {
    "id": "gJXkCVWmMfvW"
   },
   "outputs": [],
   "source": [
    "# Importation des différentes librairies utiles pour le notebook\n",
    "\n",
    "#Sickit learn met régulièrement à jour des versions et \n",
    "#indique des futurs warnings. \n",
    "#ces deux lignes permettent de ne pas les afficher.\n",
    "import warnings\n",
    "warnings.filterwarnings(\"ignore\", category=FutureWarning)\n",
    "\n",
    "import pandas as pd\n",
    "import seaborn as sns\n",
    "import matplotlib.pyplot as plt\n",
    "import sys"
   ]
  },
  {
   "cell_type": "markdown",
   "metadata": {
    "id": "uJyoB1FiNAkI"
   },
   "source": [
    "Pour pouvoir lire et sauvegarder sur votre répertoire Google Drive, il est nécessaire de fournir une autorisation. Pour cela il suffit d'éxecuter la ligne suivante et de saisir le code donné par Google."
   ]
  },
  {
   "cell_type": "code",
   "execution_count": null,
   "metadata": {
    "colab": {
     "base_uri": "https://localhost:8080/"
    },
    "id": "vQZtvdqANBtj",
    "outputId": "8adb9cf5-bc33-4c36-810d-3ec69fca8310"
   },
   "outputs": [],
   "source": [
    "from google.colab import drive\n",
    "drive.mount('/content/gdrive/')"
   ]
  },
  {
   "cell_type": "markdown",
   "metadata": {
    "id": "wP2LKBzbNL6j"
   },
   "source": [
    "Corriger éventuellement la ligne ci-dessous pour mettre le chemin vers un répertoire spécifique dans votre répertoire google drive : "
   ]
  },
  {
   "cell_type": "code",
   "execution_count": null,
   "metadata": {
    "colab": {
     "base_uri": "https://localhost:8080/",
     "height": 54
    },
    "id": "q_EAJ-fVNNU7",
    "outputId": "0533dfb6-865c-4331-cb1b-867f5c674d44"
   },
   "outputs": [],
   "source": [
    "my_local_drive='/content/gdrive/My Drive/Colab Notebooks/ML_FDS'\n",
    "# Ajout du path pour les librairies, fonctions et données\n",
    "sys.path.append(my_local_drive)\n",
    "# Se positionner sur le répertoire associé\n",
    "%cd $my_local_drive\n",
    "\n",
    "%pwd"
   ]
  },
  {
   "cell_type": "markdown",
   "metadata": {
    "id": "wkSIFeb3NYyP"
   },
   "source": [
    "## **Travaux pratiques**"
   ]
  },
  {
   "cell_type": "markdown",
   "metadata": {
    "id": "bNH1jwatL4IP"
   },
   "source": [
    "**Lecture du fichier**  \n",
    "Récupérer le fichier titanic.csv et le mettre dans le répertoire Dataset.  \n",
    "Intégrer le contenu de ce fichier dans un dataframe pandas."
   ]
  },
  {
   "cell_type": "code",
   "execution_count": null,
   "metadata": {
    "colab": {
     "base_uri": "https://localhost:8080/",
     "height": 426
    },
    "id": "AfpyqnqTL4IP",
    "outputId": "4783abc4-631c-4e68-adbe-e8bb3a9f237d"
   },
   "outputs": [],
   "source": [
    "import pandas as pd\n",
    "\n",
    "#attention le séparateur est une tabulation\n",
    "df=pd.read_csv('Dataset/titanic.csv', sep='\\t')\n",
    "display (df.head())\n"
   ]
  },
  {
   "cell_type": "markdown",
   "metadata": {
    "id": "qbOEFhsVL4IR"
   },
   "source": [
    "## Analyse des données"
   ]
  },
  {
   "cell_type": "markdown",
   "metadata": {
    "id": "4u-pDJl1L4IS"
   },
   "source": [
    "L'objectif dans un premier temps est de se familiariser avec pandas pour obtenir des informations sur le jeu de données.  \n",
    "\n",
    "**Pandas**  \n",
    "\n",
    "Afficher la taille du dataframe, les six premières lignes, les trois dernières lignes et 5 lignes au hasard du dataframe."
   ]
  },
  {
   "cell_type": "code",
   "execution_count": null,
   "metadata": {
    "id": "mSG699-oL4IT"
   },
   "outputs": [],
   "source": [
    "\n",
    "\n",
    "\n",
    "\n",
    "\n",
    "\n",
    "\n"
   ]
  },
  {
   "cell_type": "markdown",
   "metadata": {
    "id": "gaInIBdML4IU"
   },
   "source": [
    "Donner les informations sur le cinquième passager"
   ]
  },
  {
   "cell_type": "code",
   "execution_count": null,
   "metadata": {
    "id": "KC-ohcdvL4IV"
   },
   "outputs": [],
   "source": [
    "\n",
    "\n",
    "\n",
    "\n",
    "\n"
   ]
  },
  {
   "cell_type": "markdown",
   "metadata": {
    "id": "VOhIf0uIL4IW"
   },
   "source": [
    "Donner toutes les informations sur les passagers compris entre les lignes 10 et 16 "
   ]
  },
  {
   "cell_type": "code",
   "execution_count": null,
   "metadata": {
    "id": "Jf4CTtwVL4IW"
   },
   "outputs": [],
   "source": [
    "\n",
    "\n",
    "\n"
   ]
  },
  {
   "cell_type": "markdown",
   "metadata": {
    "id": "Q7_6ARujL4IX"
   },
   "source": [
    "Donner les informations sur le passager dont le numéro (PassengerId) est 5"
   ]
  },
  {
   "cell_type": "code",
   "execution_count": null,
   "metadata": {
    "id": "mlnU1LfSL4IX"
   },
   "outputs": [],
   "source": [
    "\n",
    "\n",
    "\n"
   ]
  },
  {
   "cell_type": "markdown",
   "metadata": {
    "id": "8XEzmHCdL4IY"
   },
   "source": [
    "Indiquer les différentes informations associées aux colonnes (Nom des colonnes, type de la colonne, place prise par le dataframe, etc). "
   ]
  },
  {
   "cell_type": "code",
   "execution_count": null,
   "metadata": {
    "id": "fu27NtPtL4IZ"
   },
   "outputs": [],
   "source": [
    "\n",
    "\n",
    "\n"
   ]
  },
  {
   "cell_type": "markdown",
   "metadata": {
    "id": "bOf51MNrL4Ia"
   },
   "source": [
    "Quel est le type de la colonne *Name* ?"
   ]
  },
  {
   "cell_type": "code",
   "execution_count": null,
   "metadata": {
    "id": "b7ssITerL4Ia"
   },
   "outputs": [],
   "source": [
    "\n",
    "\n",
    "\n"
   ]
  },
  {
   "cell_type": "markdown",
   "metadata": {
    "id": "dWolKsv1L4Ib"
   },
   "source": [
    "Donner des statistiques de base du dataframe et préciser pourquoi Name n'apparait pas dans le résultat."
   ]
  },
  {
   "cell_type": "code",
   "execution_count": null,
   "metadata": {
    "id": "sOFq0r8WL4Ib"
   },
   "outputs": [],
   "source": [
    "\n",
    "\n",
    "\n"
   ]
  },
  {
   "cell_type": "markdown",
   "metadata": {
    "id": "kIDA6IKhL4Ib"
   },
   "source": [
    "Donner le nombre de survivants? Indication il faut compter combien de PassagerId ont survécu avec la fonction count. "
   ]
  },
  {
   "cell_type": "code",
   "execution_count": null,
   "metadata": {
    "id": "WSc0xY2TL4Id"
   },
   "outputs": [],
   "source": [
    "\n",
    "\n",
    "\n",
    "\n",
    "\n"
   ]
  },
  {
   "cell_type": "markdown",
   "metadata": {
    "id": "8j3cDq3JL4Ie"
   },
   "source": [
    "Donner par categorie male/female le nombre de personnes qui ont ou n'ont pas survécu. Indication utilisation d'un groupby."
   ]
  },
  {
   "cell_type": "code",
   "execution_count": null,
   "metadata": {
    "id": "t4ZTlAImL4Ie"
   },
   "outputs": [],
   "source": [
    "\n",
    "\n",
    "\n"
   ]
  },
  {
   "cell_type": "markdown",
   "metadata": {
    "id": "o5jn_ow3L4Ie"
   },
   "source": [
    "Donner par categorie de classe le nombre de personnes qui ont ou n'ont pas survécu."
   ]
  },
  {
   "cell_type": "code",
   "execution_count": null,
   "metadata": {
    "id": "4UOFumjpL4If"
   },
   "outputs": [],
   "source": [
    "\n",
    "\n",
    "\n"
   ]
  },
  {
   "cell_type": "markdown",
   "metadata": {
    "id": "53b1cEUuL4If"
   },
   "source": [
    "Donner par categorie de classe et de sexe le nombre de personnes qui ont ou n'ont pas survécu."
   ]
  },
  {
   "cell_type": "code",
   "execution_count": null,
   "metadata": {
    "id": "Z8lMcDFML4If"
   },
   "outputs": [],
   "source": [
    "\n",
    "\n",
    "\n"
   ]
  },
  {
   "cell_type": "markdown",
   "metadata": {
    "id": "3WJ3IqevL4Ig"
   },
   "source": [
    "Donner la liste des femmes qui ont survécu et dont l'age est supérieure à 30"
   ]
  },
  {
   "cell_type": "code",
   "execution_count": null,
   "metadata": {
    "id": "2anwQ8yjL4Ig"
   },
   "outputs": [],
   "source": [
    "\n",
    "\n",
    "\n",
    "\n"
   ]
  },
  {
   "cell_type": "markdown",
   "metadata": {
    "id": "H_xtTW0LL4Ig"
   },
   "source": [
    "Donner l'age max, min et moyen des personnes qui ont survécu"
   ]
  },
  {
   "cell_type": "code",
   "execution_count": null,
   "metadata": {
    "id": "iqCLg9f9L4Ih"
   },
   "outputs": [],
   "source": [
    "\n",
    "\n",
    "\n",
    "\n"
   ]
  },
  {
   "cell_type": "markdown",
   "metadata": {
    "id": "gRLqDrDmL4Ih"
   },
   "source": [
    "## Visualisation "
   ]
  },
  {
   "cell_type": "markdown",
   "metadata": {
    "id": "Ni7dnTthL4Ii"
   },
   "source": [
    "\n",
    "L'objectif est ici de visualiser quelques informations à l'aide de seaborn pour mettre en évidence les premières analyses précédentes.  \n",
    "\n",
    "Dans un premier temps à l'aide de seaborn et de la fonction countplot afficher le nombre de survivants et de non survivants"
   ]
  },
  {
   "cell_type": "code",
   "execution_count": null,
   "metadata": {
    "id": "Nd-a-zjGL4Ij"
   },
   "outputs": [],
   "source": [
    "import seaborn as sns\n",
    "import matplotlib.pyplot as plt\n",
    "\n",
    "\n",
    "\n"
   ]
  },
  {
   "cell_type": "markdown",
   "metadata": {
    "id": "dAjU9Q3NL4Ik"
   },
   "source": [
    "Afficher le nombre de catégorie male/female (attribut Sex) avec countplot."
   ]
  },
  {
   "cell_type": "code",
   "execution_count": null,
   "metadata": {
    "id": "m9Wq9N3_L4Ip"
   },
   "outputs": [],
   "source": [
    "\n",
    "\n",
    "\n"
   ]
  },
  {
   "cell_type": "markdown",
   "metadata": {
    "id": "FZvA55tnL4Iq"
   },
   "source": [
    "La commande suivante affiche les survivants ou non en fonction du sexe.  \n",
    "\n",
    "sns.factorplot(x='Survived', col='Sex', kind='count', data=df)  \n",
    "\n",
    "Essayer de l'utiliser et faire de même par rapport aux attributs Pclass et Embarked. Que pouvez vous déduire dans un premier temps sur les survivants ou non."
   ]
  },
  {
   "cell_type": "code",
   "execution_count": null,
   "metadata": {
    "id": "VBqHNkvoL4Ir"
   },
   "outputs": [],
   "source": [
    "\n",
    "\n",
    "\n",
    "\n",
    "\n"
   ]
  },
  {
   "cell_type": "markdown",
   "metadata": {
    "id": "9M8TYLKAL4Ir"
   },
   "source": [
    "Un peu plus loin sur l'analyse ...  \n",
    "\n",
    "Le code suivant permet de connaître la répartition par sexe et par classe :  \n",
    "g = sns.factorplot('Pclass', data=df, hue='Sex', kind='count')  \n",
    "g.set_xlabels('Class')\n",
    "\n",
    "Exécuter le code. Que constatez vous ? Faire la même chose pour Embarked"
   ]
  },
  {
   "cell_type": "code",
   "execution_count": null,
   "metadata": {
    "id": "euE-mSBZL4Is"
   },
   "outputs": [],
   "source": [
    "\n",
    "\n",
    "\n",
    "\n",
    "\n",
    "\n"
   ]
  },
  {
   "cell_type": "markdown",
   "metadata": {
    "id": "vqo6BBLBL4Is"
   },
   "source": [
    "A votre factor plot ajouter col='Survived' comme paramètre pour voir la répartition par rapport au sexe des passagers. Faites de même par rapport à Embarked."
   ]
  },
  {
   "cell_type": "code",
   "execution_count": null,
   "metadata": {
    "id": "LUbnKdrJL4Is"
   },
   "outputs": [],
   "source": [
    "\n",
    "\n",
    "\n",
    "\n",
    "\n",
    "\n"
   ]
  },
  {
   "cell_type": "markdown",
   "metadata": {
    "id": "Zdcl6GRZL4It"
   },
   "source": [
    "Créer la fonction suivante qui permet de créer des catégories en fonction de l'age des personnes.\n",
    "    Ajouter dans df une colonne 'Person' qui contient la valeur de cet attribut.  \n",
    "    \n",
    "    def male_female_age(passenger):  \n",
    "         age, sex = passenger  \n",
    "         if age < 5:  \n",
    "             return 'Baby'  \n",
    "         if age >= 5 and age < 12:  \n",
    "             return 'Child'  \n",
    "         if age >= 12 and age < 18:  \n",
    "             return 'Teneeger'  \n",
    "         if age >=18 and age < 35:  \n",
    "             return 'Young Adult'  \n",
    "         if age >= 35 and age < 60:  \n",
    "             return 'Adult'  \n",
    "         if age >= 60:  \n",
    "             return 'Senior'  \n",
    "         else:  \n",
    "             return sex  \n",
    "    \n",
    "    Rappel : pour appliquer une fonction à une colonne   \n",
    "        df[['Age', 'Sex']].apply(male_female_child, axis=1)\n",
    "        "
   ]
  },
  {
   "cell_type": "code",
   "execution_count": null,
   "metadata": {
    "id": "YJhycpN0L4Iu"
   },
   "outputs": [],
   "source": [
    "def male_female_age(passenger):\n",
    "    age, sex = passenger\n",
    "    if age < 5:\n",
    "        return 'Baby'\n",
    "    if age >= 5 and age < 12:\n",
    "        return 'Child'\n",
    "    if age >= 12 and age < 18:\n",
    "        return 'Teneeger'\n",
    "    if age >=18 and age < 35:\n",
    "        return 'Young Adult'\n",
    "    if age >= 35 and age < 60:\n",
    "        return 'Adult'\n",
    "    if age >= 60:\n",
    "        return 'Senior'\n",
    "    else:\n",
    "        return sex"
   ]
  },
  {
   "cell_type": "code",
   "execution_count": null,
   "metadata": {
    "id": "9EMocDSbL4Iu"
   },
   "outputs": [],
   "source": [
    "\n",
    "\n",
    "\n",
    "\n",
    "\n",
    "\n"
   ]
  },
  {
   "cell_type": "markdown",
   "metadata": {
    "id": "b_Sfc-VCL4Iv"
   },
   "source": [
    "Sur vos factorplot précédents remplacer hue='Sex' par hue='Person' et relancer les. Que constatez vous ? "
   ]
  },
  {
   "cell_type": "code",
   "execution_count": null,
   "metadata": {
    "id": "NXFER1ftL4Iv"
   },
   "outputs": [],
   "source": [
    "\n",
    "\n",
    "\n",
    "\n",
    "\n"
   ]
  },
  {
   "cell_type": "markdown",
   "metadata": {
    "id": "jIZ7rY6YL4Iv"
   },
   "source": [
    "Enfin regarder la répartition pour les embarquements et les classes."
   ]
  },
  {
   "cell_type": "code",
   "execution_count": null,
   "metadata": {
    "id": "gwm8s4etL4Iv"
   },
   "outputs": [],
   "source": [
    "\n",
    "\n",
    "\n",
    "\n",
    "\n"
   ]
  },
  {
   "cell_type": "markdown",
   "metadata": {
    "id": "Np2hFV-CL4Iv"
   },
   "source": [
    "Quelques informations sur la distribution. A l'aide de displot afficher la distribution de Pclass et de Fare."
   ]
  },
  {
   "cell_type": "code",
   "execution_count": null,
   "metadata": {
    "id": "yvSguRVcL4Iv"
   },
   "outputs": [],
   "source": [
    "\n",
    "\n",
    "\n",
    "\n",
    "\n"
   ]
  },
  {
   "cell_type": "code",
   "execution_count": null,
   "metadata": {
    "id": "rLbM3RnxL4Iw"
   },
   "outputs": [],
   "source": [
    "\n",
    "\n",
    "\n",
    "\n",
    "\n",
    "\n"
   ]
  },
  {
   "cell_type": "markdown",
   "metadata": {
    "id": "RHaGGjJqL4Iw"
   },
   "source": [
    "Afficher à l'aide de la fonction boxplot une boîte à moustache pour Pclass et Fare.\n",
    "\n"
   ]
  },
  {
   "cell_type": "code",
   "execution_count": null,
   "metadata": {
    "id": "JJjm7vT1L4Iw"
   },
   "outputs": [],
   "source": [
    "\n",
    "\n",
    "\n"
   ]
  },
  {
   "cell_type": "code",
   "execution_count": null,
   "metadata": {
    "id": "ljwgiiO7L4Iw"
   },
   "outputs": [],
   "source": [
    "\n",
    "\n",
    "\n",
    "\n"
   ]
  },
  {
   "cell_type": "markdown",
   "metadata": {
    "id": "UBcTfZLsL4Ix"
   },
   "source": [
    "Faire les mêmes opérations à l'aide de la fonction violinplot.  \n",
    "Rappel : elle offre les mêmes fonctionnalités que les boîtes à moustache mais en plus offre des informations sur une estimation de la densité. "
   ]
  },
  {
   "cell_type": "code",
   "execution_count": null,
   "metadata": {
    "id": "TzNI-faZL4Ix"
   },
   "outputs": [],
   "source": [
    "\n",
    "\n",
    "\n",
    "\n"
   ]
  },
  {
   "cell_type": "code",
   "execution_count": null,
   "metadata": {
    "id": "rF2S8ejZL4Ix"
   },
   "outputs": [],
   "source": [
    "\n",
    "\n"
   ]
  },
  {
   "cell_type": "markdown",
   "metadata": {
    "id": "2s9aYWxqL4Ix"
   },
   "source": [
    "A présent, considérons l'age des personnes. A l'aide de displot afficher l'histogramme de distribution des ages avec le code suivant :  \n",
    "\n",
    "age_dist=sns.distplot(df[\"Age\"])  \n",
    "age_dist.set_title(\"Distribution des ages\")  \n",
    "\n",
    "Que se passe-t'il ? \n"
   ]
  },
  {
   "cell_type": "markdown",
   "metadata": {
    "id": "due-I00AL4Ix"
   },
   "source": [
    "Une erreur est levée \"cannot convert float NaN to integer\". NaN indique la présence de valeurs manquantes dans le jeu de données."
   ]
  },
  {
   "cell_type": "markdown",
   "metadata": {
    "id": "0sBzue93L4Ix"
   },
   "source": [
    "## Ingénierie des données "
   ]
  },
  {
   "cell_type": "markdown",
   "metadata": {
    "id": "MrIAQDX6L4Iy"
   },
   "source": [
    "**Traitement des valeurs manquantes**\n",
    "\n",
    "Créer un nouveau dataframe df2 (pour créer un dataframe sans modifier le dataframe initial il faut en faire une copie : df2=df.copy()).   \n",
    "\n"
   ]
  },
  {
   "cell_type": "code",
   "execution_count": null,
   "metadata": {
    "id": "KSCIiZgXL4Iy"
   },
   "outputs": [],
   "source": [
    "df2=df.copy()"
   ]
  },
  {
   "cell_type": "markdown",
   "metadata": {
    "id": "2pyeaSSbL4Iy"
   },
   "source": [
    "Donner la liste des colonnes pour lesquelles il y a des valeurs manquantes. Pour tester si une valeur est manquante, il est possible pour un dataframe d'utiliser pour une colonne la fonction isnull(). Attention celle-ci retourne un dataframe. Elle doit être suivie par any() pour avoir un booléen :  \n",
    "        \n",
    "        df ['colonne'].isnull().any()"
   ]
  },
  {
   "cell_type": "code",
   "execution_count": null,
   "metadata": {
    "id": "JMn4jfY-L4Iy",
    "scrolled": false
   },
   "outputs": [],
   "source": [
    "\n",
    "\n",
    "\n",
    "\n",
    "\n"
   ]
  },
  {
   "cell_type": "markdown",
   "metadata": {
    "id": "kLXLY9TgL4Iy"
   },
   "source": [
    "Il est également possible d'afficher l'ensemble des données qui contiennent des valeurs NaN de la manière suivante : \n",
    "    \n",
    "        \n",
    "sns.heatmap(df.isnull(), cbar=False)"
   ]
  },
  {
   "cell_type": "code",
   "execution_count": null,
   "metadata": {
    "id": "aObqKTiKL4Iy"
   },
   "outputs": [],
   "source": [
    "sns.heatmap(df2.isnull(), cbar=False)"
   ]
  },
  {
   "cell_type": "markdown",
   "metadata": {
    "id": "vAkRejjfL4Iy"
   },
   "source": [
    "Afficher le nombre de valeurs nulles Embarked, Cabin et Sex.\n"
   ]
  },
  {
   "cell_type": "code",
   "execution_count": null,
   "metadata": {
    "id": "AAsDeAKcL4Iz"
   },
   "outputs": [],
   "source": [
    "\n",
    "\n",
    "\n",
    "\n",
    "\n"
   ]
  },
  {
   "cell_type": "markdown",
   "metadata": {
    "id": "oJ4VJL2nL4Iz"
   },
   "source": [
    "Remplacer les valeurs nulles de l'age par la moyenne des ages des passagers. Penser à vérifier que la transformation a bien été effectuée."
   ]
  },
  {
   "cell_type": "code",
   "execution_count": null,
   "metadata": {
    "id": "ooJg9dtVL4Iz"
   },
   "outputs": [],
   "source": [
    "\n",
    "\n",
    "\n",
    "\n",
    "\n",
    "\n",
    "\n"
   ]
  },
  {
   "cell_type": "markdown",
   "metadata": {
    "id": "dESH7zQYL4Iz"
   },
   "source": [
    "Supprimer tous les enregistrements qui contiennent encore une valeur nulle."
   ]
  },
  {
   "cell_type": "code",
   "execution_count": null,
   "metadata": {
    "id": "fHl-GbE1L4I0"
   },
   "outputs": [],
   "source": [
    "\n",
    "\n",
    "\n",
    "\n",
    "\n",
    "\n",
    "\n"
   ]
  },
  {
   "cell_type": "markdown",
   "metadata": {
    "id": "7NQsLcdnL4I0"
   },
   "source": [
    "Utiliser sns.heatmap(df.isnull(), cbar=False) sur votre dataframe pour vérifier qu'il n'y a plus de valeurs nulles. "
   ]
  },
  {
   "cell_type": "code",
   "execution_count": null,
   "metadata": {
    "id": "Ij7A_1xYL4I0"
   },
   "outputs": [],
   "source": [
    "\n",
    "\n",
    "\n",
    "\n",
    "\n"
   ]
  },
  {
   "cell_type": "markdown",
   "metadata": {
    "id": "sJS5zislL4I1"
   },
   "source": [
    "Quelle est la taille de votre dataframa à présent ? Comparer le à la taille initiale."
   ]
  },
  {
   "cell_type": "code",
   "execution_count": null,
   "metadata": {
    "id": "pagTlESHL4I1"
   },
   "outputs": [],
   "source": [
    "\n",
    "\n",
    "\n"
   ]
  },
  {
   "cell_type": "markdown",
   "metadata": {
    "id": "e5tFpAiTL4I1"
   },
   "source": [
    "En fait en supprimant les valeurs manquantes de cabines de trop nombreux enregristrements ont été effacés. Nous pouvons constater qu'il y a beaucoup de valeurs manquantes pour Cabin et que dans tous les cas elle ne va donc pas pouvoir aider à faire de la classification.  \n",
    "\n",
    "Créer un nouveau dataframe df3=df.copy().  \n",
    "Remplacer la valeur d'age par la médiane.  \n",
    "Par simplification, supprimer la colonne Cabin.  \n",
    "Rappel : pour supprimer une colonne df.drop('Nom colonne',1). Effacer les autres valeurs manquantes.   \n",
    "Enfin, supprimer toutes les valeurs manquantes.  \n",
    "\n",
    "Vérifier à l'aide de heatmap que votre jeu de données n'a plus de valeurs manquantes. Indiquer la taille du jeu de données. \n"
   ]
  },
  {
   "cell_type": "code",
   "execution_count": null,
   "metadata": {
    "id": "ofT38jKkL4I1"
   },
   "outputs": [],
   "source": [
    "\n",
    "\n",
    "\n",
    "\n",
    "\n",
    "\n",
    "\n",
    "\n",
    "\n",
    "\n"
   ]
  },
  {
   "cell_type": "markdown",
   "metadata": {
    "id": "vSVrk6VyL4I1"
   },
   "source": [
    "Afficher à présent l'histogramme des ages."
   ]
  },
  {
   "cell_type": "code",
   "execution_count": null,
   "metadata": {
    "id": "jtmplPSJL4I1"
   },
   "outputs": [],
   "source": [
    "\n",
    "\n",
    "\n",
    "\n"
   ]
  },
  {
   "cell_type": "markdown",
   "metadata": {
    "id": "50_eXHsXL4I2"
   },
   "source": [
    "**Suppression des colonnes inutiles**\n",
    "\n",
    "Dans cette étape il convient de supprimer les colonnes qui ne seront pas utiles pour la classification. \n",
    "La question à se poser est pour chaque colonne : est ce que cela a un sens de la conserver ?   \n",
    "Il faut faire des choix qui peut être auront une conséquence sur la classification !!\n",
    "    \n",
    "Dans le jeu de données nous voyons qu'il n'y a sans doute pas d'intérêt de conserver le numéro de ticket car il ne semble pas qu'il y ait un codage particulier.  \n",
    "Le nom des passager semble inutile. Pourtant si l'on regarde un peu attentivement (df3.display()) on peut se rendre compte qu'il existe des titres différents (Mr., Master, Miss, Rev., Mrs. etc) qui pourraient avoir un impact sur la classification.  \n",
    "L'identifiant du passager n'apporte pas d'information.  \n",
    "\n",
    "Effacer les différentes colonnes : 'Ticket', 'Name' et 'PassengerId'.\n",
    "\n",
    "    "
   ]
  },
  {
   "cell_type": "code",
   "execution_count": null,
   "metadata": {
    "id": "G4rQtFc6L4I2"
   },
   "outputs": [],
   "source": [
    "\n",
    "\n",
    "\n"
   ]
  },
  {
   "cell_type": "markdown",
   "metadata": {
    "id": "-7Ueer1oL4I2"
   },
   "source": [
    "Un petit retour sur la colonne Person.  \n",
    "A l'aide de display(df3.iloc[131] que constatez vous ? "
   ]
  },
  {
   "cell_type": "code",
   "execution_count": null,
   "metadata": {
    "id": "h6GPHIqYL4I2"
   },
   "outputs": [],
   "source": [
    "\n",
    "\n",
    "\n"
   ]
  },
  {
   "cell_type": "markdown",
   "metadata": {
    "id": "CwkSEQ06L4I2"
   },
   "source": [
    "La fonction ayant été appliquée avant le traitement des valeurs manquantes toutes celles qui étaient manquantes ont été remplacées par le sexe de la personne. Supprimer la colonne Person."
   ]
  },
  {
   "cell_type": "code",
   "execution_count": null,
   "metadata": {
    "id": "JaoSA-RKL4I2"
   },
   "outputs": [],
   "source": [
    "\n",
    "\n",
    "\n"
   ]
  },
  {
   "cell_type": "markdown",
   "metadata": {
    "id": "hkM3YIYAL4I3"
   },
   "source": [
    "**Attributs continus**\n",
    "\n",
    "Il y a deux attributs continus dans le jeu de données. Age et Fare.  \n",
    "\n",
    "Transformer à l'aide de la fonction cut l'attribut Age de manière à ce que les valeurs puissent prendre en compte les valeurs suivantes : \n",
    "   bins = (0, 5, 12, 18, 25, 35, 60, 120)  \n",
    "   group_names = ['Baby', 'Child', 'Teenager', 'Student', 'Young Adult', 'Adult', 'Senior']   \n",
    "\n",
    "Transformer à l'aide de la fonction cut l'attribut Fare de manière à ce que les valeurs puissent prendre en compte les valeurs suivantes : \n",
    "    bins = (0, 8, 15, 31, 1000)  \n",
    "    group_names = ['1_quartile', '2_quartile', '3_quartile', '4_quartile']\n",
    "\n"
   ]
  },
  {
   "cell_type": "code",
   "execution_count": null,
   "metadata": {
    "id": "riyWr4XvL4I3"
   },
   "outputs": [],
   "source": [
    "\n",
    "\n",
    "\n",
    "\n",
    "\n",
    "\n",
    "\n"
   ]
  },
  {
   "cell_type": "markdown",
   "metadata": {
    "id": "8_TRWcHwL4I3"
   },
   "source": [
    "**Attribut catégoriel**\n",
    "\n",
    "\n",
    "Pour connaître les attributs catégoriels faire un df.info(). Les attributs catégoriels apparaissent avec comme type object ou category."
   ]
  },
  {
   "cell_type": "code",
   "execution_count": null,
   "metadata": {
    "id": "OWneY1ofL4I3"
   },
   "outputs": [],
   "source": [
    "\n",
    "print (df3.info())"
   ]
  },
  {
   "cell_type": "markdown",
   "metadata": {
    "id": "t639gkVIL4I3"
   },
   "source": [
    "Il y a 4 attributs catégoriels à présent dans le jeu de données. Pour chacun d'entre eux transformer les en valeur numérique à l'aide de la fonction LabelEncoder()."
   ]
  },
  {
   "cell_type": "code",
   "execution_count": null,
   "metadata": {
    "id": "5tOEUGUML4I3"
   },
   "outputs": [],
   "source": [
    "\n",
    "\n",
    "\n",
    "\n",
    "\n",
    "\n",
    "\n"
   ]
  },
  {
   "cell_type": "markdown",
   "metadata": {
    "id": "fL0ghej2L4I4"
   },
   "source": [
    "## Sauvegarde du fichier transformé "
   ]
  },
  {
   "cell_type": "markdown",
   "metadata": {
    "id": "mqkiI0PZL4I4"
   },
   "source": [
    "A présent sauvegarder le fichier modifié en titanic2.csv avec comme tabulateur des ';' en conservant l'entête."
   ]
  },
  {
   "cell_type": "code",
   "execution_count": null,
   "metadata": {
    "id": "pjpeQBvFL4I-"
   },
   "outputs": [],
   "source": [
    "\n",
    "\n",
    "\n",
    "\n",
    "\n",
    "\n"
   ]
  },
  {
   "cell_type": "markdown",
   "metadata": {
    "id": "su_N1j9yL4I_"
   },
   "source": [
    "Vérifier que votre fichier a été correctement sauvegardé. "
   ]
  },
  {
   "cell_type": "code",
   "execution_count": null,
   "metadata": {
    "id": "xUFT7tOVL4I_"
   },
   "outputs": [],
   "source": [
    "df=pd.read_csv('titanic2.csv', sep=';')\n",
    "df.head()"
   ]
  }
 ],
 "metadata": {
  "colab": {
   "name": "TP1_HAI817I.ipynb",
   "provenance": []
  },
  "kernelspec": {
   "display_name": "Python 3 (ipykernel)",
   "language": "python",
   "name": "python3"
  },
  "language_info": {
   "codemirror_mode": {
    "name": "ipython",
    "version": 3
   },
   "file_extension": ".py",
   "mimetype": "text/x-python",
   "name": "python",
   "nbconvert_exporter": "python",
   "pygments_lexer": "ipython3",
   "version": "3.10.12"
  }
 },
 "nbformat": 4,
 "nbformat_minor": 1
}
